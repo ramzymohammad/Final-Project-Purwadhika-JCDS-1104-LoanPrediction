{
 "cells": [
  {
   "cell_type": "markdown",
   "id": "positive-intro",
   "metadata": {},
   "source": [
    "# HOME EQUITY LOAN"
   ]
  },
  {
   "cell_type": "markdown",
   "id": "large-leeds",
   "metadata": {},
   "source": [
    "## MODEL OPTIMATION"
   ]
  },
  {
   "cell_type": "markdown",
   "id": "growing-citizen",
   "metadata": {},
   "source": [
    "### Ramzy Mohammad\n",
    "\n",
    "**Dataset:** Home Equity Loan Dataset | **Source:** http://www.creditriskanalytics.net/datasets-private2.html\n",
    "\n",
    "\n",
    "The data set HMEQ reports characteristics and delinquency information for 5,960 home equity loans. A home equity loan is a loan where the obligor uses the equity of his or her home as the underlying collateral. The data set has the following characteristics:<br>\n",
    "<br>\n",
    "<br>\n",
    "◾ BAD: 1 = applicant defaulted on loan or seriously delinquent; 0 = applicant paid loan <br>\n",
    "◾ LOAN: Amount of the loan request <br>\n",
    "◾ MORTDUE: Amount due on existing mortgage <br>\n",
    "◾ VALUE: Value of current property <br>\n",
    "◾ REASON: DebtCon = debt consolidation; HomeImp = home improvement <br>\n",
    "◾ JOB: Occupational categories <br>\n",
    "◾ YOJ: Years at present job <br>\n",
    "◾ DEROG: Number of major derogatory reports <br>\n",
    "◾ DELINQ: Number of delinquent credit lines <br>\n",
    "◾ CLAGE: Age of oldest credit line in months <br>\n",
    "◾ NINQ: Number of recent credit inquiries <br>\n",
    "◾ CLNO: Number of credit lines <br>\n",
    "◾ DEBTINC: Debt-to-income ratio"
   ]
  },
  {
   "cell_type": "markdown",
   "id": "single-dominant",
   "metadata": {},
   "source": [
    " **Home Equity Loan** - adalah pinjaman di mana peminjam menggunakan ekuitas rumah mereka sebagai jaminan. Pinjaman ini memungkinkan Anda untuk meminjam sejumlah besar uang tunai berdasarkan nilai rumah Anda, yang ditentukan oleh penilai, dan ekuitas Anda saat ini.\n",
    "\n",
    "Pinjaman ekuitas tersedia sebagai pinjaman dengan suku bunga tetap atau yang dapat disesuaikan dan datang dengan jumlah waktu tertentu untuk melunasi hutang, biasanya antara 5 dan 30 tahun. Anda akan membayar biaya penutupan, tetapi itu akan jauh lebih sedikit daripada apa yang Anda bayar pada hipotek penuh khas. HEL dengan suku bunga tetap juga menawarkan prediksi suku bunga reguler sejak awal, yang disukai beberapa peminjam.\n",
    "\n"
   ]
  },
  {
   "cell_type": "markdown",
   "id": "recent-wholesale",
   "metadata": {},
   "source": [
    "# IMPORT LIBRARY"
   ]
  },
  {
   "cell_type": "code",
   "execution_count": 1,
   "id": "brutal-fever",
   "metadata": {},
   "outputs": [
    {
     "name": "stderr",
     "output_type": "stream",
     "text": [
      "C:\\Users\\ASUS\\Anaconda3\\lib\\site-packages\\outdated\\utils.py:18: OutdatedPackageWarning: The package pingouin is out of date. Your version is 0.3.8, the latest is 0.3.10.\n",
      "Set the environment variable OUTDATED_IGNORE=1 to disable these warnings.\n",
      "  **kwargs\n"
     ]
    }
   ],
   "source": [
    "import pandas as pd\n",
    "import numpy as np\n",
    "\n",
    "import seaborn as sns\n",
    "import matplotlib.pyplot as plt\n",
    "\n",
    "from sklearn.preprocessing import PolynomialFeatures\n",
    "from sklearn.ensemble import RandomForestClassifier, VotingClassifier\n",
    "from imblearn.over_sampling import RandomOverSampler, SMOTE\n",
    "from sklearn.model_selection import RandomizedSearchCV\n",
    "from sklearn.decomposition import PCA\n",
    "\n",
    "from sklearn.ensemble import AdaBoostClassifier\n",
    "from sklearn.ensemble import GradientBoostingClassifier\n",
    "# from xgboost.sklearn import XGBClassifier\n",
    "\n",
    "from sklearn.preprocessing import StandardScaler\n",
    "from sklearn.model_selection import train_test_split\n",
    "from sklearn.model_selection import cross_val_score, StratifiedKFold\n",
    "from sklearn.linear_model import LogisticRegression\n",
    "from sklearn.neighbors import KNeighborsClassifier\n",
    "from sklearn.tree import DecisionTreeClassifier\n",
    "# from sklearn.pipeline import Pipeline\n",
    "from sklearn.impute import SimpleImputer\n",
    "from sklearn.feature_selection import RFE\n",
    "from sklearn.model_selection import GridSearchCV, StratifiedKFold\n",
    "from sklearn.preprocessing import OneHotEncoder\n",
    "from sklearn.compose import ColumnTransformer\n",
    "\n",
    "import category_encoders as ce\n",
    "\n",
    "from imblearn.pipeline import Pipeline\n",
    "from imblearn.over_sampling import RandomOverSampler, SMOTE\n",
    "from imblearn.under_sampling import RandomUnderSampler\n",
    "\n",
    "from scipy.stats import mannwhitneyu\n",
    "\n",
    "import pingouin as pg\n",
    "\n",
    "from sklearn.metrics import confusion_matrix, classification_report, f1_score, recall_score, precision_score, plot_confusion_matrix, plot_roc_curve, roc_curve\n",
    "from sklearn.metrics import precision_recall_curve\n",
    "from sklearn.metrics import plot_precision_recall_curve\n",
    "import matplotlib.pyplot as plt\n"
   ]
  },
  {
   "cell_type": "markdown",
   "id": "southeast-charity",
   "metadata": {},
   "source": [
    "# LOAD DATA"
   ]
  },
  {
   "cell_type": "code",
   "execution_count": 4,
   "id": "technological-carter",
   "metadata": {},
   "outputs": [],
   "source": [
    "df = pd.read_csv('hmeq.csv')"
   ]
  },
  {
   "cell_type": "code",
   "execution_count": 5,
   "id": "satisfactory-momentum",
   "metadata": {},
   "outputs": [
    {
     "data": {
      "text/html": [
       "<div>\n",
       "<style scoped>\n",
       "    .dataframe tbody tr th:only-of-type {\n",
       "        vertical-align: middle;\n",
       "    }\n",
       "\n",
       "    .dataframe tbody tr th {\n",
       "        vertical-align: top;\n",
       "    }\n",
       "\n",
       "    .dataframe thead th {\n",
       "        text-align: right;\n",
       "    }\n",
       "</style>\n",
       "<table border=\"1\" class=\"dataframe\">\n",
       "  <thead>\n",
       "    <tr style=\"text-align: right;\">\n",
       "      <th></th>\n",
       "      <th>BAD</th>\n",
       "      <th>LOAN</th>\n",
       "      <th>MORTDUE</th>\n",
       "      <th>VALUE</th>\n",
       "      <th>REASON</th>\n",
       "      <th>JOB</th>\n",
       "      <th>YOJ</th>\n",
       "      <th>DEROG</th>\n",
       "      <th>DELINQ</th>\n",
       "      <th>CLAGE</th>\n",
       "      <th>NINQ</th>\n",
       "      <th>CLNO</th>\n",
       "      <th>DEBTINC</th>\n",
       "    </tr>\n",
       "  </thead>\n",
       "  <tbody>\n",
       "    <tr>\n",
       "      <th>0</th>\n",
       "      <td>1</td>\n",
       "      <td>1100</td>\n",
       "      <td>25860.0</td>\n",
       "      <td>39025.0</td>\n",
       "      <td>HomeImp</td>\n",
       "      <td>Other</td>\n",
       "      <td>10.5</td>\n",
       "      <td>0.0</td>\n",
       "      <td>0.0</td>\n",
       "      <td>94.366667</td>\n",
       "      <td>1.0</td>\n",
       "      <td>9.0</td>\n",
       "      <td>NaN</td>\n",
       "    </tr>\n",
       "    <tr>\n",
       "      <th>1</th>\n",
       "      <td>1</td>\n",
       "      <td>1300</td>\n",
       "      <td>70053.0</td>\n",
       "      <td>68400.0</td>\n",
       "      <td>HomeImp</td>\n",
       "      <td>Other</td>\n",
       "      <td>7.0</td>\n",
       "      <td>0.0</td>\n",
       "      <td>2.0</td>\n",
       "      <td>121.833333</td>\n",
       "      <td>0.0</td>\n",
       "      <td>14.0</td>\n",
       "      <td>NaN</td>\n",
       "    </tr>\n",
       "    <tr>\n",
       "      <th>2</th>\n",
       "      <td>1</td>\n",
       "      <td>1500</td>\n",
       "      <td>13500.0</td>\n",
       "      <td>16700.0</td>\n",
       "      <td>HomeImp</td>\n",
       "      <td>Other</td>\n",
       "      <td>4.0</td>\n",
       "      <td>0.0</td>\n",
       "      <td>0.0</td>\n",
       "      <td>149.466667</td>\n",
       "      <td>1.0</td>\n",
       "      <td>10.0</td>\n",
       "      <td>NaN</td>\n",
       "    </tr>\n",
       "    <tr>\n",
       "      <th>3</th>\n",
       "      <td>1</td>\n",
       "      <td>1500</td>\n",
       "      <td>NaN</td>\n",
       "      <td>NaN</td>\n",
       "      <td>NaN</td>\n",
       "      <td>NaN</td>\n",
       "      <td>NaN</td>\n",
       "      <td>NaN</td>\n",
       "      <td>NaN</td>\n",
       "      <td>NaN</td>\n",
       "      <td>NaN</td>\n",
       "      <td>NaN</td>\n",
       "      <td>NaN</td>\n",
       "    </tr>\n",
       "    <tr>\n",
       "      <th>4</th>\n",
       "      <td>0</td>\n",
       "      <td>1700</td>\n",
       "      <td>97800.0</td>\n",
       "      <td>112000.0</td>\n",
       "      <td>HomeImp</td>\n",
       "      <td>Office</td>\n",
       "      <td>3.0</td>\n",
       "      <td>0.0</td>\n",
       "      <td>0.0</td>\n",
       "      <td>93.333333</td>\n",
       "      <td>0.0</td>\n",
       "      <td>14.0</td>\n",
       "      <td>NaN</td>\n",
       "    </tr>\n",
       "  </tbody>\n",
       "</table>\n",
       "</div>"
      ],
      "text/plain": [
       "   BAD  LOAN  MORTDUE     VALUE   REASON     JOB   YOJ  DEROG  DELINQ  \\\n",
       "0    1  1100  25860.0   39025.0  HomeImp   Other  10.5    0.0     0.0   \n",
       "1    1  1300  70053.0   68400.0  HomeImp   Other   7.0    0.0     2.0   \n",
       "2    1  1500  13500.0   16700.0  HomeImp   Other   4.0    0.0     0.0   \n",
       "3    1  1500      NaN       NaN      NaN     NaN   NaN    NaN     NaN   \n",
       "4    0  1700  97800.0  112000.0  HomeImp  Office   3.0    0.0     0.0   \n",
       "\n",
       "        CLAGE  NINQ  CLNO  DEBTINC  \n",
       "0   94.366667   1.0   9.0      NaN  \n",
       "1  121.833333   0.0  14.0      NaN  \n",
       "2  149.466667   1.0  10.0      NaN  \n",
       "3         NaN   NaN   NaN      NaN  \n",
       "4   93.333333   0.0  14.0      NaN  "
      ]
     },
     "execution_count": 5,
     "metadata": {},
     "output_type": "execute_result"
    }
   ],
   "source": [
    "df.head()"
   ]
  },
  {
   "cell_type": "code",
   "execution_count": 4,
   "id": "immune-feelings",
   "metadata": {},
   "outputs": [
    {
     "data": {
      "text/html": [
       "<div>\n",
       "<style scoped>\n",
       "    .dataframe tbody tr th:only-of-type {\n",
       "        vertical-align: middle;\n",
       "    }\n",
       "\n",
       "    .dataframe tbody tr th {\n",
       "        vertical-align: top;\n",
       "    }\n",
       "\n",
       "    .dataframe thead th {\n",
       "        text-align: right;\n",
       "    }\n",
       "</style>\n",
       "<table border=\"1\" class=\"dataframe\">\n",
       "  <thead>\n",
       "    <tr style=\"text-align: right;\">\n",
       "      <th></th>\n",
       "      <th>BAD</th>\n",
       "      <th>LOAN</th>\n",
       "      <th>MORTDUE</th>\n",
       "      <th>VALUE</th>\n",
       "      <th>YOJ</th>\n",
       "      <th>DEROG</th>\n",
       "      <th>DELINQ</th>\n",
       "      <th>CLAGE</th>\n",
       "      <th>NINQ</th>\n",
       "      <th>CLNO</th>\n",
       "      <th>DEBTINC</th>\n",
       "    </tr>\n",
       "  </thead>\n",
       "  <tbody>\n",
       "    <tr>\n",
       "      <th>count</th>\n",
       "      <td>5960.000000</td>\n",
       "      <td>5960.000000</td>\n",
       "      <td>5442.000000</td>\n",
       "      <td>5848.000000</td>\n",
       "      <td>5445.000000</td>\n",
       "      <td>5252.000000</td>\n",
       "      <td>5380.000000</td>\n",
       "      <td>5652.000000</td>\n",
       "      <td>5450.000000</td>\n",
       "      <td>5738.000000</td>\n",
       "      <td>4693.000000</td>\n",
       "    </tr>\n",
       "    <tr>\n",
       "      <th>mean</th>\n",
       "      <td>0.199497</td>\n",
       "      <td>18607.969799</td>\n",
       "      <td>73760.817200</td>\n",
       "      <td>101776.048741</td>\n",
       "      <td>8.922268</td>\n",
       "      <td>0.254570</td>\n",
       "      <td>0.449442</td>\n",
       "      <td>179.766275</td>\n",
       "      <td>1.186055</td>\n",
       "      <td>21.296096</td>\n",
       "      <td>33.779915</td>\n",
       "    </tr>\n",
       "    <tr>\n",
       "      <th>std</th>\n",
       "      <td>0.399656</td>\n",
       "      <td>11207.480417</td>\n",
       "      <td>44457.609458</td>\n",
       "      <td>57385.775334</td>\n",
       "      <td>7.573982</td>\n",
       "      <td>0.846047</td>\n",
       "      <td>1.127266</td>\n",
       "      <td>85.810092</td>\n",
       "      <td>1.728675</td>\n",
       "      <td>10.138933</td>\n",
       "      <td>8.601746</td>\n",
       "    </tr>\n",
       "    <tr>\n",
       "      <th>min</th>\n",
       "      <td>0.000000</td>\n",
       "      <td>1100.000000</td>\n",
       "      <td>2063.000000</td>\n",
       "      <td>8000.000000</td>\n",
       "      <td>0.000000</td>\n",
       "      <td>0.000000</td>\n",
       "      <td>0.000000</td>\n",
       "      <td>0.000000</td>\n",
       "      <td>0.000000</td>\n",
       "      <td>0.000000</td>\n",
       "      <td>0.524499</td>\n",
       "    </tr>\n",
       "    <tr>\n",
       "      <th>25%</th>\n",
       "      <td>0.000000</td>\n",
       "      <td>11100.000000</td>\n",
       "      <td>46276.000000</td>\n",
       "      <td>66075.500000</td>\n",
       "      <td>3.000000</td>\n",
       "      <td>0.000000</td>\n",
       "      <td>0.000000</td>\n",
       "      <td>115.116702</td>\n",
       "      <td>0.000000</td>\n",
       "      <td>15.000000</td>\n",
       "      <td>29.140031</td>\n",
       "    </tr>\n",
       "    <tr>\n",
       "      <th>50%</th>\n",
       "      <td>0.000000</td>\n",
       "      <td>16300.000000</td>\n",
       "      <td>65019.000000</td>\n",
       "      <td>89235.500000</td>\n",
       "      <td>7.000000</td>\n",
       "      <td>0.000000</td>\n",
       "      <td>0.000000</td>\n",
       "      <td>173.466667</td>\n",
       "      <td>1.000000</td>\n",
       "      <td>20.000000</td>\n",
       "      <td>34.818262</td>\n",
       "    </tr>\n",
       "    <tr>\n",
       "      <th>75%</th>\n",
       "      <td>0.000000</td>\n",
       "      <td>23300.000000</td>\n",
       "      <td>91488.000000</td>\n",
       "      <td>119824.250000</td>\n",
       "      <td>13.000000</td>\n",
       "      <td>0.000000</td>\n",
       "      <td>0.000000</td>\n",
       "      <td>231.562278</td>\n",
       "      <td>2.000000</td>\n",
       "      <td>26.000000</td>\n",
       "      <td>39.003141</td>\n",
       "    </tr>\n",
       "    <tr>\n",
       "      <th>max</th>\n",
       "      <td>1.000000</td>\n",
       "      <td>89900.000000</td>\n",
       "      <td>399550.000000</td>\n",
       "      <td>855909.000000</td>\n",
       "      <td>41.000000</td>\n",
       "      <td>10.000000</td>\n",
       "      <td>15.000000</td>\n",
       "      <td>1168.233561</td>\n",
       "      <td>17.000000</td>\n",
       "      <td>71.000000</td>\n",
       "      <td>203.312149</td>\n",
       "    </tr>\n",
       "  </tbody>\n",
       "</table>\n",
       "</div>"
      ],
      "text/plain": [
       "               BAD          LOAN        MORTDUE          VALUE          YOJ  \\\n",
       "count  5960.000000   5960.000000    5442.000000    5848.000000  5445.000000   \n",
       "mean      0.199497  18607.969799   73760.817200  101776.048741     8.922268   \n",
       "std       0.399656  11207.480417   44457.609458   57385.775334     7.573982   \n",
       "min       0.000000   1100.000000    2063.000000    8000.000000     0.000000   \n",
       "25%       0.000000  11100.000000   46276.000000   66075.500000     3.000000   \n",
       "50%       0.000000  16300.000000   65019.000000   89235.500000     7.000000   \n",
       "75%       0.000000  23300.000000   91488.000000  119824.250000    13.000000   \n",
       "max       1.000000  89900.000000  399550.000000  855909.000000    41.000000   \n",
       "\n",
       "             DEROG       DELINQ        CLAGE         NINQ         CLNO  \\\n",
       "count  5252.000000  5380.000000  5652.000000  5450.000000  5738.000000   \n",
       "mean      0.254570     0.449442   179.766275     1.186055    21.296096   \n",
       "std       0.846047     1.127266    85.810092     1.728675    10.138933   \n",
       "min       0.000000     0.000000     0.000000     0.000000     0.000000   \n",
       "25%       0.000000     0.000000   115.116702     0.000000    15.000000   \n",
       "50%       0.000000     0.000000   173.466667     1.000000    20.000000   \n",
       "75%       0.000000     0.000000   231.562278     2.000000    26.000000   \n",
       "max      10.000000    15.000000  1168.233561    17.000000    71.000000   \n",
       "\n",
       "           DEBTINC  \n",
       "count  4693.000000  \n",
       "mean     33.779915  \n",
       "std       8.601746  \n",
       "min       0.524499  \n",
       "25%      29.140031  \n",
       "50%      34.818262  \n",
       "75%      39.003141  \n",
       "max     203.312149  "
      ]
     },
     "execution_count": 4,
     "metadata": {},
     "output_type": "execute_result"
    }
   ],
   "source": [
    "df.describe()"
   ]
  },
  {
   "cell_type": "markdown",
   "id": "adverse-cameroon",
   "metadata": {},
   "source": [
    "# IMBALANCE CHECK"
   ]
  },
  {
   "cell_type": "code",
   "execution_count": 5,
   "id": "neural-relay",
   "metadata": {},
   "outputs": [
    {
     "data": {
      "text/plain": [
       "0    4771\n",
       "1    1189\n",
       "Name: BAD, dtype: int64"
      ]
     },
     "execution_count": 5,
     "metadata": {},
     "output_type": "execute_result"
    }
   ],
   "source": [
    "df.BAD.value_counts()"
   ]
  },
  {
   "cell_type": "code",
   "execution_count": 6,
   "id": "turkish-offering",
   "metadata": {},
   "outputs": [
    {
     "name": "stderr",
     "output_type": "stream",
     "text": [
      "c:\\users\\asus\\appdata\\local\\programs\\python\\python38\\lib\\site-packages\\seaborn\\_decorators.py:36: FutureWarning: Pass the following variable as a keyword arg: x. From version 0.12, the only valid positional argument will be `data`, and passing other arguments without an explicit keyword will result in an error or misinterpretation.\n",
      "  warnings.warn(\n"
     ]
    },
    {
     "data": {
      "text/plain": [
       "<AxesSubplot:xlabel='BAD', ylabel='count'>"
      ]
     },
     "execution_count": 6,
     "metadata": {},
     "output_type": "execute_result"
    },
    {
     "data": {
      "image/png": "[encoded data removed]",
      "text/plain": [
       "<Figure size 720x432 with 1 Axes>"
      ]
     },
     "metadata": {
      "needs_background": "light"
     },
     "output_type": "display_data"
    }
   ],
   "source": [
    "fig, ((ax1)) = plt.subplots(1, 1, figsize=(10,6))\n",
    "\n",
    "sns.countplot(df['BAD'])"
   ]
  },
  {
   "cell_type": "markdown",
   "id": "assumed-command",
   "metadata": {},
   "source": [
    "Berdasarkan Countplot di atas, terlihat bahwa variabel dependen/target terjadi Imbalance data.\n",
    "\n",
    "pada saat modeling akan dilakukan resampling: <br>\n",
    "1. RUS\n",
    "2. ROS\n",
    "3. SMOTE\n",
    "\n",
    "Resampling tersebut bertujuan untuk memperbaiki data yang Imblance, sekaligus untuk dianalisa apakah resampling dapat meningkatkan skor model kita."
   ]
  },
  {
   "cell_type": "markdown",
   "id": "radio-candy",
   "metadata": {},
   "source": [
    "# MULTICOLINEARITY CHECK"
   ]
  },
  {
   "cell_type": "code",
   "execution_count": 7,
   "id": "threatened-booking",
   "metadata": {},
   "outputs": [
    {
     "data": {
      "image/png": "[encoded data removed]",
      "text/plain": [
       "<Figure size 1440x1440 with 2 Axes>"
      ]
     },
     "metadata": {
      "needs_background": "light"
     },
     "output_type": "display_data"
    }
   ],
   "source": [
    "import seaborn as sns\n",
    "from sklearn.preprocessing import LabelEncoder  \n",
    "k=15  \n",
    "data = df\n",
    "labelencoder1_corr = LabelEncoder().fit(data.iloc[:,0])  \n",
    "data.iloc[:,0] = labelencoder1_corr.transform(data.iloc[:,0])                     \n",
    "corrmat = data.corr()    \n",
    "top_corr_features = corrmat.index      \n",
    "plt.figure(figsize=(20,20))\n",
    "g=sns.heatmap(data[top_corr_features].corr(),annot=True,cmap=\"RdYlGn\")"
   ]
  },
  {
   "cell_type": "markdown",
   "id": "excess-optimization",
   "metadata": {},
   "source": [
    "Berdasarkan Heatmap di atas, terlihat ada fitur-fitur yang saling berkorelasi yaitu fitur VALUE dan MORTDUE"
   ]
  },
  {
   "cell_type": "markdown",
   "id": "provincial-interference",
   "metadata": {},
   "source": [
    "# SPLITTING DATA"
   ]
  },
  {
   "cell_type": "markdown",
   "id": "annoying-beauty",
   "metadata": {},
   "source": [
    "Pada langkah ini data akan dibagi menjadi dua, yaitu data test dan data training. Data train akan digunakan untuk melatih model, sedangkan data test digunakan untuk mengevaluasi model yang telah dilatih."
   ]
  },
  {
   "cell_type": "markdown",
   "id": "scientific-distribution",
   "metadata": {},
   "source": [
    "## MISSING VALUE CHECK"
   ]
  },
  {
   "cell_type": "code",
   "execution_count": 8,
   "id": "choice-insert",
   "metadata": {},
   "outputs": [
    {
     "name": "stdout",
     "output_type": "stream",
     "text": [
      "<class 'pandas.core.frame.DataFrame'>\n",
      "RangeIndex: 5960 entries, 0 to 5959\n",
      "Data columns (total 13 columns):\n",
      " #   Column   Non-Null Count  Dtype  \n",
      "---  ------   --------------  -----  \n",
      " 0   BAD      5960 non-null   int64  \n",
      " 1   LOAN     5960 non-null   int64  \n",
      " 2   MORTDUE  5442 non-null   float64\n",
      " 3   VALUE    5848 non-null   float64\n",
      " 4   REASON   5708 non-null   object \n",
      " 5   JOB      5681 non-null   object \n",
      " 6   YOJ      5445 non-null   float64\n",
      " 7   DEROG    5252 non-null   float64\n",
      " 8   DELINQ   5380 non-null   float64\n",
      " 9   CLAGE    5652 non-null   float64\n",
      " 10  NINQ     5450 non-null   float64\n",
      " 11  CLNO     5738 non-null   float64\n",
      " 12  DEBTINC  4693 non-null   float64\n",
      "dtypes: float64(9), int64(2), object(2)\n",
      "memory usage: 605.4+ KB\n"
     ]
    }
   ],
   "source": [
    "df.info()"
   ]
  },
  {
   "cell_type": "code",
   "execution_count": 9,
   "id": "cross-bobby",
   "metadata": {},
   "outputs": [],
   "source": [
    "X = df.drop('BAD', axis=1)\n",
    "y = df['BAD']\n",
    "\n",
    "X_train_val, X_test, y_train_val, y_test = train_test_split(X, y, test_size=.2, stratify=y, random_state=2021) #check random_state"
   ]
  },
  {
   "cell_type": "code",
   "execution_count": 10,
   "id": "fatty-still",
   "metadata": {},
   "outputs": [],
   "source": [
    "X_train_val, x_test, y_train_val, y_test= train_test_split(X,y,stratify=y, random_state=2021, test_size=0.2)"
   ]
  },
  {
   "cell_type": "markdown",
   "id": "antique-ministry",
   "metadata": {},
   "source": [
    "# Strategi Encoding"
   ]
  },
  {
   "cell_type": "markdown",
   "id": "filled-traffic",
   "metadata": {},
   "source": [
    "Fitur-fitur bertipe data objek akan dilakukan encoding, terdapat 2 fitur yaitu: REASON dan JOB.<br>\n",
    "    \n",
    "Sebelum diputuskan strategi encoding, terlebih dahulu akan dilihat unique value dari fitur REASON dan JOB."
   ]
  },
  {
   "cell_type": "code",
   "execution_count": 11,
   "id": "robust-anime",
   "metadata": {},
   "outputs": [
    {
     "name": "stdout",
     "output_type": "stream",
     "text": [
      "DebtCon    3928\n",
      "HomeImp    1780\n",
      "Name: REASON, dtype: int64\n",
      "\n",
      "Other      2388\n",
      "ProfExe    1276\n",
      "Office      948\n",
      "Mgr         767\n",
      "Self        193\n",
      "Sales       109\n",
      "Name: JOB, dtype: int64\n"
     ]
    }
   ],
   "source": [
    "print(df.REASON.value_counts())\n",
    "print()\n",
    "print(df.JOB.value_counts())"
   ]
  },
  {
   "cell_type": "markdown",
   "id": "automated-coordinator",
   "metadata": {},
   "source": [
    "Ternyata kedua memiliki kelas yang terbilang sedikit.<br>\n",
    "\n",
    "Sehingga kedua fitur akan dilakukan onehot encoding"
   ]
  },
  {
   "cell_type": "markdown",
   "id": "considered-pixel",
   "metadata": {},
   "source": [
    "# MODELLING"
   ]
  },
  {
   "cell_type": "markdown",
   "id": "monetary-channel",
   "metadata": {},
   "source": [
    "Kasus HOME EQUITY LOAN termasuk klasifikasi, oleh karena itu akan digunakan beberapa model klasifikasi, yaitu: \n",
    "- Logistic Regression\n",
    "- Decision Tree Classifier\n",
    "- Random Forest Classifier\n",
    "- KNN Classifier\n",
    "- Voting Classifier\n",
    "- Ada Boost\n",
    "- Gradient Boost\n",
    "\n",
    "\n",
    "\n",
    "Langkah-langkah dalam mendapatkan model terbaik:\n",
    "1. Membuat banchmark dengan Resampling ROS, RUS, dan SMOTE pada masing-masing algoritma\n",
    "2. Mencari nilai cross validation yang paling tinggi di masing-masing algoritma\n",
    "3. Melakukan Hyperparameter pada algotirma yang telah dipilih melalui cross validation\n",
    "4. Mencari algoritma terbaik melalui nilai skor yang paling tinggi dari algotritma yang telah dituning\n",
    "5. Mencoba mencari Threshold terbaik\n",
    "6. Menyimpan model terbaik"
   ]
  },
  {
   "cell_type": "markdown",
   "id": "bored-bleeding",
   "metadata": {},
   "source": [
    "# EVALUATION SCORE"
   ]
  },
  {
   "cell_type": "markdown",
   "id": "directed-meeting",
   "metadata": {},
   "source": [
    "Pada kasus klasifikasi biasanya akurasi digunakan untuk matriks evaluasi, akan tetapi ketika data variabel target memiliki biner kelas yang tidak seimbang jumlahnya, maka akurasi kurang cocok untuk digunakan. Sebagai alternatifnya terdapat beberapa matriks evalusi yang dapat menjadi solusi bagi data target yang tidak seimbang, yaitu:<br>\n",
    "\n",
    "1. F1 score \n",
    "2. Recall \n",
    "3. Precision\n",
    "\n",
    "\n",
    "Pada kasus ini tujuannya adalah mengidentifikasi dan menyeleksi secara cepat, akurat, serta tepat pemohon mana saja yang layak diberi pinjaman sehingga  meminimalisir kerugian perusahaan karena adanya salah identifikasi dengan memberi pinjaman kepada yang tidak layak, maka yang menjadi fokus adalah mengecilkan peluang lolosnya pemohon yang tidak layak diberi pinjaman. Oleh karena itu matriks evaluasi yang tepat digunakan adalah Recall."
   ]
  },
  {
   "cell_type": "code",
   "execution_count": 12,
   "id": "induced-castle",
   "metadata": {},
   "outputs": [],
   "source": [
    "logit = LogisticRegression(random_state=2021)\n",
    "rfc = RandomForestClassifier(random_state=101)\n",
    "knn = KNeighborsClassifier()\n",
    "tree = DecisionTreeClassifier(random_state=101)\n",
    "smote = SMOTE(random_state=101)\n",
    "rus = RandomUnderSampler(random_state=101)\n",
    "ros = RandomOverSampler(random_state=101)\n",
    "tree = DecisionTreeClassifier(random_state=101)"
   ]
  },
  {
   "cell_type": "markdown",
   "id": "honey-simple",
   "metadata": {},
   "source": [
    "#  1.MODELING-BENCHMARK-RESAMPLING"
   ]
  },
  {
   "cell_type": "markdown",
   "id": "formal-benchmark",
   "metadata": {},
   "source": [
    "## 1.1 RANDOM FOREST - BENCHMARK-SMOTE"
   ]
  },
  {
   "cell_type": "code",
   "execution_count": 15,
   "id": "liquid-google",
   "metadata": {},
   "outputs": [],
   "source": [
    "rfc = RandomForestClassifier(random_state=101)"
   ]
  },
  {
   "cell_type": "code",
   "execution_count": 16,
   "id": "korean-basin",
   "metadata": {},
   "outputs": [],
   "source": [
    "rfc_pipe_num = Pipeline([\n",
    "    ('imputer', SimpleImputer(strategy='median', missing_values=np.nan))\n",
    "])\n",
    "\n",
    "# for all object columns\n",
    "rfc_pipe_cat = Pipeline([\n",
    "    ('imputer', SimpleImputer(strategy='most_frequent', missing_values=np.nan)),\n",
    "    ('onehot', OneHotEncoder(drop='first'))\n",
    "])\n",
    "\n",
    "# transforming all columns\n",
    "rfc_transformer = ColumnTransformer([\n",
    "    ('pipe_num', rfc_pipe_num, ['LOAN', 'MORTDUE', 'VALUE', 'YOJ', 'DEROG', 'DELINQ', 'CLAGE', 'NINQ', 'CLNO', 'DEBTINC']),\n",
    "    ('pipe_cat', rfc_pipe_cat, ['REASON', 'JOB']),\n",
    "], remainder='passthrough')\n",
    "\n",
    "rfc_pipe_combine_bench_smote = Pipeline([\n",
    "    ('transformer', rfc_transformer),\n",
    "    ('rfe', RFE(rfc)),\n",
    "    ('resampling', smote),\n",
    "    ('rfc', rfc)\n",
    "])"
   ]
  },
  {
   "cell_type": "code",
   "execution_count": 17,
   "id": "covered-integer",
   "metadata": {},
   "outputs": [
    {
     "name": "stderr",
     "output_type": "stream",
     "text": [
      "[Parallel(n_jobs=-1)]: Using backend LokyBackend with 4 concurrent workers.\n",
      "[Parallel(n_jobs=-1)]: Done   5 out of   5 | elapsed:   19.2s finished\n"
     ]
    }
   ],
   "source": [
    "skf = StratifiedKFold(n_splits=5, shuffle=True, random_state=101)\n",
    "\n",
    "rfc_benchmark_smote_score = cross_val_score(rfc_pipe_combine_bench_smote, X_train_val, y_train_val, scoring='recall', cv=skf, n_jobs=-1, verbose=1)"
   ]
  },
  {
   "cell_type": "code",
   "execution_count": 18,
   "id": "ranging-repeat",
   "metadata": {},
   "outputs": [
    {
     "name": "stdout",
     "output_type": "stream",
     "text": [
      "Random forest classifier Val Score: 0.7644860843207495\n"
     ]
    }
   ],
   "source": [
    "print('Random forest classifier Val Score:', rfc_benchmark_smote_score.mean())"
   ]
  },
  {
   "cell_type": "code",
   "execution_count": 19,
   "id": "significant-nirvana",
   "metadata": {},
   "outputs": [],
   "source": [
    "rf_benchmark_smote = rfc_pipe_combine_bench_smote.fit(X_train_val, y_train_val)"
   ]
  },
  {
   "cell_type": "code",
   "execution_count": 20,
   "id": "bottom-baking",
   "metadata": {},
   "outputs": [
    {
     "data": {
      "text/plain": [
       "Pipeline(steps=[('transformer',\n",
       "                 ColumnTransformer(remainder='passthrough',\n",
       "                                   transformers=[('pipe_num',\n",
       "                                                  Pipeline(steps=[('imputer',\n",
       "                                                                   SimpleImputer(strategy='median'))]),\n",
       "                                                  ['LOAN', 'MORTDUE', 'VALUE',\n",
       "                                                   'YOJ', 'DEROG', 'DELINQ',\n",
       "                                                   'CLAGE', 'NINQ', 'CLNO',\n",
       "                                                   'DEBTINC']),\n",
       "                                                 ('pipe_cat',\n",
       "                                                  Pipeline(steps=[('imputer',\n",
       "                                                                   SimpleImputer(strategy='most_frequent')),\n",
       "                                                                  ('onehot',\n",
       "                                                                   OneHotEncoder(drop='first'))]),\n",
       "                                                  ['REASON', 'JOB'])])),\n",
       "                ('rfe',\n",
       "                 RFE(estimator=RandomForestClassifier(random_state=101))),\n",
       "                ('resampling', SMOTE(random_state=101)),\n",
       "                ('rfc', RandomForestClassifier(random_state=101))])"
      ]
     },
     "execution_count": 20,
     "metadata": {},
     "output_type": "execute_result"
    }
   ],
   "source": [
    "rf_benchmark_smote"
   ]
  },
  {
   "cell_type": "code",
   "execution_count": 21,
   "id": "ranging-greensboro",
   "metadata": {},
   "outputs": [],
   "source": [
    "rf_benchmark_smote_pred = rf_benchmark_smote.predict(X_test)\n",
    "rf_benchmark_smote_proba = rf_benchmark_smote.predict_proba(X_test)"
   ]
  },
  {
   "cell_type": "code",
   "execution_count": 22,
   "id": "allied-debate",
   "metadata": {},
   "outputs": [
    {
     "name": "stdout",
     "output_type": "stream",
     "text": [
      "              precision    recall  f1-score   support\n",
      "\n",
      "           0       0.95      0.94      0.95       954\n",
      "           1       0.78      0.80      0.79       238\n",
      "\n",
      "    accuracy                           0.92      1192\n",
      "   macro avg       0.87      0.87      0.87      1192\n",
      "weighted avg       0.92      0.92      0.92      1192\n",
      "\n"
     ]
    }
   ],
   "source": [
    "print(classification_report(y_test, rf_benchmark_smote_pred))"
   ]
  },
  {
   "cell_type": "code",
   "execution_count": null,
   "id": "informational-lounge",
   "metadata": {},
   "outputs": [],
   "source": []
  },
  {
   "cell_type": "markdown",
   "id": "adverse-branch",
   "metadata": {},
   "source": [
    "## 1.2 RANDOM FOREST-BENCHMARK-ROS"
   ]
  },
  {
   "cell_type": "code",
   "execution_count": 23,
   "id": "defined-requirement",
   "metadata": {},
   "outputs": [],
   "source": [
    "rfc = RandomForestClassifier(random_state=101)"
   ]
  },
  {
   "cell_type": "code",
   "execution_count": 24,
   "id": "signal-broad",
   "metadata": {},
   "outputs": [],
   "source": [
    "rfc_pipe_num = Pipeline([\n",
    "    ('imputer', SimpleImputer(strategy='median', missing_values=np.nan))\n",
    "])\n",
    "\n",
    "# for all object columns\n",
    "rfc_pipe_cat = Pipeline([\n",
    "    ('imputer', SimpleImputer(strategy='most_frequent', missing_values=np.nan)),\n",
    "    ('onehot', OneHotEncoder(drop='first'))\n",
    "])\n",
    "\n",
    "# transforming all columns\n",
    "rfc_transformer = ColumnTransformer([\n",
    "    ('pipe_num', rfc_pipe_num, ['LOAN', 'MORTDUE', 'VALUE', 'YOJ', 'DEROG', 'DELINQ', 'CLAGE', 'NINQ', 'CLNO', 'DEBTINC']),\n",
    "    ('pipe_cat', rfc_pipe_cat, ['REASON', 'JOB']),\n",
    "], remainder='passthrough')\n",
    "\n",
    "rfc_pipe_combine_bench_ros = Pipeline([\n",
    "    ('transformer', rfc_transformer),\n",
    "    ('rfe', RFE(rfc)),\n",
    "    ('resampling', ros),\n",
    "    ('rfc', rfc)\n",
    "])"
   ]
  },
  {
   "cell_type": "code",
   "execution_count": 25,
   "id": "virtual-vocabulary",
   "metadata": {},
   "outputs": [
    {
     "name": "stderr",
     "output_type": "stream",
     "text": [
      "[Parallel(n_jobs=-1)]: Using backend LokyBackend with 4 concurrent workers.\n",
      "[Parallel(n_jobs=-1)]: Done   5 out of   5 | elapsed:   16.3s finished\n"
     ]
    }
   ],
   "source": [
    "skf = StratifiedKFold(n_splits=5, shuffle=True, random_state=101)\n",
    "\n",
    "rfc_benchmark_ros_score = cross_val_score(rfc_pipe_combine_bench_ros, X_train_val, y_train_val, scoring='recall', cv=skf, n_jobs=-1, verbose=1)"
   ]
  },
  {
   "cell_type": "code",
   "execution_count": 26,
   "id": "vulnerable-prompt",
   "metadata": {},
   "outputs": [
    {
     "name": "stdout",
     "output_type": "stream",
     "text": [
      "Random forest classifier Val Score: 0.7140093689721686\n"
     ]
    }
   ],
   "source": [
    "print('Random forest classifier Val Score:', rfc_benchmark_ros_score.mean())"
   ]
  },
  {
   "cell_type": "code",
   "execution_count": 27,
   "id": "optional-english",
   "metadata": {},
   "outputs": [],
   "source": [
    "rf_benchmark_ros = rfc_pipe_combine_bench_ros.fit(X_train_val, y_train_val)"
   ]
  },
  {
   "cell_type": "code",
   "execution_count": 28,
   "id": "armed-custody",
   "metadata": {},
   "outputs": [
    {
     "data": {
      "text/plain": [
       "Pipeline(steps=[('transformer',\n",
       "                 ColumnTransformer(remainder='passthrough',\n",
       "                                   transformers=[('pipe_num',\n",
       "                                                  Pipeline(steps=[('imputer',\n",
       "                                                                   SimpleImputer(strategy='median'))]),\n",
       "                                                  ['LOAN', 'MORTDUE', 'VALUE',\n",
       "                                                   'YOJ', 'DEROG', 'DELINQ',\n",
       "                                                   'CLAGE', 'NINQ', 'CLNO',\n",
       "                                                   'DEBTINC']),\n",
       "                                                 ('pipe_cat',\n",
       "                                                  Pipeline(steps=[('imputer',\n",
       "                                                                   SimpleImputer(strategy='most_frequent')),\n",
       "                                                                  ('onehot',\n",
       "                                                                   OneHotEncoder(drop='first'))]),\n",
       "                                                  ['REASON', 'JOB'])])),\n",
       "                ('rfe',\n",
       "                 RFE(estimator=RandomForestClassifier(random_state=101))),\n",
       "                ('resampling', RandomOverSampler(random_state=101)),\n",
       "                ('rfc', RandomForestClassifier(random_state=101))])"
      ]
     },
     "execution_count": 28,
     "metadata": {},
     "output_type": "execute_result"
    }
   ],
   "source": [
    "rf_benchmark_ros"
   ]
  },
  {
   "cell_type": "code",
   "execution_count": 29,
   "id": "smoking-herald",
   "metadata": {},
   "outputs": [],
   "source": [
    "rf_benchmark_ros_pred = rf_benchmark_ros.predict(X_test)\n",
    "rf_benchmark_ros_proba = rf_benchmark_ros.predict_proba(X_test)"
   ]
  },
  {
   "cell_type": "code",
   "execution_count": 30,
   "id": "normal-olive",
   "metadata": {},
   "outputs": [
    {
     "name": "stdout",
     "output_type": "stream",
     "text": [
      "              precision    recall  f1-score   support\n",
      "\n",
      "           0       0.92      0.96      0.94       954\n",
      "           1       0.82      0.68      0.75       238\n",
      "\n",
      "    accuracy                           0.91      1192\n",
      "   macro avg       0.87      0.82      0.84      1192\n",
      "weighted avg       0.90      0.91      0.90      1192\n",
      "\n"
     ]
    }
   ],
   "source": [
    "print(classification_report(y_test, rf_benchmark_ros_pred))"
   ]
  },
  {
   "cell_type": "markdown",
   "id": "fatty-northwest",
   "metadata": {},
   "source": [
    "## 1.3 RANDOM FOREST-BENCHMARK-RUS"
   ]
  },
  {
   "cell_type": "code",
   "execution_count": 31,
   "id": "dominican-accused",
   "metadata": {},
   "outputs": [],
   "source": [
    "rfc = RandomForestClassifier(random_state=101)"
   ]
  },
  {
   "cell_type": "code",
   "execution_count": 32,
   "id": "humanitarian-license",
   "metadata": {},
   "outputs": [],
   "source": [
    "rfc_pipe_num = Pipeline([\n",
    "    ('imputer', SimpleImputer(strategy='median', missing_values=np.nan))\n",
    "])\n",
    "\n",
    "# for all object columns\n",
    "rfc_pipe_cat = Pipeline([\n",
    "    ('imputer', SimpleImputer(strategy='most_frequent', missing_values=np.nan)),\n",
    "    ('onehot', OneHotEncoder(drop='first'))\n",
    "])\n",
    "\n",
    "# transforming all columns\n",
    "rfc_transformer = ColumnTransformer([\n",
    "    ('pipe_num', rfc_pipe_num, ['LOAN', 'MORTDUE', 'VALUE', 'YOJ', 'DEROG', 'DELINQ', 'CLAGE', 'NINQ', 'CLNO', 'DEBTINC']),\n",
    "    ('pipe_cat', rfc_pipe_cat, ['REASON', 'JOB']),\n",
    "], remainder='passthrough')\n",
    "\n",
    "rfc_pipe_combine_bench_rus = Pipeline([\n",
    "    ('transformer', rfc_transformer),\n",
    "    ('rfe', RFE(rfc)),\n",
    "    ('resampling', rus),\n",
    "    ('rfc', rfc)\n",
    "])"
   ]
  },
  {
   "cell_type": "code",
   "execution_count": 33,
   "id": "instant-clearance",
   "metadata": {},
   "outputs": [
    {
     "name": "stderr",
     "output_type": "stream",
     "text": [
      "[Parallel(n_jobs=-1)]: Using backend LokyBackend with 4 concurrent workers.\n",
      "[Parallel(n_jobs=-1)]: Done   5 out of   5 | elapsed:   14.8s finished\n"
     ]
    }
   ],
   "source": [
    "skf = StratifiedKFold(n_splits=5, shuffle=True, random_state=101)\n",
    "\n",
    "rfc_benchmark_rus_score = cross_val_score(rfc_pipe_combine_bench_rus, X_train_val, y_train_val, scoring='recall', cv=skf, n_jobs=-1, verbose=1)"
   ]
  },
  {
   "cell_type": "code",
   "execution_count": 34,
   "id": "integral-rugby",
   "metadata": {},
   "outputs": [
    {
     "name": "stdout",
     "output_type": "stream",
     "text": [
      "Random forest classifier Val Score: 0.8475613116561036\n"
     ]
    }
   ],
   "source": [
    "print('Random forest classifier Val Score:', rfc_benchmark_rus_score.mean())"
   ]
  },
  {
   "cell_type": "code",
   "execution_count": 35,
   "id": "valid-library",
   "metadata": {},
   "outputs": [],
   "source": [
    "rf_benchmark_rus = rfc_pipe_combine_bench_rus.fit(X_train_val, y_train_val)"
   ]
  },
  {
   "cell_type": "code",
   "execution_count": 36,
   "id": "authorized-liberty",
   "metadata": {},
   "outputs": [
    {
     "data": {
      "text/plain": [
       "Pipeline(steps=[('transformer',\n",
       "                 ColumnTransformer(remainder='passthrough',\n",
       "                                   transformers=[('pipe_num',\n",
       "                                                  Pipeline(steps=[('imputer',\n",
       "                                                                   SimpleImputer(strategy='median'))]),\n",
       "                                                  ['LOAN', 'MORTDUE', 'VALUE',\n",
       "                                                   'YOJ', 'DEROG', 'DELINQ',\n",
       "                                                   'CLAGE', 'NINQ', 'CLNO',\n",
       "                                                   'DEBTINC']),\n",
       "                                                 ('pipe_cat',\n",
       "                                                  Pipeline(steps=[('imputer',\n",
       "                                                                   SimpleImputer(strategy='most_frequent')),\n",
       "                                                                  ('onehot',\n",
       "                                                                   OneHotEncoder(drop='first'))]),\n",
       "                                                  ['REASON', 'JOB'])])),\n",
       "                ('rfe',\n",
       "                 RFE(estimator=RandomForestClassifier(random_state=101))),\n",
       "                ('resampling', RandomUnderSampler(random_state=101)),\n",
       "                ('rfc', RandomForestClassifier(random_state=101))])"
      ]
     },
     "execution_count": 36,
     "metadata": {},
     "output_type": "execute_result"
    }
   ],
   "source": [
    "rf_benchmark_rus"
   ]
  },
  {
   "cell_type": "code",
   "execution_count": 37,
   "id": "hindu-butterfly",
   "metadata": {},
   "outputs": [],
   "source": [
    "rf_benchmark_rus_pred = rf_benchmark_rus.predict(X_test)\n",
    "rf_benchmark_rus_proba = rf_benchmark_rus.predict_proba(X_test)"
   ]
  },
  {
   "cell_type": "code",
   "execution_count": 38,
   "id": "productive-minister",
   "metadata": {},
   "outputs": [
    {
     "name": "stdout",
     "output_type": "stream",
     "text": [
      "              precision    recall  f1-score   support\n",
      "\n",
      "           0       0.92      0.96      0.94       954\n",
      "           1       0.82      0.68      0.75       238\n",
      "\n",
      "    accuracy                           0.91      1192\n",
      "   macro avg       0.87      0.82      0.84      1192\n",
      "weighted avg       0.90      0.91      0.90      1192\n",
      "\n"
     ]
    }
   ],
   "source": [
    "print(classification_report(y_test, rf_benchmark_ros_pred))"
   ]
  },
  {
   "cell_type": "markdown",
   "id": "terminal-flour",
   "metadata": {},
   "source": [
    "## 1.4 KNN - BENCHMARK-RESAMPLING SMOTE"
   ]
  },
  {
   "cell_type": "code",
   "execution_count": 39,
   "id": "waiting-philip",
   "metadata": {},
   "outputs": [],
   "source": [
    "knn = KNeighborsClassifier()"
   ]
  },
  {
   "cell_type": "code",
   "execution_count": 40,
   "id": "pressed-dancing",
   "metadata": {},
   "outputs": [],
   "source": [
    "knn_pipe_num = Pipeline([\n",
    "    ('imputer', SimpleImputer(strategy='median', missing_values=np.nan)),\n",
    "    ('scaler', StandardScaler())\n",
    "])\n",
    "\n",
    "# for all object columns\n",
    "knn_pipe_cat = Pipeline([\n",
    "    ('imputer', SimpleImputer(strategy='most_frequent', missing_values=np.nan)),\n",
    "    ('onehot', OneHotEncoder(drop='first'))\n",
    "])\n",
    "\n",
    "# transforming all columns\n",
    "knn_transformer = ColumnTransformer([\n",
    "    ('pipe_num', knn_pipe_num, ['LOAN', 'MORTDUE', 'VALUE', 'YOJ', 'DEROG', 'DELINQ', 'CLAGE', 'NINQ', 'CLNO', 'DEBTINC']),\n",
    "    ('pipe_cat', knn_pipe_cat, ['REASON', 'JOB'])\n",
    "])\n",
    "\n",
    "# combine all pipeline\n",
    "knn_pipe_combine_bench_smote = Pipeline([\n",
    "    ('transformer', knn_transformer),\n",
    "    ('resampling', smote),\n",
    "    ('knn', knn)\n",
    "])"
   ]
  },
  {
   "cell_type": "code",
   "execution_count": 41,
   "id": "reserved-alexandria",
   "metadata": {},
   "outputs": [
    {
     "name": "stderr",
     "output_type": "stream",
     "text": [
      "[Parallel(n_jobs=-1)]: Using backend LokyBackend with 4 concurrent workers.\n",
      "[Parallel(n_jobs=-1)]: Done   5 out of   5 | elapsed:    0.6s finished\n"
     ]
    }
   ],
   "source": [
    "skf = StratifiedKFold(n_splits=5, shuffle=True, random_state=101)\n",
    "\n",
    "knn_benchmark_smote_score = cross_val_score(knn_pipe_combine_bench_smote, X_train_val, y_train_val, scoring='recall', cv=skf, n_jobs=-1, verbose=1)"
   ]
  },
  {
   "cell_type": "code",
   "execution_count": 42,
   "id": "photographic-chocolate",
   "metadata": {},
   "outputs": [
    {
     "name": "stdout",
     "output_type": "stream",
     "text": [
      "knn Val Score: 0.769738219895288\n"
     ]
    }
   ],
   "source": [
    "print('knn Val Score:', knn_benchmark_smote_score.mean())"
   ]
  },
  {
   "cell_type": "code",
   "execution_count": 43,
   "id": "moved-dubai",
   "metadata": {},
   "outputs": [],
   "source": [
    "knn_benchmark_smote = knn_pipe_combine_bench_smote.fit(X_train_val, y_train_val)"
   ]
  },
  {
   "cell_type": "code",
   "execution_count": 44,
   "id": "environmental-double",
   "metadata": {},
   "outputs": [
    {
     "data": {
      "text/plain": [
       "Pipeline(steps=[('transformer',\n",
       "                 ColumnTransformer(transformers=[('pipe_num',\n",
       "                                                  Pipeline(steps=[('imputer',\n",
       "                                                                   SimpleImputer(strategy='median')),\n",
       "                                                                  ('scaler',\n",
       "                                                                   StandardScaler())]),\n",
       "                                                  ['LOAN', 'MORTDUE', 'VALUE',\n",
       "                                                   'YOJ', 'DEROG', 'DELINQ',\n",
       "                                                   'CLAGE', 'NINQ', 'CLNO',\n",
       "                                                   'DEBTINC']),\n",
       "                                                 ('pipe_cat',\n",
       "                                                  Pipeline(steps=[('imputer',\n",
       "                                                                   SimpleImputer(strategy='most_frequent')),\n",
       "                                                                  ('onehot',\n",
       "                                                                   OneHotEncoder(drop='first'))]),\n",
       "                                                  ['REASON', 'JOB'])])),\n",
       "                ('resampling', SMOTE(random_state=101)),\n",
       "                ('knn', KNeighborsClassifier())])"
      ]
     },
     "execution_count": 44,
     "metadata": {},
     "output_type": "execute_result"
    }
   ],
   "source": [
    "knn_benchmark_smote"
   ]
  },
  {
   "cell_type": "code",
   "execution_count": 45,
   "id": "dried-breach",
   "metadata": {},
   "outputs": [],
   "source": [
    "knn_benchmark_smote_pred = knn_benchmark_smote.predict(X_test)\n",
    "knn_benchmark_smote_proba = knn_benchmark_smote.predict_proba(X_test)"
   ]
  },
  {
   "cell_type": "code",
   "execution_count": 47,
   "id": "horizontal-forward",
   "metadata": {},
   "outputs": [
    {
     "name": "stdout",
     "output_type": "stream",
     "text": [
      "              precision    recall  f1-score   support\n",
      "\n",
      "           0       0.95      0.99      0.97       954\n",
      "           1       0.93      0.78      0.85       238\n",
      "\n",
      "    accuracy                           0.94      1192\n",
      "   macro avg       0.94      0.88      0.91      1192\n",
      "weighted avg       0.94      0.94      0.94      1192\n",
      "\n"
     ]
    }
   ],
   "source": [
    "print(classification_report(y_test, knn_benchmark_smote_pred))"
   ]
  },
  {
   "cell_type": "markdown",
   "id": "established-terminal",
   "metadata": {},
   "source": [
    "## 1.5 KNN - BENCHMARK-RESAMPLING-ROS"
   ]
  },
  {
   "cell_type": "code",
   "execution_count": 48,
   "id": "opposed-friendship",
   "metadata": {},
   "outputs": [],
   "source": [
    "knn = KNeighborsClassifier()"
   ]
  },
  {
   "cell_type": "code",
   "execution_count": 49,
   "id": "following-columbus",
   "metadata": {},
   "outputs": [],
   "source": [
    "knn_pipe_num = Pipeline([\n",
    "    ('imputer', SimpleImputer(strategy='median', missing_values=np.nan)),\n",
    "    ('scaler', StandardScaler())\n",
    "])\n",
    "\n",
    "# for all object columns\n",
    "knn_pipe_cat = Pipeline([\n",
    "    ('imputer', SimpleImputer(strategy='most_frequent', missing_values=np.nan)),\n",
    "    ('onehot', OneHotEncoder(drop='first'))\n",
    "])\n",
    "\n",
    "# transforming all columns\n",
    "knn_transformer = ColumnTransformer([\n",
    "    ('pipe_num', knn_pipe_num, ['LOAN', 'MORTDUE', 'VALUE', 'YOJ', 'DEROG', 'DELINQ', 'CLAGE', 'NINQ', 'CLNO', 'DEBTINC']),\n",
    "    ('pipe_cat', knn_pipe_cat, ['REASON', 'JOB'])\n",
    "])\n",
    "\n",
    "# combine all pipeline\n",
    "knn_pipe_combine_bench_ros = Pipeline([\n",
    "    ('transformer', knn_transformer),\n",
    "    ('resampling', ros),\n",
    "    ('knn', knn)\n",
    "])"
   ]
  },
  {
   "cell_type": "code",
   "execution_count": 50,
   "id": "wrong-fleet",
   "metadata": {},
   "outputs": [
    {
     "name": "stderr",
     "output_type": "stream",
     "text": [
      "[Parallel(n_jobs=-1)]: Using backend LokyBackend with 4 concurrent workers.\n",
      "[Parallel(n_jobs=-1)]: Done   5 out of   5 | elapsed:    0.6s finished\n"
     ]
    }
   ],
   "source": [
    "skf = StratifiedKFold(n_splits=5, shuffle=True, random_state=101)\n",
    "\n",
    "knn_benchmark_ros_score = cross_val_score(knn_pipe_combine_bench_ros, X_train_val, y_train_val, scoring='recall', cv=skf, n_jobs=-1, verbose=1)"
   ]
  },
  {
   "cell_type": "code",
   "execution_count": 51,
   "id": "familiar-daisy",
   "metadata": {},
   "outputs": [
    {
     "name": "stdout",
     "output_type": "stream",
     "text": [
      "knn Val Score: 0.74027555800496\n"
     ]
    }
   ],
   "source": [
    "print('knn Val Score:', knn_benchmark_ros_score.mean())"
   ]
  },
  {
   "cell_type": "code",
   "execution_count": 52,
   "id": "laden-traffic",
   "metadata": {},
   "outputs": [],
   "source": [
    "knn_benchmark_ros = knn_pipe_combine_bench_ros.fit(X_train_val, y_train_val)"
   ]
  },
  {
   "cell_type": "code",
   "execution_count": 53,
   "id": "lyric-frost",
   "metadata": {},
   "outputs": [
    {
     "data": {
      "text/plain": [
       "Pipeline(steps=[('transformer',\n",
       "                 ColumnTransformer(transformers=[('pipe_num',\n",
       "                                                  Pipeline(steps=[('imputer',\n",
       "                                                                   SimpleImputer(strategy='median')),\n",
       "                                                                  ('scaler',\n",
       "                                                                   StandardScaler())]),\n",
       "                                                  ['LOAN', 'MORTDUE', 'VALUE',\n",
       "                                                   'YOJ', 'DEROG', 'DELINQ',\n",
       "                                                   'CLAGE', 'NINQ', 'CLNO',\n",
       "                                                   'DEBTINC']),\n",
       "                                                 ('pipe_cat',\n",
       "                                                  Pipeline(steps=[('imputer',\n",
       "                                                                   SimpleImputer(strategy='most_frequent')),\n",
       "                                                                  ('onehot',\n",
       "                                                                   OneHotEncoder(drop='first'))]),\n",
       "                                                  ['REASON', 'JOB'])])),\n",
       "                ('resampling', RandomOverSampler(random_state=101)),\n",
       "                ('knn', KNeighborsClassifier())])"
      ]
     },
     "execution_count": 53,
     "metadata": {},
     "output_type": "execute_result"
    }
   ],
   "source": [
    "knn_benchmark_ros"
   ]
  },
  {
   "cell_type": "code",
   "execution_count": 54,
   "id": "contemporary-removal",
   "metadata": {},
   "outputs": [],
   "source": [
    "knn_benchmark_ros_pred = knn_benchmark_ros.predict(X_test)\n",
    "knn_benchmark_ros_proba = knn_benchmark_ros.predict_proba(X_test)"
   ]
  },
  {
   "cell_type": "code",
   "execution_count": 55,
   "id": "split-concept",
   "metadata": {},
   "outputs": [
    {
     "name": "stdout",
     "output_type": "stream",
     "text": [
      "              precision    recall  f1-score   support\n",
      "\n",
      "           0       0.95      0.99      0.97       954\n",
      "           1       0.94      0.79      0.86       238\n",
      "\n",
      "    accuracy                           0.95      1192\n",
      "   macro avg       0.95      0.89      0.91      1192\n",
      "weighted avg       0.95      0.95      0.95      1192\n",
      "\n"
     ]
    }
   ],
   "source": [
    "print(classification_report(y_test, knn_benchmark_ros_pred))"
   ]
  },
  {
   "cell_type": "markdown",
   "id": "fossil-conversion",
   "metadata": {},
   "source": [
    "# 1.6 KNN - BENCHMARK-RESAMPLING-RUS"
   ]
  },
  {
   "cell_type": "code",
   "execution_count": 56,
   "id": "major-producer",
   "metadata": {},
   "outputs": [],
   "source": [
    "knn = KNeighborsClassifier()"
   ]
  },
  {
   "cell_type": "code",
   "execution_count": 57,
   "id": "separate-illness",
   "metadata": {},
   "outputs": [],
   "source": [
    "knn_pipe_num = Pipeline([\n",
    "    ('imputer', SimpleImputer(strategy='median', missing_values=np.nan)),\n",
    "    ('scaler', StandardScaler())\n",
    "])\n",
    "\n",
    "# for all object columns\n",
    "knn_pipe_cat = Pipeline([\n",
    "    ('imputer', SimpleImputer(strategy='most_frequent', missing_values=np.nan)),\n",
    "    ('onehot', OneHotEncoder(drop='first'))\n",
    "])\n",
    "\n",
    "# transforming all columns\n",
    "knn_transformer = ColumnTransformer([\n",
    "    ('pipe_num', knn_pipe_num, ['LOAN', 'MORTDUE', 'VALUE', 'YOJ', 'DEROG', 'DELINQ', 'CLAGE', 'NINQ', 'CLNO', 'DEBTINC']),\n",
    "    ('pipe_cat', knn_pipe_cat, ['REASON', 'JOB'])\n",
    "])\n",
    "\n",
    "# combine all pipeline\n",
    "knn_pipe_combine_bench_rus = Pipeline([\n",
    "    ('transformer', knn_transformer),\n",
    "    ('resampling', rus),\n",
    "    ('knn', knn)\n",
    "])"
   ]
  },
  {
   "cell_type": "code",
   "execution_count": 58,
   "id": "advisory-macintosh",
   "metadata": {},
   "outputs": [
    {
     "name": "stderr",
     "output_type": "stream",
     "text": [
      "[Parallel(n_jobs=-1)]: Using backend LokyBackend with 4 concurrent workers.\n",
      "[Parallel(n_jobs=-1)]: Done   5 out of   5 | elapsed:    0.3s finished\n"
     ]
    }
   ],
   "source": [
    "skf = StratifiedKFold(n_splits=5, shuffle=True, random_state=101)\n",
    "\n",
    "knn_benchmark_rus_score = cross_val_score(knn_pipe_combine_bench_rus, X_train_val, y_train_val, scoring='recall', cv=skf, n_jobs=-1, verbose=1)"
   ]
  },
  {
   "cell_type": "code",
   "execution_count": 59,
   "id": "composed-thomas",
   "metadata": {},
   "outputs": [
    {
     "name": "stdout",
     "output_type": "stream",
     "text": [
      "knn Val Score: 0.7192559933866078\n"
     ]
    }
   ],
   "source": [
    "print('knn Val Score:', knn_benchmark_rus_score.mean())"
   ]
  },
  {
   "cell_type": "code",
   "execution_count": 60,
   "id": "handed-compiler",
   "metadata": {},
   "outputs": [],
   "source": [
    "knn_benchmark_rus = knn_pipe_combine_bench_rus.fit(X_train_val, y_train_val)"
   ]
  },
  {
   "cell_type": "code",
   "execution_count": 61,
   "id": "appropriate-interface",
   "metadata": {},
   "outputs": [
    {
     "data": {
      "text/plain": [
       "Pipeline(steps=[('transformer',\n",
       "                 ColumnTransformer(transformers=[('pipe_num',\n",
       "                                                  Pipeline(steps=[('imputer',\n",
       "                                                                   SimpleImputer(strategy='median')),\n",
       "                                                                  ('scaler',\n",
       "                                                                   StandardScaler())]),\n",
       "                                                  ['LOAN', 'MORTDUE', 'VALUE',\n",
       "                                                   'YOJ', 'DEROG', 'DELINQ',\n",
       "                                                   'CLAGE', 'NINQ', 'CLNO',\n",
       "                                                   'DEBTINC']),\n",
       "                                                 ('pipe_cat',\n",
       "                                                  Pipeline(steps=[('imputer',\n",
       "                                                                   SimpleImputer(strategy='most_frequent')),\n",
       "                                                                  ('onehot',\n",
       "                                                                   OneHotEncoder(drop='first'))]),\n",
       "                                                  ['REASON', 'JOB'])])),\n",
       "                ('resampling', RandomUnderSampler(random_state=101)),\n",
       "                ('knn', KNeighborsClassifier())])"
      ]
     },
     "execution_count": 61,
     "metadata": {},
     "output_type": "execute_result"
    }
   ],
   "source": [
    "knn_benchmark_rus"
   ]
  },
  {
   "cell_type": "code",
   "execution_count": 62,
   "id": "vertical-ladder",
   "metadata": {},
   "outputs": [],
   "source": [
    "knn_benchmark_rus_pred = knn_benchmark_rus.predict(X_test)\n",
    "knn_benchmark_rus_proba = knn_benchmark_rus.predict_proba(X_test)"
   ]
  },
  {
   "cell_type": "code",
   "execution_count": 63,
   "id": "treated-snapshot",
   "metadata": {},
   "outputs": [
    {
     "name": "stdout",
     "output_type": "stream",
     "text": [
      "              precision    recall  f1-score   support\n",
      "\n",
      "           0       0.92      0.86      0.89       954\n",
      "           1       0.56      0.71      0.63       238\n",
      "\n",
      "    accuracy                           0.83      1192\n",
      "   macro avg       0.74      0.79      0.76      1192\n",
      "weighted avg       0.85      0.83      0.84      1192\n",
      "\n"
     ]
    }
   ],
   "source": [
    "print(classification_report(y_test, knn_benchmark_rus_pred))"
   ]
  },
  {
   "cell_type": "code",
   "execution_count": null,
   "id": "desirable-sheffield",
   "metadata": {},
   "outputs": [],
   "source": []
  },
  {
   "cell_type": "code",
   "execution_count": null,
   "id": "separate-saskatchewan",
   "metadata": {},
   "outputs": [],
   "source": []
  },
  {
   "cell_type": "code",
   "execution_count": null,
   "id": "worst-consideration",
   "metadata": {},
   "outputs": [],
   "source": []
  },
  {
   "cell_type": "markdown",
   "id": "proof-linux",
   "metadata": {},
   "source": [
    "## 1.7 TREE - BENCHMARK-SMOTE"
   ]
  },
  {
   "cell_type": "code",
   "execution_count": 64,
   "id": "searching-lafayette",
   "metadata": {},
   "outputs": [],
   "source": [
    "tree = DecisionTreeClassifier(random_state=101)"
   ]
  },
  {
   "cell_type": "code",
   "execution_count": 65,
   "id": "pleased-spending",
   "metadata": {},
   "outputs": [],
   "source": [
    "tree_pipe_num = Pipeline([\n",
    "    ('imputer', SimpleImputer(strategy='median', missing_values=np.nan))\n",
    "])\n",
    "\n",
    "# for all object columns\n",
    "tree_pipe_cat = Pipeline([\n",
    "    ('imputer', SimpleImputer(strategy='most_frequent', missing_values=np.nan)),\n",
    "    ('onehot', OneHotEncoder(drop='first'))\n",
    "])\n",
    "\n",
    "# transforming all columns\n",
    "tree_transformer = ColumnTransformer([\n",
    "    ('pipe_num', tree_pipe_num, ['LOAN', 'MORTDUE', 'VALUE', 'YOJ', 'DEROG', 'DELINQ', 'CLAGE', 'NINQ', 'CLNO', 'DEBTINC']),\n",
    "    ('pipe_cat', tree_pipe_cat, ['REASON', 'JOB'])\n",
    "])\n",
    "\n",
    "# combine all pipeline\n",
    "tree_pipe_combine_bench_smote = Pipeline([\n",
    "    ('transformer', tree_transformer),\n",
    "    ('rfe', RFE(tree)),\n",
    "    ('resampling', smote),\n",
    "    ('tree', tree)\n",
    "])"
   ]
  },
  {
   "cell_type": "code",
   "execution_count": 66,
   "id": "overall-representation",
   "metadata": {},
   "outputs": [
    {
     "name": "stderr",
     "output_type": "stream",
     "text": [
      "[Parallel(n_jobs=-1)]: Using backend LokyBackend with 4 concurrent workers.\n",
      "[Parallel(n_jobs=-1)]: Done   5 out of   5 | elapsed:    0.9s finished\n"
     ]
    }
   ],
   "source": [
    "skf = StratifiedKFold(n_splits=5, shuffle=True, random_state=101)\n",
    "\n",
    "tree_benchmark_smote_score = cross_val_score(tree_pipe_combine_bench_smote, X_train_val, y_train_val, scoring='recall', cv=skf, n_jobs=-1, verbose=1)"
   ]
  },
  {
   "cell_type": "code",
   "execution_count": 67,
   "id": "identified-handy",
   "metadata": {},
   "outputs": [
    {
     "name": "stdout",
     "output_type": "stream",
     "text": [
      "tree Val Score: 0.6687572333976302\n"
     ]
    }
   ],
   "source": [
    "print('tree Val Score:', tree_benchmark_smote_score.mean()) "
   ]
  },
  {
   "cell_type": "code",
   "execution_count": 68,
   "id": "blocked-smith",
   "metadata": {},
   "outputs": [],
   "source": [
    "tree_benchmark_smote = tree_pipe_combine_bench_smote.fit(X_train_val, y_train_val)"
   ]
  },
  {
   "cell_type": "code",
   "execution_count": 69,
   "id": "animal-principle",
   "metadata": {},
   "outputs": [
    {
     "data": {
      "text/plain": [
       "Pipeline(steps=[('transformer',\n",
       "                 ColumnTransformer(transformers=[('pipe_num',\n",
       "                                                  Pipeline(steps=[('imputer',\n",
       "                                                                   SimpleImputer(strategy='median'))]),\n",
       "                                                  ['LOAN', 'MORTDUE', 'VALUE',\n",
       "                                                   'YOJ', 'DEROG', 'DELINQ',\n",
       "                                                   'CLAGE', 'NINQ', 'CLNO',\n",
       "                                                   'DEBTINC']),\n",
       "                                                 ('pipe_cat',\n",
       "                                                  Pipeline(steps=[('imputer',\n",
       "                                                                   SimpleImputer(strategy='most_frequent')),\n",
       "                                                                  ('onehot',\n",
       "                                                                   OneHotEncoder(drop='first'))]),\n",
       "                                                  ['REASON', 'JOB'])])),\n",
       "                ('rfe',\n",
       "                 RFE(estimator=DecisionTreeClassifier(random_state=101))),\n",
       "                ('resampling', SMOTE(random_state=101)),\n",
       "                ('tree', DecisionTreeClassifier(random_state=101))])"
      ]
     },
     "execution_count": 69,
     "metadata": {},
     "output_type": "execute_result"
    }
   ],
   "source": [
    "tree_benchmark_smote"
   ]
  },
  {
   "cell_type": "code",
   "execution_count": 70,
   "id": "czech-character",
   "metadata": {},
   "outputs": [],
   "source": [
    "tree_benchmark_smote_pred = tree_benchmark_smote.predict(X_test)\n",
    "tree_benchmark_smote_proba = tree_benchmark_smote.predict_proba(X_test)"
   ]
  },
  {
   "cell_type": "code",
   "execution_count": 71,
   "id": "square-kenya",
   "metadata": {},
   "outputs": [
    {
     "name": "stdout",
     "output_type": "stream",
     "text": [
      "              precision    recall  f1-score   support\n",
      "\n",
      "           0       0.92      0.89      0.91       954\n",
      "           1       0.62      0.70      0.66       238\n",
      "\n",
      "    accuracy                           0.85      1192\n",
      "   macro avg       0.77      0.80      0.78      1192\n",
      "weighted avg       0.86      0.85      0.86      1192\n",
      "\n"
     ]
    }
   ],
   "source": [
    "print(classification_report(y_test, tree_benchmark_smote_pred))"
   ]
  },
  {
   "cell_type": "markdown",
   "id": "interior-comparison",
   "metadata": {},
   "source": [
    "## 1.8 TREE - BENCHMARK-ROS"
   ]
  },
  {
   "cell_type": "code",
   "execution_count": 72,
   "id": "eight-vatican",
   "metadata": {},
   "outputs": [],
   "source": [
    "tree = DecisionTreeClassifier(random_state=101)"
   ]
  },
  {
   "cell_type": "code",
   "execution_count": 73,
   "id": "valuable-chosen",
   "metadata": {},
   "outputs": [],
   "source": [
    "tree_pipe_num = Pipeline([\n",
    "    ('imputer', SimpleImputer(strategy='median', missing_values=np.nan))\n",
    "])\n",
    "\n",
    "# for all object columns\n",
    "tree_pipe_cat = Pipeline([\n",
    "    ('imputer', SimpleImputer(strategy='most_frequent', missing_values=np.nan)),\n",
    "    ('onehot', OneHotEncoder(drop='first'))\n",
    "])\n",
    "\n",
    "# transforming all columns\n",
    "tree_transformer = ColumnTransformer([\n",
    "    ('pipe_num', tree_pipe_num, ['LOAN', 'MORTDUE', 'VALUE', 'YOJ', 'DEROG', 'DELINQ', 'CLAGE', 'NINQ', 'CLNO', 'DEBTINC']),\n",
    "    ('pipe_cat', tree_pipe_cat, ['REASON', 'JOB'])\n",
    "])\n",
    "\n",
    "# combine all pipeline\n",
    "tree_pipe_combine_bench_ros = Pipeline([\n",
    "    ('transformer', tree_transformer),\n",
    "    ('rfe', RFE(tree)),\n",
    "    ('resampling', ros),\n",
    "    ('tree', tree)\n",
    "])"
   ]
  },
  {
   "cell_type": "code",
   "execution_count": 74,
   "id": "worthy-trust",
   "metadata": {},
   "outputs": [
    {
     "name": "stderr",
     "output_type": "stream",
     "text": [
      "[Parallel(n_jobs=-1)]: Using backend LokyBackend with 4 concurrent workers.\n",
      "[Parallel(n_jobs=-1)]: Done   5 out of   5 | elapsed:    0.8s finished\n"
     ]
    }
   ],
   "source": [
    "skf = StratifiedKFold(n_splits=5, shuffle=True, random_state=101)\n",
    "\n",
    "tree_benchmark_ros_score = cross_val_score(tree_pipe_combine_bench_ros, X_train_val, y_train_val, scoring='recall', cv=skf, n_jobs=-1, verbose=1)"
   ]
  },
  {
   "cell_type": "code",
   "execution_count": 75,
   "id": "noble-devices",
   "metadata": {},
   "outputs": [
    {
     "name": "stdout",
     "output_type": "stream",
     "text": [
      "tree Val Score: 0.6078423808211628\n"
     ]
    }
   ],
   "source": [
    "print('tree Val Score:', tree_benchmark_ros_score.mean()) "
   ]
  },
  {
   "cell_type": "code",
   "execution_count": 76,
   "id": "visible-straight",
   "metadata": {},
   "outputs": [],
   "source": [
    "tree_benchmark_ros = tree_pipe_combine_bench_ros.fit(X_train_val, y_train_val)"
   ]
  },
  {
   "cell_type": "code",
   "execution_count": 77,
   "id": "fatty-position",
   "metadata": {},
   "outputs": [
    {
     "data": {
      "text/plain": [
       "Pipeline(steps=[('transformer',\n",
       "                 ColumnTransformer(transformers=[('pipe_num',\n",
       "                                                  Pipeline(steps=[('imputer',\n",
       "                                                                   SimpleImputer(strategy='median'))]),\n",
       "                                                  ['LOAN', 'MORTDUE', 'VALUE',\n",
       "                                                   'YOJ', 'DEROG', 'DELINQ',\n",
       "                                                   'CLAGE', 'NINQ', 'CLNO',\n",
       "                                                   'DEBTINC']),\n",
       "                                                 ('pipe_cat',\n",
       "                                                  Pipeline(steps=[('imputer',\n",
       "                                                                   SimpleImputer(strategy='most_frequent')),\n",
       "                                                                  ('onehot',\n",
       "                                                                   OneHotEncoder(drop='first'))]),\n",
       "                                                  ['REASON', 'JOB'])])),\n",
       "                ('rfe',\n",
       "                 RFE(estimator=DecisionTreeClassifier(random_state=101))),\n",
       "                ('resampling', RandomOverSampler(random_state=101)),\n",
       "                ('tree', DecisionTreeClassifier(random_state=101))])"
      ]
     },
     "execution_count": 77,
     "metadata": {},
     "output_type": "execute_result"
    }
   ],
   "source": [
    "tree_benchmark_ros"
   ]
  },
  {
   "cell_type": "code",
   "execution_count": 78,
   "id": "convenient-sodium",
   "metadata": {},
   "outputs": [],
   "source": [
    "tree_benchmark_ros_pred = tree_benchmark_ros.predict(X_test)\n",
    "tree_benchmark_ros_proba = tree_benchmark_ros.predict_proba(X_test)"
   ]
  },
  {
   "cell_type": "code",
   "execution_count": 79,
   "id": "integral-smoke",
   "metadata": {},
   "outputs": [
    {
     "name": "stdout",
     "output_type": "stream",
     "text": [
      "              precision    recall  f1-score   support\n",
      "\n",
      "           0       0.89      0.93      0.91       954\n",
      "           1       0.65      0.54      0.59       238\n",
      "\n",
      "    accuracy                           0.85      1192\n",
      "   macro avg       0.77      0.73      0.75      1192\n",
      "weighted avg       0.84      0.85      0.84      1192\n",
      "\n"
     ]
    }
   ],
   "source": [
    "print(classification_report(y_test, tree_benchmark_ros_pred))"
   ]
  },
  {
   "cell_type": "markdown",
   "id": "amazing-stuff",
   "metadata": {},
   "source": [
    "## 1.9 TREE - BENCHMARK-RUS"
   ]
  },
  {
   "cell_type": "code",
   "execution_count": 80,
   "id": "agricultural-companion",
   "metadata": {},
   "outputs": [],
   "source": [
    "tree = DecisionTreeClassifier(random_state=101)"
   ]
  },
  {
   "cell_type": "code",
   "execution_count": 81,
   "id": "activated-submission",
   "metadata": {},
   "outputs": [],
   "source": [
    "tree_pipe_num = Pipeline([\n",
    "    ('imputer', SimpleImputer(strategy='median', missing_values=np.nan))\n",
    "])\n",
    "\n",
    "# for all object columns\n",
    "tree_pipe_cat = Pipeline([\n",
    "    ('imputer', SimpleImputer(strategy='most_frequent', missing_values=np.nan)),\n",
    "    ('onehot', OneHotEncoder(drop='first'))\n",
    "])\n",
    "\n",
    "# transforming all columns\n",
    "tree_transformer = ColumnTransformer([\n",
    "    ('pipe_num', tree_pipe_num, ['LOAN', 'MORTDUE', 'VALUE', 'YOJ', 'DEROG', 'DELINQ', 'CLAGE', 'NINQ', 'CLNO', 'DEBTINC']),\n",
    "    ('pipe_cat', tree_pipe_cat, ['REASON', 'JOB'])\n",
    "])\n",
    "\n",
    "# combine all pipeline\n",
    "tree_pipe_combine_bench_rus = Pipeline([\n",
    "    ('transformer', tree_transformer),\n",
    "    ('rfe', RFE(tree)),\n",
    "    ('resampling', rus),\n",
    "    ('tree', tree)\n",
    "])"
   ]
  },
  {
   "cell_type": "code",
   "execution_count": 82,
   "id": "perceived-project",
   "metadata": {},
   "outputs": [
    {
     "name": "stderr",
     "output_type": "stream",
     "text": [
      "[Parallel(n_jobs=-1)]: Using backend LokyBackend with 4 concurrent workers.\n",
      "[Parallel(n_jobs=-1)]: Done   5 out of   5 | elapsed:    0.8s finished\n"
     ]
    }
   ],
   "source": [
    "skf = StratifiedKFold(n_splits=5, shuffle=True, random_state=101)\n",
    "\n",
    "tree_benchmark_rus_score = cross_val_score(tree_pipe_combine_bench_rus, X_train_val, y_train_val, scoring='recall', cv=skf, n_jobs=-1, verbose=1)"
   ]
  },
  {
   "cell_type": "code",
   "execution_count": 83,
   "id": "acquired-blues",
   "metadata": {},
   "outputs": [
    {
     "name": "stdout",
     "output_type": "stream",
     "text": [
      "tree Val Score: 0.8065031689170571\n"
     ]
    }
   ],
   "source": [
    "print('tree Val Score:', tree_benchmark_rus_score.mean()) "
   ]
  },
  {
   "cell_type": "code",
   "execution_count": 84,
   "id": "accepted-verification",
   "metadata": {},
   "outputs": [],
   "source": [
    "tree_benchmark_rus = tree_pipe_combine_bench_rus.fit(X_train_val, y_train_val)"
   ]
  },
  {
   "cell_type": "code",
   "execution_count": 85,
   "id": "direct-momentum",
   "metadata": {},
   "outputs": [
    {
     "data": {
      "text/plain": [
       "Pipeline(steps=[('transformer',\n",
       "                 ColumnTransformer(transformers=[('pipe_num',\n",
       "                                                  Pipeline(steps=[('imputer',\n",
       "                                                                   SimpleImputer(strategy='median'))]),\n",
       "                                                  ['LOAN', 'MORTDUE', 'VALUE',\n",
       "                                                   'YOJ', 'DEROG', 'DELINQ',\n",
       "                                                   'CLAGE', 'NINQ', 'CLNO',\n",
       "                                                   'DEBTINC']),\n",
       "                                                 ('pipe_cat',\n",
       "                                                  Pipeline(steps=[('imputer',\n",
       "                                                                   SimpleImputer(strategy='most_frequent')),\n",
       "                                                                  ('onehot',\n",
       "                                                                   OneHotEncoder(drop='first'))]),\n",
       "                                                  ['REASON', 'JOB'])])),\n",
       "                ('rfe',\n",
       "                 RFE(estimator=DecisionTreeClassifier(random_state=101))),\n",
       "                ('resampling', RandomUnderSampler(random_state=101)),\n",
       "                ('tree', DecisionTreeClassifier(random_state=101))])"
      ]
     },
     "execution_count": 85,
     "metadata": {},
     "output_type": "execute_result"
    }
   ],
   "source": [
    "tree_benchmark_rus"
   ]
  },
  {
   "cell_type": "code",
   "execution_count": 86,
   "id": "monthly-matthew",
   "metadata": {},
   "outputs": [],
   "source": [
    "tree_benchmark_rus_pred = tree_benchmark_rus.predict(X_test)\n",
    "tree_benchmark_rus_proba = tree_benchmark_rus.predict_proba(X_test)"
   ]
  },
  {
   "cell_type": "code",
   "execution_count": 87,
   "id": "prompt-transparency",
   "metadata": {},
   "outputs": [
    {
     "name": "stdout",
     "output_type": "stream",
     "text": [
      "              precision    recall  f1-score   support\n",
      "\n",
      "           0       0.92      0.81      0.86       954\n",
      "           1       0.48      0.71      0.58       238\n",
      "\n",
      "    accuracy                           0.79      1192\n",
      "   macro avg       0.70      0.76      0.72      1192\n",
      "weighted avg       0.83      0.79      0.80      1192\n",
      "\n"
     ]
    }
   ],
   "source": [
    "print(classification_report(y_test, tree_benchmark_rus_pred))"
   ]
  },
  {
   "cell_type": "markdown",
   "id": "swiss-threshold",
   "metadata": {},
   "source": [
    "## 1.10 LOGISTIC REGRESSION-BENCMARK-SMOTE"
   ]
  },
  {
   "cell_type": "code",
   "execution_count": 88,
   "id": "defined-public",
   "metadata": {},
   "outputs": [],
   "source": [
    "logit = LogisticRegression(random_state=101)"
   ]
  },
  {
   "cell_type": "code",
   "execution_count": 89,
   "id": "committed-louisiana",
   "metadata": {},
   "outputs": [],
   "source": [
    "# for monthly and total charges\n",
    "logit_pipe_num = Pipeline([\n",
    "    ('imputer', SimpleImputer(strategy='median', missing_values=np.nan)),\n",
    "    ('scaler', StandardScaler())\n",
    "])\n",
    "\n",
    "# for all object columns\n",
    "logit_pipe_cat = Pipeline([\n",
    "    ('imputer', SimpleImputer(strategy='most_frequent', missing_values=np.nan)),\n",
    "    ('onehot', OneHotEncoder(drop='first'))\n",
    "])\n",
    "\n",
    "# transforming all columns\n",
    "logit_transformer = ColumnTransformer([\n",
    "    ('pipe_num', logit_pipe_num, ['LOAN', 'MORTDUE', 'VALUE', 'YOJ', 'DEROG', 'DELINQ', 'CLAGE', 'NINQ', 'CLNO', 'DEBTINC']),\n",
    "    ('pipe_cat', logit_pipe_cat, ['REASON', 'JOB']),\n",
    "], remainder='passthrough')\n",
    "\n",
    "# combine all pipeline\n",
    "logit_pipe_combine_bench_smote = Pipeline([\n",
    "    ('transformer', logit_transformer),\n",
    "    ('rfe', RFE(logit)),\n",
    "    ('resampling', smote),\n",
    "    ('logit', logit)\n",
    "])"
   ]
  },
  {
   "cell_type": "code",
   "execution_count": 90,
   "id": "restricted-combining",
   "metadata": {},
   "outputs": [
    {
     "name": "stderr",
     "output_type": "stream",
     "text": [
      "[Parallel(n_jobs=-1)]: Using backend LokyBackend with 4 concurrent workers.\n",
      "[Parallel(n_jobs=-1)]: Done   5 out of   5 | elapsed:    0.5s finished\n"
     ]
    }
   ],
   "source": [
    "skf = StratifiedKFold(n_splits=5, shuffle=True, random_state=101)\n",
    "\n",
    "logit_benchmark_smote_score = cross_val_score(logit_pipe_combine_bench_smote, X_train_val, y_train_val, scoring='recall', cv=skf, n_jobs=-1, verbose=1)"
   ]
  },
  {
   "cell_type": "code",
   "execution_count": 91,
   "id": "driven-channels",
   "metadata": {},
   "outputs": [
    {
     "name": "stdout",
     "output_type": "stream",
     "text": [
      "logit Val Score: 0.6403692477266464\n"
     ]
    }
   ],
   "source": [
    "print('logit Val Score:', logit_benchmark_smote_score.mean())"
   ]
  },
  {
   "cell_type": "code",
   "execution_count": 92,
   "id": "stuffed-universal",
   "metadata": {},
   "outputs": [],
   "source": [
    "logit_benchmark_smote = logit_pipe_combine_bench_smote.fit(X_train_val, y_train_val)"
   ]
  },
  {
   "cell_type": "code",
   "execution_count": 93,
   "id": "published-somalia",
   "metadata": {},
   "outputs": [
    {
     "data": {
      "text/plain": [
       "Pipeline(steps=[('transformer',\n",
       "                 ColumnTransformer(remainder='passthrough',\n",
       "                                   transformers=[('pipe_num',\n",
       "                                                  Pipeline(steps=[('imputer',\n",
       "                                                                   SimpleImputer(strategy='median')),\n",
       "                                                                  ('scaler',\n",
       "                                                                   StandardScaler())]),\n",
       "                                                  ['LOAN', 'MORTDUE', 'VALUE',\n",
       "                                                   'YOJ', 'DEROG', 'DELINQ',\n",
       "                                                   'CLAGE', 'NINQ', 'CLNO',\n",
       "                                                   'DEBTINC']),\n",
       "                                                 ('pipe_cat',\n",
       "                                                  Pipeline(steps=[('imputer',\n",
       "                                                                   SimpleImputer(strategy='most_frequent')),\n",
       "                                                                  ('onehot',\n",
       "                                                                   OneHotEncoder(drop='first'))]),\n",
       "                                                  ['REASON', 'JOB'])])),\n",
       "                ('rfe', RFE(estimator=LogisticRegression(random_state=101))),\n",
       "                ('resampling', SMOTE(random_state=101)),\n",
       "                ('logit', LogisticRegression(random_state=101))])"
      ]
     },
     "execution_count": 93,
     "metadata": {},
     "output_type": "execute_result"
    }
   ],
   "source": [
    "logit_benchmark_smote"
   ]
  },
  {
   "cell_type": "code",
   "execution_count": 94,
   "id": "palestinian-groove",
   "metadata": {},
   "outputs": [],
   "source": [
    "logit_benchmark_smote_pred = logit_benchmark_smote.predict(X_test)\n",
    "logit_benchmark_smote_proba = logit_benchmark_smote.predict_proba(X_test)"
   ]
  },
  {
   "cell_type": "code",
   "execution_count": 95,
   "id": "acute-kingston",
   "metadata": {},
   "outputs": [
    {
     "name": "stdout",
     "output_type": "stream",
     "text": [
      "              precision    recall  f1-score   support\n",
      "\n",
      "           0       0.89      0.77      0.83       954\n",
      "           1       0.40      0.61      0.49       238\n",
      "\n",
      "    accuracy                           0.74      1192\n",
      "   macro avg       0.64      0.69      0.66      1192\n",
      "weighted avg       0.79      0.74      0.76      1192\n",
      "\n"
     ]
    }
   ],
   "source": [
    "print(classification_report(y_test, logit_benchmark_smote_pred))"
   ]
  },
  {
   "cell_type": "code",
   "execution_count": null,
   "id": "outside-warner",
   "metadata": {},
   "outputs": [],
   "source": []
  },
  {
   "cell_type": "code",
   "execution_count": null,
   "id": "electric-suspect",
   "metadata": {},
   "outputs": [],
   "source": []
  },
  {
   "cell_type": "markdown",
   "id": "annual-elevation",
   "metadata": {},
   "source": [
    "## 1.11 LOGISTIC REGRESSION-BENCHMARK-ROS"
   ]
  },
  {
   "cell_type": "code",
   "execution_count": 96,
   "id": "spread-texture",
   "metadata": {},
   "outputs": [],
   "source": [
    "logit = LogisticRegression(random_state=101)"
   ]
  },
  {
   "cell_type": "code",
   "execution_count": 97,
   "id": "second-polls",
   "metadata": {},
   "outputs": [],
   "source": [
    "# for monthly and total charges\n",
    "logit_pipe_num = Pipeline([\n",
    "    ('imputer', SimpleImputer(strategy='median', missing_values=np.nan)),\n",
    "    ('scaler', StandardScaler())\n",
    "])\n",
    "\n",
    "# for all object columns\n",
    "logit_pipe_cat = Pipeline([\n",
    "    ('imputer', SimpleImputer(strategy='most_frequent', missing_values=np.nan)),\n",
    "    ('onehot', OneHotEncoder(drop='first'))\n",
    "])\n",
    "\n",
    "# transforming all columns\n",
    "logit_transformer = ColumnTransformer([\n",
    "    ('pipe_num', logit_pipe_num, ['LOAN', 'MORTDUE', 'VALUE', 'YOJ', 'DEROG', 'DELINQ', 'CLAGE', 'NINQ', 'CLNO', 'DEBTINC']),\n",
    "    ('pipe_cat', logit_pipe_cat, ['REASON', 'JOB']),\n",
    "], remainder='passthrough')\n",
    "\n",
    "# combine all pipeline\n",
    "logit_pipe_combine_bench_ros = Pipeline([\n",
    "    ('transformer', logit_transformer),\n",
    "    ('rfe', RFE(logit)),\n",
    "    ('resampling', ros),\n",
    "    ('logit', logit)\n",
    "])"
   ]
  },
  {
   "cell_type": "code",
   "execution_count": 98,
   "id": "developed-consideration",
   "metadata": {},
   "outputs": [
    {
     "name": "stderr",
     "output_type": "stream",
     "text": [
      "[Parallel(n_jobs=-1)]: Using backend LokyBackend with 4 concurrent workers.\n",
      "[Parallel(n_jobs=-1)]: Done   5 out of   5 | elapsed:    0.5s finished\n"
     ]
    }
   ],
   "source": [
    "skf = StratifiedKFold(n_splits=5, shuffle=True, random_state=101)\n",
    "\n",
    "logit_benchmark_ros_score = cross_val_score(logit_pipe_combine_bench_ros, X_train_val, y_train_val, scoring='recall', cv=skf, n_jobs=-1, verbose=1)"
   ]
  },
  {
   "cell_type": "code",
   "execution_count": 99,
   "id": "infinite-vienna",
   "metadata": {},
   "outputs": [
    {
     "name": "stdout",
     "output_type": "stream",
     "text": [
      "logit Val Score: 0.6424579774042436\n"
     ]
    }
   ],
   "source": [
    "print('logit Val Score:', logit_benchmark_ros_score.mean())"
   ]
  },
  {
   "cell_type": "code",
   "execution_count": 100,
   "id": "external-channel",
   "metadata": {},
   "outputs": [],
   "source": [
    "logit_benchmark_ros = logit_pipe_combine_bench_ros.fit(X_train_val, y_train_val)"
   ]
  },
  {
   "cell_type": "code",
   "execution_count": 101,
   "id": "becoming-measure",
   "metadata": {},
   "outputs": [
    {
     "data": {
      "text/plain": [
       "Pipeline(steps=[('transformer',\n",
       "                 ColumnTransformer(remainder='passthrough',\n",
       "                                   transformers=[('pipe_num',\n",
       "                                                  Pipeline(steps=[('imputer',\n",
       "                                                                   SimpleImputer(strategy='median')),\n",
       "                                                                  ('scaler',\n",
       "                                                                   StandardScaler())]),\n",
       "                                                  ['LOAN', 'MORTDUE', 'VALUE',\n",
       "                                                   'YOJ', 'DEROG', 'DELINQ',\n",
       "                                                   'CLAGE', 'NINQ', 'CLNO',\n",
       "                                                   'DEBTINC']),\n",
       "                                                 ('pipe_cat',\n",
       "                                                  Pipeline(steps=[('imputer',\n",
       "                                                                   SimpleImputer(strategy='most_frequent')),\n",
       "                                                                  ('onehot',\n",
       "                                                                   OneHotEncoder(drop='first'))]),\n",
       "                                                  ['REASON', 'JOB'])])),\n",
       "                ('rfe', RFE(estimator=LogisticRegression(random_state=101))),\n",
       "                ('resampling', RandomOverSampler(random_state=101)),\n",
       "                ('logit', LogisticRegression(random_state=101))])"
      ]
     },
     "execution_count": 101,
     "metadata": {},
     "output_type": "execute_result"
    }
   ],
   "source": [
    "logit_benchmark_ros"
   ]
  },
  {
   "cell_type": "code",
   "execution_count": 102,
   "id": "appropriate-request",
   "metadata": {},
   "outputs": [],
   "source": [
    "logit_benchmark_ros_pred = logit_benchmark_ros.predict(X_test)\n",
    "logit_benchmark_ros_proba = logit_benchmark_ros.predict_proba(X_test)"
   ]
  },
  {
   "cell_type": "code",
   "execution_count": 103,
   "id": "wired-pathology",
   "metadata": {},
   "outputs": [
    {
     "name": "stdout",
     "output_type": "stream",
     "text": [
      "              precision    recall  f1-score   support\n",
      "\n",
      "           0       0.89      0.78      0.83       954\n",
      "           1       0.41      0.61      0.49       238\n",
      "\n",
      "    accuracy                           0.74      1192\n",
      "   macro avg       0.65      0.69      0.66      1192\n",
      "weighted avg       0.79      0.74      0.76      1192\n",
      "\n"
     ]
    }
   ],
   "source": [
    "print(classification_report(y_test, logit_benchmark_ros_pred))"
   ]
  },
  {
   "cell_type": "markdown",
   "id": "enormous-secretariat",
   "metadata": {},
   "source": [
    "# 1.12 LOGIT-BENCHMARK-RUS"
   ]
  },
  {
   "cell_type": "code",
   "execution_count": 104,
   "id": "yellow-scotland",
   "metadata": {},
   "outputs": [],
   "source": [
    "logit = LogisticRegression(random_state=101)"
   ]
  },
  {
   "cell_type": "code",
   "execution_count": 105,
   "id": "ready-whale",
   "metadata": {},
   "outputs": [],
   "source": [
    "# for monthly and total charges\n",
    "logit_pipe_num = Pipeline([\n",
    "    ('imputer', SimpleImputer(strategy='median', missing_values=np.nan)),\n",
    "    ('scaler', StandardScaler())\n",
    "])\n",
    "\n",
    "# for all object columns\n",
    "logit_pipe_cat = Pipeline([\n",
    "    ('imputer', SimpleImputer(strategy='most_frequent', missing_values=np.nan)),\n",
    "    ('onehot', OneHotEncoder(drop='first'))\n",
    "])\n",
    "\n",
    "# transforming all columns\n",
    "logit_transformer = ColumnTransformer([\n",
    "    ('pipe_num', logit_pipe_num, ['LOAN', 'MORTDUE', 'VALUE', 'YOJ', 'DEROG', 'DELINQ', 'CLAGE', 'NINQ', 'CLNO', 'DEBTINC']),\n",
    "    ('pipe_cat', logit_pipe_cat, ['REASON', 'JOB']),\n",
    "], remainder='passthrough')\n",
    "\n",
    "# combine all pipeline\n",
    "logit_pipe_combine_bench_rus = Pipeline([\n",
    "    ('transformer', logit_transformer),\n",
    "    ('rfe', RFE(logit)),\n",
    "    ('resampling', rus),\n",
    "    ('logit', logit)\n",
    "])"
   ]
  },
  {
   "cell_type": "code",
   "execution_count": 106,
   "id": "simplified-chain",
   "metadata": {},
   "outputs": [
    {
     "name": "stderr",
     "output_type": "stream",
     "text": [
      "[Parallel(n_jobs=-1)]: Using backend LokyBackend with 4 concurrent workers.\n",
      "[Parallel(n_jobs=-1)]: Done   5 out of   5 | elapsed:    0.5s finished\n"
     ]
    }
   ],
   "source": [
    "StratifiedKFold(n_splits=5, shuffle=True, random_state=101)\n",
    "\n",
    "logit_benchmark_rus_score = cross_val_score(logit_pipe_combine_bench_rus, X_train_val, y_train_val, scoring='recall', cv=skf, n_jobs=-1, verbose=1)"
   ]
  },
  {
   "cell_type": "code",
   "execution_count": 107,
   "id": "dependent-royal",
   "metadata": {},
   "outputs": [
    {
     "name": "stdout",
     "output_type": "stream",
     "text": [
      "logit Val Score: 0.6477211352989805\n"
     ]
    }
   ],
   "source": [
    "print('logit Val Score:', logit_benchmark_rus_score.mean())"
   ]
  },
  {
   "cell_type": "code",
   "execution_count": 108,
   "id": "velvet-rugby",
   "metadata": {},
   "outputs": [],
   "source": [
    "logit_benchmark_rus = logit_pipe_combine_bench_rus.fit(X_train_val, y_train_val)"
   ]
  },
  {
   "cell_type": "code",
   "execution_count": 109,
   "id": "comparative-customer",
   "metadata": {},
   "outputs": [
    {
     "data": {
      "text/plain": [
       "Pipeline(steps=[('transformer',\n",
       "                 ColumnTransformer(remainder='passthrough',\n",
       "                                   transformers=[('pipe_num',\n",
       "                                                  Pipeline(steps=[('imputer',\n",
       "                                                                   SimpleImputer(strategy='median')),\n",
       "                                                                  ('scaler',\n",
       "                                                                   StandardScaler())]),\n",
       "                                                  ['LOAN', 'MORTDUE', 'VALUE',\n",
       "                                                   'YOJ', 'DEROG', 'DELINQ',\n",
       "                                                   'CLAGE', 'NINQ', 'CLNO',\n",
       "                                                   'DEBTINC']),\n",
       "                                                 ('pipe_cat',\n",
       "                                                  Pipeline(steps=[('imputer',\n",
       "                                                                   SimpleImputer(strategy='most_frequent')),\n",
       "                                                                  ('onehot',\n",
       "                                                                   OneHotEncoder(drop='first'))]),\n",
       "                                                  ['REASON', 'JOB'])])),\n",
       "                ('rfe', RFE(estimator=LogisticRegression(random_state=101))),\n",
       "                ('resampling', RandomUnderSampler(random_state=101)),\n",
       "                ('logit', LogisticRegression(random_state=101))])"
      ]
     },
     "execution_count": 109,
     "metadata": {},
     "output_type": "execute_result"
    }
   ],
   "source": [
    "logit_benchmark_rus"
   ]
  },
  {
   "cell_type": "code",
   "execution_count": 110,
   "id": "incomplete-relation",
   "metadata": {},
   "outputs": [],
   "source": [
    "logit_benchmark_rus_pred = logit_benchmark_rus.predict(X_test)\n",
    "logit_benchmark_rus_proba = logit_benchmark_rus.predict_proba(X_test)"
   ]
  },
  {
   "cell_type": "code",
   "execution_count": 111,
   "id": "southern-neighbor",
   "metadata": {},
   "outputs": [
    {
     "name": "stdout",
     "output_type": "stream",
     "text": [
      "              precision    recall  f1-score   support\n",
      "\n",
      "           0       0.89      0.77      0.82       954\n",
      "           1       0.40      0.63      0.49       238\n",
      "\n",
      "    accuracy                           0.74      1192\n",
      "   macro avg       0.65      0.70      0.66      1192\n",
      "weighted avg       0.79      0.74      0.76      1192\n",
      "\n"
     ]
    }
   ],
   "source": [
    "print(classification_report(y_test, logit_benchmark_rus_pred))"
   ]
  },
  {
   "cell_type": "markdown",
   "id": "wrapped-slave",
   "metadata": {},
   "source": [
    "## 1.13 EVALUATION MODEL"
   ]
  },
  {
   "cell_type": "code",
   "execution_count": 112,
   "id": "divided-mistake",
   "metadata": {},
   "outputs": [],
   "source": [
    "modelComparation = pd.DataFrame({\n",
    "    \"RandomForest_benchmark_smote\": [rfc_benchmark_smote_score.mean()],\n",
    "    \"RandomForest_benchmark_ros\": [rfc_benchmark_ros_score.mean()],\n",
    "    \"RandomForest_benchmark_rus\": [rfc_benchmark_rus_score.mean()],\n",
    "    \"K-NearestNeighbor_benchmark_smote\": [knn_benchmark_smote_score.mean()],\n",
    "    \"K-NearestNeighbor_benchmark_ros\": [knn_benchmark_ros_score.mean()],\n",
    "    \"K-NearestNeighbor_benchmark_rus\": [knn_benchmark_rus_score.mean()],\n",
    "    \"DecisionTreeClassifier_benchmark_smote\": [tree_benchmark_smote_score.mean()],\n",
    "    \"DecisionTreeClassifier_benchmark_ros\": [tree_benchmark_ros_score.mean()],\n",
    "    \"DecisionTreeClassifier_benchmark_rus\": [tree_benchmark_rus_score.mean()],\n",
    "    \"LogisticRegression_benchmar_smotek\": [logit_benchmark_smote_score.mean()],\n",
    "    \"LogisticRegression_benchmark_ros\": [logit_benchmark_ros_score.mean()],\n",
    "    \"LogisticRegression_benchmark_rus\": [logit_benchmark_rus_score.mean()],\n",
    "}, index=['Cross Validation'])\n",
    "df_model = modelComparation.T"
   ]
  },
  {
   "cell_type": "code",
   "execution_count": 113,
   "id": "paperback-chrome",
   "metadata": {},
   "outputs": [
    {
     "name": "stdout",
     "output_type": "stream",
     "text": [
      "                              Cross Validation\n",
      "RandomForest_benchmark_rus            0.847561\n",
      "RandomForest_benchmark_smote          0.764486\n",
      "RandomForest_benchmark_ros            0.714009\n",
      "\n",
      "                                   Cross Validation\n",
      "K-NearestNeighbor_benchmark_smote          0.769738\n",
      "K-NearestNeighbor_benchmark_ros            0.740276\n",
      "K-NearestNeighbor_benchmark_rus            0.719256\n",
      "\n",
      "                                        Cross Validation\n",
      "DecisionTreeClassifier_benchmark_rus            0.806503\n",
      "DecisionTreeClassifier_benchmark_smote          0.668757\n",
      "DecisionTreeClassifier_benchmark_ros            0.607842\n",
      "\n",
      "                                    Cross Validation\n",
      "LogisticRegression_benchmark_rus            0.647721\n",
      "LogisticRegression_benchmark_ros            0.642458\n",
      "LogisticRegression_benchmar_smotek          0.640369\n"
     ]
    }
   ],
   "source": [
    "print(df_model.iloc[0:3].sort_values(by='Cross Validation', ascending=False))\n",
    "print()\n",
    "print(df_model.iloc[3:6].sort_values(by='Cross Validation', ascending=False))\n",
    "print()\n",
    "print(df_model.iloc[6:9].sort_values(by='Cross Validation', ascending=False))\n",
    "print()\n",
    "print(df_model.iloc[9:].sort_values(by='Cross Validation', ascending=False))"
   ]
  },
  {
   "cell_type": "markdown",
   "id": "refined-collar",
   "metadata": {},
   "source": [
    "Berdasarkan hasil yang didapat dengan membandingkan nilai cross validation didapat 4 model terbaik dari setiap algoritmanya.<br>\n",
    "\n",
    "ke-4 model tersebut akan dilakukan digunakan pada algoritma ensemble voting classifier"
   ]
  },
  {
   "cell_type": "markdown",
   "id": "international-morning",
   "metadata": {},
   "source": [
    "## 1.14 VOTING CLASSIFIER-BENCHMARK: KNN, DTC, LOGISTIC REGRESSION"
   ]
  },
  {
   "cell_type": "code",
   "execution_count": 233,
   "id": "functional-liverpool",
   "metadata": {},
   "outputs": [],
   "source": [
    "vc = VotingClassifier([('clf1', knn_pipe_combine_bench_smote), ('clf2', tree_pipe_combine_bench_rus), ('clf3',logit_pipe_combine_bench_rus)], voting='soft')"
   ]
  },
  {
   "cell_type": "code",
   "execution_count": 234,
   "id": "extraordinary-scenario",
   "metadata": {},
   "outputs": [
    {
     "name": "stderr",
     "output_type": "stream",
     "text": [
      "[Parallel(n_jobs=-1)]: Using backend LokyBackend with 4 concurrent workers.\n",
      "[Parallel(n_jobs=-1)]: Done   5 out of   5 | elapsed:    4.4s finished\n"
     ]
    }
   ],
   "source": [
    "skf = StratifiedKFold(n_splits=5, shuffle=True, random_state=101)\n",
    "\n",
    "votingClass_benchmark_score = cross_val_score(vc, X_train_val, y_train_val, scoring='recall', cv=skf, n_jobs=-1, verbose=1)"
   ]
  },
  {
   "cell_type": "code",
   "execution_count": 235,
   "id": "experienced-astronomy",
   "metadata": {},
   "outputs": [
    {
     "name": "stdout",
     "output_type": "stream",
     "text": [
      "votingClass Val Score: 0.8023257095618627\n"
     ]
    }
   ],
   "source": [
    "print('votingClass Val Score:', votingClass_benchmark_score.mean())"
   ]
  },
  {
   "cell_type": "code",
   "execution_count": 236,
   "id": "recorded-guidance",
   "metadata": {},
   "outputs": [],
   "source": [
    "vc_benchmark = vc.fit(X_train_val, y_train_val)"
   ]
  },
  {
   "cell_type": "code",
   "execution_count": 237,
   "id": "other-nicholas",
   "metadata": {},
   "outputs": [
    {
     "data": {
      "text/plain": [
       "VotingClassifier(estimators=[('clf1',\n",
       "                              Pipeline(steps=[('transformer',\n",
       "                                               ColumnTransformer(transformers=[('pipe_num',\n",
       "                                                                                Pipeline(steps=[('imputer',\n",
       "                                                                                                 SimpleImputer(strategy='median')),\n",
       "                                                                                                ('scaler',\n",
       "                                                                                                 StandardScaler())]),\n",
       "                                                                                ['LOAN',\n",
       "                                                                                 'MORTDUE',\n",
       "                                                                                 'VALUE',\n",
       "                                                                                 'YOJ',\n",
       "                                                                                 'DEROG',\n",
       "                                                                                 'DELINQ',\n",
       "                                                                                 'CLAGE',\n",
       "                                                                                 'NINQ',\n",
       "                                                                                 'CLNO',\n",
       "                                                                                 'DEBTINC']),\n",
       "                                                                               ('pipe_cat',\n",
       "                                                                                Pipeline(steps=[('imputer',\n",
       "                                                                                                 SimpleImputer(strategy='m...\n",
       "                                                                                 'CLAGE',\n",
       "                                                                                 'NINQ',\n",
       "                                                                                 'CLNO',\n",
       "                                                                                 'DEBTINC']),\n",
       "                                                                               ('pipe_cat',\n",
       "                                                                                Pipeline(steps=[('imputer',\n",
       "                                                                                                 SimpleImputer(strategy='most_frequent')),\n",
       "                                                                                                ('onehot',\n",
       "                                                                                                 OneHotEncoder(drop='first'))]),\n",
       "                                                                                ['REASON',\n",
       "                                                                                 'JOB'])])),\n",
       "                                              ('rfe',\n",
       "                                               RFE(estimator=LogisticRegression(random_state=101))),\n",
       "                                              ('resampling',\n",
       "                                               RandomUnderSampler(random_state=101)),\n",
       "                                              ('logit',\n",
       "                                               LogisticRegression(random_state=101))]))],\n",
       "                 voting='soft')"
      ]
     },
     "execution_count": 237,
     "metadata": {},
     "output_type": "execute_result"
    }
   ],
   "source": [
    "vc_benchmark"
   ]
  },
  {
   "cell_type": "code",
   "execution_count": 238,
   "id": "tight-disco",
   "metadata": {},
   "outputs": [],
   "source": [
    "vc_benchmark_pred = vc_benchmark.predict(X_test)\n",
    "vc_benchmark_proba = vc_benchmark.predict_proba(X_test)"
   ]
  },
  {
   "cell_type": "code",
   "execution_count": 239,
   "id": "coated-popularity",
   "metadata": {},
   "outputs": [
    {
     "name": "stdout",
     "output_type": "stream",
     "text": [
      "              precision    recall  f1-score   support\n",
      "\n",
      "           0       0.93      0.91      0.92       954\n",
      "           1       0.67      0.74      0.70       238\n",
      "\n",
      "    accuracy                           0.88      1192\n",
      "   macro avg       0.80      0.82      0.81      1192\n",
      "weighted avg       0.88      0.88      0.88      1192\n",
      "\n"
     ]
    }
   ],
   "source": [
    "print(classification_report(y_test, vc_benchmark_pred))"
   ]
  },
  {
   "cell_type": "markdown",
   "id": "naked-milwaukee",
   "metadata": {},
   "source": [
    "# 2. HYPERPARAMETER TUNNING"
   ]
  },
  {
   "cell_type": "markdown",
   "id": "broke-violin",
   "metadata": {},
   "source": [
    "## 2.1 LOGISTIC REGRESSION-TUNNED-RUS"
   ]
  },
  {
   "cell_type": "code",
   "execution_count": 240,
   "id": "fiscal-handling",
   "metadata": {},
   "outputs": [],
   "source": [
    "logit = LogisticRegression(random_state=101)"
   ]
  },
  {
   "cell_type": "code",
   "execution_count": 241,
   "id": "lesbian-attendance",
   "metadata": {},
   "outputs": [],
   "source": [
    "# for monthly and total charges\n",
    "\n",
    "pca_pipe_num = Pipeline([\n",
    "    ('imputer', SimpleImputer(strategy='median', missing_values=np.nan)),\n",
    "    ('scaler', StandardScaler()),\n",
    "    ('pca', PCA(n_components=1))\n",
    "])\n",
    "\n",
    "\n",
    "logit_pipe_num = Pipeline([\n",
    "    ('imputer', SimpleImputer(strategy='median', missing_values=np.nan)),\n",
    "    ('scaler', StandardScaler())\n",
    "])\n",
    "\n",
    "# for all object columns\n",
    "logit_pipe_cat = Pipeline([\n",
    "    ('imputer', SimpleImputer(strategy='most_frequent', missing_values=np.nan)),\n",
    "    ('onehot', OneHotEncoder(drop='first'))\n",
    "])\n",
    "\n",
    "# transforming all columns\n",
    "logit_transformer = ColumnTransformer([\n",
    "    ('pca_num', pca_pipe_num, ['VALUE', 'MORTDUE']),\n",
    "    ('pipe_num', logit_pipe_num, ['LOAN','YOJ', 'DEROG', 'DELINQ', 'CLAGE', 'NINQ', 'CLNO', 'DEBTINC']),\n",
    "    ('pipe_cat', logit_pipe_cat, ['REASON', 'JOB']),\n",
    "], remainder='passthrough')\n",
    "\n",
    "# combine all pipeline\n",
    "logit_pipe_combine_tunned = Pipeline([\n",
    "    ('transformer', logit_transformer),\n",
    "    ('rfe', RFE(logit)),\n",
    "    ('resampling', rus),\n",
    "    ('logit', logit)\n",
    "])"
   ]
  },
  {
   "cell_type": "code",
   "execution_count": 242,
   "id": "chronic-peeing",
   "metadata": {},
   "outputs": [],
   "source": [
    "hyperparam_space = {\n",
    "    'resampling__sampling_strategy': ['auto','all'],\n",
    "    'logit__C':[100, 10, 1, 0.1, 0.01, 0.001],\n",
    "    'logit__solver':['liblinear', 'newton-cg']\n",
    "}\n",
    "\n",
    "skf = StratifiedKFold(n_splits=5, shuffle=True, random_state=101)\n",
    "\n",
    "grid_search_logit_tunned = GridSearchCV(logit_pipe_combine_tunned, param_grid = hyperparam_space, cv = skf, scoring = 'recall', verbose=1, n_jobs = -1)"
   ]
  },
  {
   "cell_type": "code",
   "execution_count": 243,
   "id": "prescribed-anderson",
   "metadata": {},
   "outputs": [
    {
     "name": "stdout",
     "output_type": "stream",
     "text": [
      "Fitting 5 folds for each of 24 candidates, totalling 120 fits\n"
     ]
    },
    {
     "data": {
      "text/plain": [
       "GridSearchCV(cv=StratifiedKFold(n_splits=5, random_state=101, shuffle=True),\n",
       "             estimator=Pipeline(steps=[('transformer',\n",
       "                                        ColumnTransformer(remainder='passthrough',\n",
       "                                                          transformers=[('pca_num',\n",
       "                                                                         Pipeline(steps=[('imputer',\n",
       "                                                                                          SimpleImputer(strategy='median')),\n",
       "                                                                                         ('scaler',\n",
       "                                                                                          StandardScaler()),\n",
       "                                                                                         ('pca',\n",
       "                                                                                          PCA(n_components=1))]),\n",
       "                                                                         ['VALUE',\n",
       "                                                                          'MORTDUE']),\n",
       "                                                                        ('pipe_num',\n",
       "                                                                         Pipeline(steps=[...\n",
       "                                                                         ['REASON',\n",
       "                                                                          'JOB'])])),\n",
       "                                       ('rfe',\n",
       "                                        RFE(estimator=LogisticRegression(random_state=101))),\n",
       "                                       ('resampling',\n",
       "                                        RandomUnderSampler(random_state=101)),\n",
       "                                       ('logit',\n",
       "                                        LogisticRegression(random_state=101))]),\n",
       "             n_jobs=-1,\n",
       "             param_grid={'logit__C': [100, 10, 1, 0.1, 0.01, 0.001],\n",
       "                         'logit__solver': ['liblinear', 'newton-cg'],\n",
       "                         'resampling__sampling_strategy': ['auto', 'all']},\n",
       "             scoring='recall', verbose=1)"
      ]
     },
     "execution_count": 243,
     "metadata": {},
     "output_type": "execute_result"
    }
   ],
   "source": [
    "grid_search_logit_tunned.fit(X_train_val, y_train_val)"
   ]
  },
  {
   "cell_type": "code",
   "execution_count": 244,
   "id": "senior-dutch",
   "metadata": {},
   "outputs": [
    {
     "data": {
      "text/plain": [
       "{'logit__C': 0.001,\n",
       " 'logit__solver': 'liblinear',\n",
       " 'resampling__sampling_strategy': 'auto'}"
      ]
     },
     "execution_count": 244,
     "metadata": {},
     "output_type": "execute_result"
    }
   ],
   "source": [
    "grid_search_logit_tunned.best_params_"
   ]
  },
  {
   "cell_type": "code",
   "execution_count": 245,
   "id": "german-scratch",
   "metadata": {},
   "outputs": [
    {
     "name": "stderr",
     "output_type": "stream",
     "text": [
      "[Parallel(n_jobs=-1)]: Using backend LokyBackend with 4 concurrent workers.\n",
      "[Parallel(n_jobs=-1)]: Done   5 out of   5 | elapsed:    0.5s finished\n"
     ]
    },
    {
     "data": {
      "text/plain": [
       "array([0.63874346, 0.66842105, 0.64736842, 0.68421053, 0.62631579])"
      ]
     },
     "execution_count": 245,
     "metadata": {},
     "output_type": "execute_result"
    }
   ],
   "source": [
    "logit_tuned = grid_search_logit_tunned.best_estimator_\n",
    "logit_tuned_score = cross_val_score(logit_tuned, X_train_val, y_train_val, scoring= 'recall', cv=skf, n_jobs=-1, verbose=1)\n",
    "logit_tuned_score"
   ]
  },
  {
   "cell_type": "code",
   "execution_count": 246,
   "id": "settled-julian",
   "metadata": {},
   "outputs": [
    {
     "name": "stdout",
     "output_type": "stream",
     "text": [
      "logit_tuned_score = 0.6530118489942133\n"
     ]
    }
   ],
   "source": [
    "print(f'logit_tuned_score = {logit_tuned_score.mean()}')"
   ]
  },
  {
   "cell_type": "code",
   "execution_count": 247,
   "id": "productive-somerset",
   "metadata": {},
   "outputs": [],
   "source": [
    "logit_tuned = logit_tuned.fit(X_train_val, y_train_val)"
   ]
  },
  {
   "cell_type": "code",
   "execution_count": 248,
   "id": "endangered-opinion",
   "metadata": {},
   "outputs": [
    {
     "data": {
      "text/plain": [
       "Pipeline(steps=[('transformer',\n",
       "                 ColumnTransformer(remainder='passthrough',\n",
       "                                   transformers=[('pca_num',\n",
       "                                                  Pipeline(steps=[('imputer',\n",
       "                                                                   SimpleImputer(strategy='median')),\n",
       "                                                                  ('scaler',\n",
       "                                                                   StandardScaler()),\n",
       "                                                                  ('pca',\n",
       "                                                                   PCA(n_components=1))]),\n",
       "                                                  ['VALUE', 'MORTDUE']),\n",
       "                                                 ('pipe_num',\n",
       "                                                  Pipeline(steps=[('imputer',\n",
       "                                                                   SimpleImputer(strategy='median')),\n",
       "                                                                  ('scaler',\n",
       "                                                                   StandardScaler())]),\n",
       "                                                  ['LOAN', '...\n",
       "                                                   'DELINQ', 'CLAGE', 'NINQ',\n",
       "                                                   'CLNO', 'DEBTINC']),\n",
       "                                                 ('pipe_cat',\n",
       "                                                  Pipeline(steps=[('imputer',\n",
       "                                                                   SimpleImputer(strategy='most_frequent')),\n",
       "                                                                  ('onehot',\n",
       "                                                                   OneHotEncoder(drop='first'))]),\n",
       "                                                  ['REASON', 'JOB'])])),\n",
       "                ('rfe', RFE(estimator=LogisticRegression(random_state=101))),\n",
       "                ('resampling', RandomUnderSampler(random_state=101)),\n",
       "                ('logit',\n",
       "                 LogisticRegression(C=0.001, random_state=101,\n",
       "                                    solver='liblinear'))])"
      ]
     },
     "execution_count": 248,
     "metadata": {},
     "output_type": "execute_result"
    }
   ],
   "source": [
    "logit_tuned"
   ]
  },
  {
   "cell_type": "code",
   "execution_count": 249,
   "id": "toxic-guidance",
   "metadata": {},
   "outputs": [],
   "source": [
    "logit_tuned_pred = logit_tuned.predict(X_test)\n",
    "logit_tuned_proba = logit_tuned.predict_proba(X_test)"
   ]
  },
  {
   "cell_type": "code",
   "execution_count": 250,
   "id": "australian-combat",
   "metadata": {},
   "outputs": [
    {
     "name": "stdout",
     "output_type": "stream",
     "text": [
      "              precision    recall  f1-score   support\n",
      "\n",
      "           0       0.90      0.76      0.82       954\n",
      "           1       0.41      0.66      0.50       238\n",
      "\n",
      "    accuracy                           0.74      1192\n",
      "   macro avg       0.65      0.71      0.66      1192\n",
      "weighted avg       0.80      0.74      0.76      1192\n",
      "\n"
     ]
    }
   ],
   "source": [
    "print(classification_report(y_test,logit_tuned_pred))"
   ]
  },
  {
   "cell_type": "markdown",
   "id": "combined-haiti",
   "metadata": {},
   "source": [
    "## 2.2 LOGISTIC REGRESSION-TUNNED-POLY-ROS"
   ]
  },
  {
   "cell_type": "code",
   "execution_count": 251,
   "id": "after-buying",
   "metadata": {},
   "outputs": [],
   "source": [
    "logit = LogisticRegression(solver='newton-cg', C=0.001)\n",
    "lr_poly = PolynomialFeatures(degree=3, include_bias=False)\n",
    "# pipe_lr = Pipeline([\n",
    "#     ('poly', lr_poly), \n",
    "#     ('clf', lr)])\n",
    "\n",
    "\n",
    "pca_pipe_num = Pipeline([\n",
    "    ('imputer', SimpleImputer(strategy='median', missing_values=np.nan)),\n",
    "    ('scaler', StandardScaler()),\n",
    "    ('pca', PCA(n_components=1))\n",
    "])\n",
    "\n",
    "logit_pipe_num = Pipeline([\n",
    "    ('imputer', SimpleImputer(strategy='median', missing_values=np.nan)),\n",
    "    ('scaler', StandardScaler())\n",
    "])\n",
    "\n",
    "# for all object columns\n",
    "logit_pipe_cat = Pipeline([\n",
    "    ('onehot', OneHotEncoder(drop='first'))\n",
    "])\n",
    "\n",
    "# transforming all columns\n",
    "logit_transformer = ColumnTransformer([\n",
    "    ('pca_num', pca_pipe_num, ['VALUE', 'MORTDUE']),\n",
    "    ('pipe_num', logit_pipe_num, ['LOAN', 'YOJ', 'DEROG', 'DELINQ', 'CLAGE', 'NINQ', 'CLNO', 'DEBTINC']),\n",
    "    ('pipe_cat', logit_pipe_cat, ['REASON', 'JOB']),\n",
    "], remainder='passthrough')\n",
    "\n",
    "# combine all pipeline\n",
    "logit_pipe_combine_tunned_poly = Pipeline([\n",
    "    ('transformer', logit_transformer),\n",
    "    ('poly', lr_poly),\n",
    "    ('rfe', RFE(logit)),\n",
    "    ('resampling', ros),\n",
    "    ('logit', logit)\n",
    "])"
   ]
  },
  {
   "cell_type": "code",
   "execution_count": 252,
   "id": "empty-packet",
   "metadata": {},
   "outputs": [
    {
     "name": "stderr",
     "output_type": "stream",
     "text": [
      "[Parallel(n_jobs=-1)]: Using backend LokyBackend with 4 concurrent workers.\n",
      "[Parallel(n_jobs=-1)]: Done   5 out of   5 | elapsed: 40.3min finished\n"
     ]
    },
    {
     "data": {
      "text/plain": [
       "array([0.5971564 , 0.64096386, 0.58490566, 0.61244019, 0.57635468])"
      ]
     },
     "execution_count": 252,
     "metadata": {},
     "output_type": "execute_result"
    }
   ],
   "source": [
    "skf = StratifiedKFold(n_splits=5, shuffle=True, random_state=101)\n",
    "\n",
    "logit_tuned_poly_score = cross_val_score(logit_pipe_combine_tunned_poly, X_train_val, y_train_val, scoring= 'f1', cv=skf, n_jobs=-1, verbose=1)\n",
    "logit_tuned_poly_score"
   ]
  },
  {
   "cell_type": "code",
   "execution_count": 253,
   "id": "extended-survivor",
   "metadata": {},
   "outputs": [
    {
     "name": "stdout",
     "output_type": "stream",
     "text": [
      "0.6023641570187653\n"
     ]
    }
   ],
   "source": [
    "print(logit_tuned_poly_score.mean())"
   ]
  },
  {
   "cell_type": "markdown",
   "id": "adolescent-sister",
   "metadata": {},
   "source": [
    "## 2.3 RANDOM FOREST-TUNNED-RUS"
   ]
  },
  {
   "cell_type": "code",
   "execution_count": 17,
   "id": "political-testing",
   "metadata": {},
   "outputs": [],
   "source": [
    "rfc = RandomForestClassifier(random_state=101)"
   ]
  },
  {
   "cell_type": "code",
   "execution_count": 18,
   "id": "classical-depression",
   "metadata": {},
   "outputs": [],
   "source": [
    "pca_pipe_num = Pipeline([\n",
    "    ('imputer', SimpleImputer(strategy='median', missing_values=np.nan)),\n",
    "    ('scaler', StandardScaler()),\n",
    "    ('pca', PCA(n_components=1))\n",
    "])\n",
    "\n",
    "\n",
    "rfc_pipe_num = Pipeline([\n",
    "    ('imputer', SimpleImputer(strategy='median', missing_values=np.nan))\n",
    "])\n",
    "\n",
    "# for all object columns\n",
    "rfc_pipe_cat = Pipeline([\n",
    "    ('imputer', SimpleImputer(strategy='most_frequent', missing_values=np.nan)),\n",
    "    ('onehot', OneHotEncoder(drop='first')),\n",
    "])\n",
    "\n",
    "# transforming all columns\n",
    "rfc_transformer = ColumnTransformer([\n",
    "    ('pca_num', pca_pipe_num, ['VALUE', 'MORTDUE']),\n",
    "    ('pipe_num', rfc_pipe_num, ['LOAN', 'YOJ', 'DEROG', 'DELINQ', 'CLAGE', 'NINQ', 'CLNO', 'DEBTINC']),\n",
    "    ('pipe_cat', rfc_pipe_cat, ['REASON', 'JOB']),\n",
    "], remainder='passthrough')\n",
    "\n",
    "rfc_pipe_combine_tunned = Pipeline([\n",
    "    ('transformer', rfc_transformer),\n",
    "    ('rfe', RFE(rfc)),\n",
    "    ('resampling', rus),\n",
    "    ('rfc', rfc)\n",
    "])"
   ]
  },
  {
   "cell_type": "code",
   "execution_count": 19,
   "id": "continued-highlight",
   "metadata": {},
   "outputs": [],
   "source": [
    "rfc_params = {\n",
    "    'rfc__n_estimators' : [100, 150, 200],\n",
    "    'rfc__max_depth': [20, 50, 80],\n",
    "    'rfc__max_features':[0.3, 0.6, 0.8],\n",
    "    'rfc__min_samples_split': [1, 5, 10],\n",
    "    'transformer__pipe_num__imputer__strategy' : ['median', 'mean']\n",
    "}\n",
    "                               \n",
    "skf = StratifiedKFold(n_splits=5, shuffle=True, random_state=101)\n",
    "\n",
    "randomized_search_rfc_tunned = RandomizedSearchCV(rfc_pipe_combine_tunned, param_distributions = rfc_params, cv = skf, scoring = 'recall', verbose=1, n_jobs = -1)"
   ]
  },
  {
   "cell_type": "code",
   "execution_count": 20,
   "id": "finished-nitrogen",
   "metadata": {},
   "outputs": [
    {
     "name": "stdout",
     "output_type": "stream",
     "text": [
      "Fitting 5 folds for each of 10 candidates, totalling 50 fits\n"
     ]
    },
    {
     "name": "stderr",
     "output_type": "stream",
     "text": [
      "c:\\users\\asus\\appdata\\local\\programs\\python\\python38\\lib\\site-packages\\sklearn\\model_selection\\_search.py:918: UserWarning: One or more of the test scores are non-finite: [       nan 0.8549132         nan 0.84018738 0.84334527        nan\n",
      " 0.84544503 0.84965004 0.85176082 0.83808212]\n",
      "  warnings.warn(\n"
     ]
    },
    {
     "data": {
      "text/plain": [
       "RandomizedSearchCV(cv=StratifiedKFold(n_splits=5, random_state=101, shuffle=True),\n",
       "                   estimator=Pipeline(steps=[('transformer',\n",
       "                                              ColumnTransformer(remainder='passthrough',\n",
       "                                                                transformers=[('pca_num',\n",
       "                                                                               Pipeline(steps=[('imputer',\n",
       "                                                                                                SimpleImputer(strategy='median')),\n",
       "                                                                                               ('scaler',\n",
       "                                                                                                StandardScaler()),\n",
       "                                                                                               ('pca',\n",
       "                                                                                                PCA(n_components=1))]),\n",
       "                                                                               ['VALUE',\n",
       "                                                                                'MORTDUE']),\n",
       "                                                                              ('pipe_num',\n",
       "                                                                               Pipeline(s...\n",
       "                                             ('resampling',\n",
       "                                              RandomUnderSampler(random_state=101)),\n",
       "                                             ('rfc',\n",
       "                                              RandomForestClassifier(random_state=101))]),\n",
       "                   n_jobs=-1,\n",
       "                   param_distributions={'rfc__max_depth': [20, 50, 80],\n",
       "                                        'rfc__max_features': [0.3, 0.6, 0.8],\n",
       "                                        'rfc__min_samples_split': [1, 5, 10],\n",
       "                                        'rfc__n_estimators': [100, 150, 200],\n",
       "                                        'transformer__pipe_num__imputer__strategy': ['median',\n",
       "                                                                                     'mean']},\n",
       "                   scoring='recall', verbose=1)"
      ]
     },
     "execution_count": 20,
     "metadata": {},
     "output_type": "execute_result"
    }
   ],
   "source": [
    "randomized_search_rfc_tunned.fit(X_train_val, y_train_val)"
   ]
  },
  {
   "cell_type": "code",
   "execution_count": 21,
   "id": "domestic-heating",
   "metadata": {},
   "outputs": [
    {
     "data": {
      "text/plain": [
       "{'transformer__pipe_num__imputer__strategy': 'median',\n",
       " 'rfc__n_estimators': 200,\n",
       " 'rfc__min_samples_split': 5,\n",
       " 'rfc__max_features': 0.3,\n",
       " 'rfc__max_depth': 50}"
      ]
     },
     "execution_count": 21,
     "metadata": {},
     "output_type": "execute_result"
    }
   ],
   "source": [
    "randomized_search_rfc_tunned.best_params_"
   ]
  },
  {
   "cell_type": "code",
   "execution_count": 22,
   "id": "lined-parks",
   "metadata": {},
   "outputs": [
    {
     "name": "stderr",
     "output_type": "stream",
     "text": [
      "[Parallel(n_jobs=-1)]: Using backend LokyBackend with 4 concurrent workers.\n",
      "[Parallel(n_jobs=-1)]: Done   5 out of   5 | elapsed:   19.2s finished\n"
     ]
    },
    {
     "data": {
      "text/plain": [
       "array([0.83246073, 0.90526316, 0.79473684, 0.85789474, 0.88421053])"
      ]
     },
     "execution_count": 22,
     "metadata": {},
     "output_type": "execute_result"
    }
   ],
   "source": [
    "rfc_tuned = randomized_search_rfc_tunned.best_estimator_\n",
    "rfc_tuned_score = cross_val_score(rfc_tuned, X_train_val, y_train_val, scoring= 'recall', cv=skf, n_jobs=-1, verbose=1)\n",
    "rfc_tuned_score"
   ]
  },
  {
   "cell_type": "code",
   "execution_count": 23,
   "id": "stock-storm",
   "metadata": {},
   "outputs": [
    {
     "data": {
      "text/plain": [
       "0.8549131992284377"
      ]
     },
     "execution_count": 23,
     "metadata": {},
     "output_type": "execute_result"
    }
   ],
   "source": [
    "rfc_tuned_score.mean()"
   ]
  },
  {
   "cell_type": "code",
   "execution_count": 24,
   "id": "occupational-shareware",
   "metadata": {},
   "outputs": [],
   "source": [
    "rfc_tuned = rfc_tuned.fit(X_train_val, y_train_val)"
   ]
  },
  {
   "cell_type": "code",
   "execution_count": 25,
   "id": "sharp-convert",
   "metadata": {},
   "outputs": [
    {
     "data": {
      "text/plain": [
       "Pipeline(steps=[('transformer',\n",
       "                 ColumnTransformer(remainder='passthrough',\n",
       "                                   transformers=[('pca_num',\n",
       "                                                  Pipeline(steps=[('imputer',\n",
       "                                                                   SimpleImputer(strategy='median')),\n",
       "                                                                  ('scaler',\n",
       "                                                                   StandardScaler()),\n",
       "                                                                  ('pca',\n",
       "                                                                   PCA(n_components=1))]),\n",
       "                                                  ['VALUE', 'MORTDUE']),\n",
       "                                                 ('pipe_num',\n",
       "                                                  Pipeline(steps=[('imputer',\n",
       "                                                                   SimpleImputer(strategy='median'))]),\n",
       "                                                  ['LOAN', 'YOJ', 'DEROG',\n",
       "                                                   'DELINQ', 'CLAGE...\n",
       "                                                  Pipeline(steps=[('imputer',\n",
       "                                                                   SimpleImputer(strategy='most_frequent')),\n",
       "                                                                  ('onehot',\n",
       "                                                                   OneHotEncoder(drop='first'))]),\n",
       "                                                  ['REASON', 'JOB'])])),\n",
       "                ('rfe',\n",
       "                 RFE(estimator=RandomForestClassifier(random_state=101))),\n",
       "                ('resampling', RandomUnderSampler(random_state=101)),\n",
       "                ('rfc',\n",
       "                 RandomForestClassifier(max_depth=50, max_features=0.3,\n",
       "                                        min_samples_split=5, n_estimators=200,\n",
       "                                        random_state=101))])"
      ]
     },
     "execution_count": 25,
     "metadata": {},
     "output_type": "execute_result"
    }
   ],
   "source": [
    "rfc_tuned"
   ]
  },
  {
   "cell_type": "code",
   "execution_count": 26,
   "id": "hourly-dining",
   "metadata": {},
   "outputs": [],
   "source": [
    "rfc_tuned_pred = rfc_tuned.predict(X_test)\n",
    "rfc_tuned_proba = rfc_tuned.predict_proba(X_test)"
   ]
  },
  {
   "cell_type": "code",
   "execution_count": 27,
   "id": "independent-hands",
   "metadata": {},
   "outputs": [
    {
     "name": "stdout",
     "output_type": "stream",
     "text": [
      "              precision    recall  f1-score   support\n",
      "\n",
      "           0       0.95      0.86      0.91       954\n",
      "           1       0.61      0.84      0.70       238\n",
      "\n",
      "    accuracy                           0.86      1192\n",
      "   macro avg       0.78      0.85      0.81      1192\n",
      "weighted avg       0.89      0.86      0.87      1192\n",
      "\n"
     ]
    }
   ],
   "source": [
    "print(classification_report(y_test,rfc_tuned_pred))"
   ]
  },
  {
   "cell_type": "markdown",
   "id": "limited-arrow",
   "metadata": {},
   "source": [
    "## 2.4 KNN-TUNNED-SMOTE"
   ]
  },
  {
   "cell_type": "code",
   "execution_count": 265,
   "id": "planned-locator",
   "metadata": {},
   "outputs": [],
   "source": [
    "knn = KNeighborsClassifier()"
   ]
  },
  {
   "cell_type": "code",
   "execution_count": 266,
   "id": "female-dictionary",
   "metadata": {},
   "outputs": [],
   "source": [
    "pca_pipe_num = Pipeline([\n",
    "    ('imputer', SimpleImputer(strategy='median', missing_values=np.nan)),\n",
    "    ('scaler', StandardScaler()),\n",
    "    ('pca', PCA(n_components=1))\n",
    "])\n",
    "\n",
    "\n",
    "\n",
    "knn_pipe_num = Pipeline([\n",
    "    ('imputer', SimpleImputer(strategy='median', missing_values=np.nan)),\n",
    "    ('scaler', StandardScaler())\n",
    "])\n",
    "\n",
    "# for all object columns\n",
    "knn_pipe_cat = Pipeline([\n",
    "    ('imputer', SimpleImputer(strategy='most_frequent', missing_values=np.nan)),\n",
    "    ('onehot', OneHotEncoder(drop='first')),\n",
    "])\n",
    "\n",
    "# transforming all columns\n",
    "knn_transformer = ColumnTransformer([\n",
    "     ('pca_num', pca_pipe_num, ['VALUE', 'MORTDUE']),\n",
    "    ('pipe_num', knn_pipe_num, ['LOAN', 'YOJ', 'DEROG', 'DELINQ', 'CLAGE', 'NINQ', 'CLNO', 'DEBTINC']),\n",
    "    ('pipe_cat', knn_pipe_cat, ['REASON', 'JOB'])\n",
    "])\n",
    "\n",
    "# combine all pipeline\n",
    "knn_pipe_combine_tunned = Pipeline([\n",
    "    ('transformer', knn_transformer),\n",
    "    ('resampling', smote),\n",
    "    ('knn', knn)\n",
    "])"
   ]
  },
  {
   "cell_type": "code",
   "execution_count": 267,
   "id": "exact-robin",
   "metadata": {},
   "outputs": [],
   "source": [
    "knn_params = {\n",
    "    'knn__n_neighbors': np.arange(1,51,2),\n",
    "    'knn__weights': ['uniform', 'distance'],\n",
    "    'knn__p': [1,2],\n",
    "    'transformer__pipe_num__imputer__strategy': ['median', 'mean']\n",
    "}"
   ]
  },
  {
   "cell_type": "code",
   "execution_count": 268,
   "id": "crucial-quebec",
   "metadata": {},
   "outputs": [],
   "source": [
    "skf = StratifiedKFold(n_splits=5, shuffle=True, random_state=101)\n",
    "\n",
    "grid_search_knn_tunned = GridSearchCV(knn_pipe_combine_tunned, param_grid = knn_params, cv = skf, scoring = 'recall', verbose=1, n_jobs = -1)"
   ]
  },
  {
   "cell_type": "code",
   "execution_count": 269,
   "id": "dedicated-schedule",
   "metadata": {},
   "outputs": [
    {
     "name": "stdout",
     "output_type": "stream",
     "text": [
      "Fitting 5 folds for each of 200 candidates, totalling 1000 fits\n"
     ]
    },
    {
     "data": {
      "text/plain": [
       "GridSearchCV(cv=StratifiedKFold(n_splits=5, random_state=101, shuffle=True),\n",
       "             estimator=Pipeline(steps=[('transformer',\n",
       "                                        ColumnTransformer(transformers=[('pca_num',\n",
       "                                                                         Pipeline(steps=[('imputer',\n",
       "                                                                                          SimpleImputer(strategy='median')),\n",
       "                                                                                         ('scaler',\n",
       "                                                                                          StandardScaler()),\n",
       "                                                                                         ('pca',\n",
       "                                                                                          PCA(n_components=1))]),\n",
       "                                                                         ['VALUE',\n",
       "                                                                          'MORTDUE']),\n",
       "                                                                        ('pipe_num',\n",
       "                                                                         Pipeline(steps=[('imputer',\n",
       "                                                                                          SimpleImputer...\n",
       "                                                                         ['REASON',\n",
       "                                                                          'JOB'])])),\n",
       "                                       ('resampling', SMOTE(random_state=101)),\n",
       "                                       ('knn', KNeighborsClassifier())]),\n",
       "             n_jobs=-1,\n",
       "             param_grid={'knn__n_neighbors': array([ 1,  3,  5,  7,  9, 11, 13, 15, 17, 19, 21, 23, 25, 27, 29, 31, 33,\n",
       "       35, 37, 39, 41, 43, 45, 47, 49]),\n",
       "                         'knn__p': [1, 2],\n",
       "                         'knn__weights': ['uniform', 'distance'],\n",
       "                         'transformer__pipe_num__imputer__strategy': ['median',\n",
       "                                                                      'mean']},\n",
       "             scoring='recall', verbose=1)"
      ]
     },
     "execution_count": 269,
     "metadata": {},
     "output_type": "execute_result"
    }
   ],
   "source": [
    "grid_search_knn_tunned.fit(X_train_val, y_train_val)"
   ]
  },
  {
   "cell_type": "code",
   "execution_count": 270,
   "id": "detailed-intensity",
   "metadata": {},
   "outputs": [
    {
     "data": {
      "text/plain": [
       "{'knn__n_neighbors': 21,\n",
       " 'knn__p': 2,\n",
       " 'knn__weights': 'distance',\n",
       " 'transformer__pipe_num__imputer__strategy': 'median'}"
      ]
     },
     "execution_count": 270,
     "metadata": {},
     "output_type": "execute_result"
    }
   ],
   "source": [
    "grid_search_knn_tunned.best_params_"
   ]
  },
  {
   "cell_type": "code",
   "execution_count": 271,
   "id": "frequent-channels",
   "metadata": {},
   "outputs": [
    {
     "name": "stderr",
     "output_type": "stream",
     "text": [
      "[Parallel(n_jobs=-1)]: Using backend LokyBackend with 4 concurrent workers.\n",
      "[Parallel(n_jobs=-1)]: Done   5 out of   5 | elapsed:    0.6s finished\n"
     ]
    },
    {
     "data": {
      "text/plain": [
       "array([0.80628272, 0.78421053, 0.78947368, 0.78421053, 0.74736842])"
      ]
     },
     "execution_count": 271,
     "metadata": {},
     "output_type": "execute_result"
    }
   ],
   "source": [
    "knn_tuned = grid_search_knn_tunned.best_estimator_\n",
    "knn_tuned_score = cross_val_score(knn_tuned, X_train_val, y_train_val, scoring= 'recall', cv=skf, n_jobs=-1, verbose=1)\n",
    "knn_tuned_score"
   ]
  },
  {
   "cell_type": "code",
   "execution_count": 272,
   "id": "dutch-sussex",
   "metadata": {},
   "outputs": [
    {
     "data": {
      "text/plain": [
       "0.7823091760815651"
      ]
     },
     "execution_count": 272,
     "metadata": {},
     "output_type": "execute_result"
    }
   ],
   "source": [
    "knn_tuned_score.mean()"
   ]
  },
  {
   "cell_type": "code",
   "execution_count": 273,
   "id": "thorough-slide",
   "metadata": {},
   "outputs": [],
   "source": [
    "knn_tuned = knn_tuned.fit(X_train_val, y_train_val)"
   ]
  },
  {
   "cell_type": "code",
   "execution_count": 274,
   "id": "frequent-hearing",
   "metadata": {},
   "outputs": [
    {
     "data": {
      "text/plain": [
       "Pipeline(steps=[('transformer',\n",
       "                 ColumnTransformer(transformers=[('pca_num',\n",
       "                                                  Pipeline(steps=[('imputer',\n",
       "                                                                   SimpleImputer(strategy='median')),\n",
       "                                                                  ('scaler',\n",
       "                                                                   StandardScaler()),\n",
       "                                                                  ('pca',\n",
       "                                                                   PCA(n_components=1))]),\n",
       "                                                  ['VALUE', 'MORTDUE']),\n",
       "                                                 ('pipe_num',\n",
       "                                                  Pipeline(steps=[('imputer',\n",
       "                                                                   SimpleImputer(strategy='median')),\n",
       "                                                                  ('scaler',\n",
       "                                                                   StandardScaler())]),\n",
       "                                                  ['LOAN', 'YOJ', 'DEROG',\n",
       "                                                   'DELINQ', 'CLAGE', 'NINQ',\n",
       "                                                   'CLNO', 'DEBTINC']),\n",
       "                                                 ('pipe_cat',\n",
       "                                                  Pipeline(steps=[('imputer',\n",
       "                                                                   SimpleImputer(strategy='most_frequent')),\n",
       "                                                                  ('onehot',\n",
       "                                                                   OneHotEncoder(drop='first'))]),\n",
       "                                                  ['REASON', 'JOB'])])),\n",
       "                ('resampling', SMOTE(random_state=101)),\n",
       "                ('knn',\n",
       "                 KNeighborsClassifier(n_neighbors=21, weights='distance'))])"
      ]
     },
     "execution_count": 274,
     "metadata": {},
     "output_type": "execute_result"
    }
   ],
   "source": [
    "knn_tuned"
   ]
  },
  {
   "cell_type": "code",
   "execution_count": 275,
   "id": "delayed-worker",
   "metadata": {},
   "outputs": [],
   "source": [
    "knn_tuned_pred = knn_tuned.predict(X_test)\n",
    "knn_tuned_proba = knn_tuned.predict_proba(X_test)"
   ]
  },
  {
   "cell_type": "code",
   "execution_count": 276,
   "id": "worthy-bangladesh",
   "metadata": {},
   "outputs": [
    {
     "name": "stdout",
     "output_type": "stream",
     "text": [
      "              precision    recall  f1-score   support\n",
      "\n",
      "           0       0.94      0.96      0.95       954\n",
      "           1       0.82      0.76      0.79       238\n",
      "\n",
      "    accuracy                           0.92      1192\n",
      "   macro avg       0.88      0.86      0.87      1192\n",
      "weighted avg       0.92      0.92      0.92      1192\n",
      "\n"
     ]
    }
   ],
   "source": [
    "print(classification_report(y_test,knn_tuned_pred))"
   ]
  },
  {
   "cell_type": "markdown",
   "id": "passive-catholic",
   "metadata": {},
   "source": [
    "## 2.5 DTC-TUNNED-RUS"
   ]
  },
  {
   "cell_type": "code",
   "execution_count": 277,
   "id": "foreign-reynolds",
   "metadata": {},
   "outputs": [],
   "source": [
    "tree = DecisionTreeClassifier(random_state=101)"
   ]
  },
  {
   "cell_type": "code",
   "execution_count": 278,
   "id": "funded-johnson",
   "metadata": {},
   "outputs": [],
   "source": [
    "pca_pipe_num = Pipeline([\n",
    "    ('imputer', SimpleImputer(strategy='median', missing_values=np.nan)),\n",
    "    ('scaler', StandardScaler()),\n",
    "    ('pca', PCA(n_components=1))\n",
    "])\n",
    "\n",
    "\n",
    "tree_pipe_num = Pipeline([\n",
    "    ('imputer', SimpleImputer(strategy='median', missing_values=np.nan))\n",
    "])\n",
    "\n",
    "# for all object columns\n",
    "tree_pipe_cat = Pipeline([\n",
    "    ('imputer', SimpleImputer(strategy='most_frequent', missing_values=np.nan)),\n",
    "    ('onehot', OneHotEncoder(drop='first')),\n",
    "])\n",
    "\n",
    "# transforming all columns\n",
    "tree_transformer = ColumnTransformer([\n",
    "    ('pca_num', pca_pipe_num, ['VALUE', 'MORTDUE']),\n",
    "    ('pipe_num', tree_pipe_num, ['LOAN', 'YOJ', 'DEROG', 'DELINQ', 'CLAGE', 'NINQ', 'CLNO', 'DEBTINC']),\n",
    "    ('pipe_cat', tree_pipe_cat, ['REASON', 'JOB'])\n",
    "])\n",
    "\n",
    "# combine all pipeline\n",
    "tree_pipe_combine_tunned = Pipeline([\n",
    "    ('transformer', tree_transformer),\n",
    "    ('rfe', RFE(tree)),\n",
    "    ('resampling', rus),\n",
    "    ('tree', tree)\n",
    "])"
   ]
  },
  {
   "cell_type": "code",
   "execution_count": 279,
   "id": "neutral-duncan",
   "metadata": {},
   "outputs": [],
   "source": [
    "tree_params = {\n",
    "    'tree__criterion': ['gini', 'entropy'],\n",
    "    'tree__max_depth': range(1,10),\n",
    "    'tree__min_samples_split': range(1,10),\n",
    "    'tree__min_samples_leaf': range(1,5),\n",
    "    'transformer__pipe_num__imputer__strategy': ['median', 'mean']\n",
    "}"
   ]
  },
  {
   "cell_type": "code",
   "execution_count": 280,
   "id": "practical-delta",
   "metadata": {},
   "outputs": [],
   "source": [
    "skf = StratifiedKFold(n_splits=5, shuffle=True, random_state=101)\n",
    "\n",
    "randomized_search_tree_tunned = RandomizedSearchCV(tree_pipe_combine_tunned, param_distributions = tree_params, cv = skf, scoring = 'recall', verbose=1, n_jobs = -1)"
   ]
  },
  {
   "cell_type": "code",
   "execution_count": 281,
   "id": "removed-optimization",
   "metadata": {},
   "outputs": [
    {
     "name": "stdout",
     "output_type": "stream",
     "text": [
      "Fitting 5 folds for each of 10 candidates, totalling 50 fits\n"
     ]
    },
    {
     "name": "stderr",
     "output_type": "stream",
     "text": [
      "c:\\users\\asus\\appdata\\local\\programs\\python\\python38\\lib\\site-packages\\sklearn\\model_selection\\_search.py:918: UserWarning: One or more of the test scores are non-finite: [       nan 0.77181042 0.80232571 0.80023147 0.68556076 0.76863599\n",
      " 0.79607054 0.79498484 0.79074676 0.79499036]\n",
      "  warnings.warn(\n"
     ]
    },
    {
     "data": {
      "text/plain": [
       "RandomizedSearchCV(cv=StratifiedKFold(n_splits=5, random_state=101, shuffle=True),\n",
       "                   estimator=Pipeline(steps=[('transformer',\n",
       "                                              ColumnTransformer(transformers=[('pca_num',\n",
       "                                                                               Pipeline(steps=[('imputer',\n",
       "                                                                                                SimpleImputer(strategy='median')),\n",
       "                                                                                               ('scaler',\n",
       "                                                                                                StandardScaler()),\n",
       "                                                                                               ('pca',\n",
       "                                                                                                PCA(n_components=1))]),\n",
       "                                                                               ['VALUE',\n",
       "                                                                                'MORTDUE']),\n",
       "                                                                              ('pipe_num',\n",
       "                                                                               Pipeline(steps=[('imputer',\n",
       "                                                                                                SimpleI...\n",
       "                                              RandomUnderSampler(random_state=101)),\n",
       "                                             ('tree',\n",
       "                                              DecisionTreeClassifier(random_state=101))]),\n",
       "                   n_jobs=-1,\n",
       "                   param_distributions={'transformer__pipe_num__imputer__strategy': ['median',\n",
       "                                                                                     'mean'],\n",
       "                                        'tree__criterion': ['gini', 'entropy'],\n",
       "                                        'tree__max_depth': range(1, 10),\n",
       "                                        'tree__min_samples_leaf': range(1, 5),\n",
       "                                        'tree__min_samples_split': range(1, 10)},\n",
       "                   scoring='recall', verbose=1)"
      ]
     },
     "execution_count": 281,
     "metadata": {},
     "output_type": "execute_result"
    }
   ],
   "source": [
    "randomized_search_tree_tunned.fit(X_train_val, y_train_val)"
   ]
  },
  {
   "cell_type": "code",
   "execution_count": 282,
   "id": "french-communication",
   "metadata": {},
   "outputs": [
    {
     "data": {
      "text/plain": [
       "{'tree__min_samples_split': 4,\n",
       " 'tree__min_samples_leaf': 1,\n",
       " 'tree__max_depth': 6,\n",
       " 'tree__criterion': 'gini',\n",
       " 'transformer__pipe_num__imputer__strategy': 'mean'}"
      ]
     },
     "execution_count": 282,
     "metadata": {},
     "output_type": "execute_result"
    }
   ],
   "source": [
    "randomized_search_tree_tunned.best_params_"
   ]
  },
  {
   "cell_type": "code",
   "execution_count": 289,
   "id": "alone-anxiety",
   "metadata": {},
   "outputs": [
    {
     "name": "stderr",
     "output_type": "stream",
     "text": [
      "[Parallel(n_jobs=-1)]: Using backend LokyBackend with 4 concurrent workers.\n",
      "[Parallel(n_jobs=-1)]: Done   5 out of   5 | elapsed:    0.7s finished\n"
     ]
    },
    {
     "data": {
      "text/plain": [
       "array([0.79057592, 0.76842105, 0.72631579, 0.83684211, 0.88947368])"
      ]
     },
     "execution_count": 289,
     "metadata": {},
     "output_type": "execute_result"
    }
   ],
   "source": [
    "tree_tuned = randomized_search_tree_tunned.best_estimator_\n",
    "tree_tuned_score = cross_val_score(tree_tuned, X_train_val, y_train_val, scoring= 'recall', cv=skf, n_jobs=-1, verbose=1)\n",
    "tree_tuned_score"
   ]
  },
  {
   "cell_type": "code",
   "execution_count": 290,
   "id": "successful-excess",
   "metadata": {},
   "outputs": [
    {
     "data": {
      "text/plain": [
       "0.8023257095618629"
      ]
     },
     "execution_count": 290,
     "metadata": {},
     "output_type": "execute_result"
    }
   ],
   "source": [
    "tree_tuned_score.mean()"
   ]
  },
  {
   "cell_type": "code",
   "execution_count": 291,
   "id": "dominican-stuart",
   "metadata": {},
   "outputs": [],
   "source": [
    "tree_tuned = tree_tuned.fit(X_train_val, y_train_val)"
   ]
  },
  {
   "cell_type": "code",
   "execution_count": 292,
   "id": "swedish-aspect",
   "metadata": {},
   "outputs": [
    {
     "data": {
      "text/plain": [
       "Pipeline(steps=[('transformer',\n",
       "                 ColumnTransformer(transformers=[('pca_num',\n",
       "                                                  Pipeline(steps=[('imputer',\n",
       "                                                                   SimpleImputer(strategy='median')),\n",
       "                                                                  ('scaler',\n",
       "                                                                   StandardScaler()),\n",
       "                                                                  ('pca',\n",
       "                                                                   PCA(n_components=1))]),\n",
       "                                                  ['VALUE', 'MORTDUE']),\n",
       "                                                 ('pipe_num',\n",
       "                                                  Pipeline(steps=[('imputer',\n",
       "                                                                   SimpleImputer())]),\n",
       "                                                  ['LOAN', 'YOJ', 'DEROG',\n",
       "                                                   'DELINQ', 'CLAGE', 'NINQ',\n",
       "                                                   'CLNO', 'DEBTINC']),\n",
       "                                                 ('pipe_cat',\n",
       "                                                  Pipeline(steps=[('imputer',\n",
       "                                                                   SimpleImputer(strategy='most_frequent')),\n",
       "                                                                  ('onehot',\n",
       "                                                                   OneHotEncoder(drop='first'))]),\n",
       "                                                  ['REASON', 'JOB'])])),\n",
       "                ('rfe',\n",
       "                 RFE(estimator=DecisionTreeClassifier(random_state=101))),\n",
       "                ('resampling', RandomUnderSampler(random_state=101)),\n",
       "                ('tree',\n",
       "                 DecisionTreeClassifier(max_depth=6, min_samples_split=4,\n",
       "                                        random_state=101))])"
      ]
     },
     "execution_count": 292,
     "metadata": {},
     "output_type": "execute_result"
    }
   ],
   "source": [
    "tree_tuned"
   ]
  },
  {
   "cell_type": "code",
   "execution_count": 293,
   "id": "victorian-integral",
   "metadata": {},
   "outputs": [],
   "source": [
    "tree_tuned_pred = tree_tuned.predict(X_test)\n",
    "tree_tuned_proba = tree_tuned.predict_proba(X_test)"
   ]
  },
  {
   "cell_type": "code",
   "execution_count": 294,
   "id": "infinite-referral",
   "metadata": {},
   "outputs": [
    {
     "name": "stdout",
     "output_type": "stream",
     "text": [
      "              precision    recall  f1-score   support\n",
      "\n",
      "           0       0.94      0.86      0.90       954\n",
      "           1       0.58      0.79      0.67       238\n",
      "\n",
      "    accuracy                           0.84      1192\n",
      "   macro avg       0.76      0.83      0.78      1192\n",
      "weighted avg       0.87      0.84      0.85      1192\n",
      "\n"
     ]
    }
   ],
   "source": [
    "print(classification_report(y_test,tree_tuned_pred))"
   ]
  },
  {
   "cell_type": "markdown",
   "id": "bizarre-talent",
   "metadata": {},
   "source": [
    "## 2.6 VOTING CLASSIFIER-TUNNED: KNN, DTC, LOGISTIC REGRESSION"
   ]
  },
  {
   "cell_type": "code",
   "execution_count": 295,
   "id": "authorized-balance",
   "metadata": {},
   "outputs": [],
   "source": [
    "vc_tunned = VotingClassifier([('clf1', logit_tuned), ('clf2', knn_tuned), ('clf3', tree_tuned)], voting='soft')"
   ]
  },
  {
   "cell_type": "code",
   "execution_count": 296,
   "id": "proprietary-monday",
   "metadata": {},
   "outputs": [
    {
     "name": "stderr",
     "output_type": "stream",
     "text": [
      "[Parallel(n_jobs=-1)]: Using backend LokyBackend with 4 concurrent workers.\n",
      "[Parallel(n_jobs=-1)]: Done   5 out of   5 | elapsed:    1.6s finished\n"
     ]
    }
   ],
   "source": [
    "skf = StratifiedKFold(n_splits=5, shuffle=True, random_state=101)\n",
    "\n",
    "votingClass_score = cross_val_score(vc_tunned, X_train_val, y_train_val, scoring='recall', cv=skf, n_jobs=-1, verbose=1)"
   ]
  },
  {
   "cell_type": "code",
   "execution_count": 297,
   "id": "corrected-street",
   "metadata": {},
   "outputs": [
    {
     "name": "stdout",
     "output_type": "stream",
     "text": [
      "votingClass Val Score: 0.8391071920639295\n"
     ]
    }
   ],
   "source": [
    "print('votingClass Val Score:', votingClass_score.mean())"
   ]
  },
  {
   "cell_type": "code",
   "execution_count": 298,
   "id": "binding-fisher",
   "metadata": {},
   "outputs": [],
   "source": [
    "vc_tuned = vc_tunned.fit(X_train_val, y_train_val)"
   ]
  },
  {
   "cell_type": "code",
   "execution_count": 299,
   "id": "challenging-shipping",
   "metadata": {},
   "outputs": [
    {
     "data": {
      "text/plain": [
       "VotingClassifier(estimators=[('clf1',\n",
       "                              Pipeline(steps=[('transformer',\n",
       "                                               ColumnTransformer(remainder='passthrough',\n",
       "                                                                 transformers=[('pca_num',\n",
       "                                                                                Pipeline(steps=[('imputer',\n",
       "                                                                                                 SimpleImputer(strategy='median')),\n",
       "                                                                                                ('scaler',\n",
       "                                                                                                 StandardScaler()),\n",
       "                                                                                                ('pca',\n",
       "                                                                                                 PCA(n_components=1))]),\n",
       "                                                                                ['VALUE',\n",
       "                                                                                 'MORTDUE']),\n",
       "                                                                               ('pipe_num',\n",
       "                                                                                Pipeline(steps=[('imputer',\n",
       "                                                                                                 SimpleImputer(strategy='median')),\n",
       "                                                                                                ('...\n",
       "                                                                               ('pipe_cat',\n",
       "                                                                                Pipeline(steps=[('imputer',\n",
       "                                                                                                 SimpleImputer(strategy='most_frequent')),\n",
       "                                                                                                ('onehot',\n",
       "                                                                                                 OneHotEncoder(drop='first'))]),\n",
       "                                                                                ['REASON',\n",
       "                                                                                 'JOB'])])),\n",
       "                                              ('rfe',\n",
       "                                               RFE(estimator=DecisionTreeClassifier(random_state=101))),\n",
       "                                              ('resampling',\n",
       "                                               RandomUnderSampler(random_state=101)),\n",
       "                                              ('tree',\n",
       "                                               DecisionTreeClassifier(max_depth=6,\n",
       "                                                                      min_samples_split=4,\n",
       "                                                                      random_state=101))]))],\n",
       "                 voting='soft')"
      ]
     },
     "execution_count": 299,
     "metadata": {},
     "output_type": "execute_result"
    }
   ],
   "source": [
    "vc_tuned"
   ]
  },
  {
   "cell_type": "code",
   "execution_count": 300,
   "id": "associate-trailer",
   "metadata": {},
   "outputs": [],
   "source": [
    "vc_tuned_pred = vc_tunned.predict(X_test)\n",
    "vc_tuned_proba = vc_tunned.predict_proba(X_test)"
   ]
  },
  {
   "cell_type": "code",
   "execution_count": 301,
   "id": "representative-stock",
   "metadata": {},
   "outputs": [
    {
     "name": "stdout",
     "output_type": "stream",
     "text": [
      "              precision    recall  f1-score   support\n",
      "\n",
      "           0       0.95      0.93      0.94       954\n",
      "           1       0.74      0.82      0.78       238\n",
      "\n",
      "    accuracy                           0.91      1192\n",
      "   macro avg       0.84      0.87      0.86      1192\n",
      "weighted avg       0.91      0.91      0.91      1192\n",
      "\n"
     ]
    }
   ],
   "source": [
    "print(classification_report(y_test,vc_tuned_pred))"
   ]
  },
  {
   "cell_type": "markdown",
   "id": "civil-portable",
   "metadata": {},
   "source": [
    "## 2.7 ADAPTIVE BOOSTING-TREE-TUNNED"
   ]
  },
  {
   "cell_type": "markdown",
   "id": "younger-extreme",
   "metadata": {},
   "source": [
    "'tree__min_samples_split': 9,\n",
    " 'tree__min_samples_leaf': 2,\n",
    " 'tree__max_depth': 1,\n",
    " 'tree__criterion': 'entropy',"
   ]
  },
  {
   "cell_type": "code",
   "execution_count": 302,
   "id": "outdoor-railway",
   "metadata": {},
   "outputs": [],
   "source": [
    "tree = DecisionTreeClassifier(min_samples_leaf=2, min_samples_split=9, max_depth=1, criterion= 'entropy')\n",
    "\n",
    "adaboost_tree = AdaBoostClassifier(tree, n_estimators=200, learning_rate=0.1, random_state=10)"
   ]
  },
  {
   "cell_type": "code",
   "execution_count": 303,
   "id": "peaceful-kinase",
   "metadata": {},
   "outputs": [],
   "source": [
    "tree_pipe_num = Pipeline([\n",
    "    ('imputer', SimpleImputer(strategy='median', missing_values=np.nan))\n",
    "])\n",
    "\n",
    "# for all object columns\n",
    "tree_pipe_cat = Pipeline([\n",
    "    ('imputer', SimpleImputer(strategy='most_frequent', missing_values=np.nan)),\n",
    "    ('onehot', OneHotEncoder(drop='first'))\n",
    "])\n",
    "\n",
    "# transforming all columns\n",
    "tree_transformer = ColumnTransformer([\n",
    "    ('pipe_num', tree_pipe_num, ['LOAN', 'MORTDUE', 'VALUE', 'YOJ', 'DEROG', 'DELINQ', 'CLAGE', 'NINQ', 'CLNO', 'DEBTINC']),\n",
    "    ('pipe_cat', tree_pipe_cat, ['REASON', 'JOB'])\n",
    "])\n",
    "\n",
    "# combine all pipeline\n",
    "tree_pipe_combine_adaboost = Pipeline([\n",
    "    ('transformer', tree_transformer),\n",
    "    ('rfe', RFE(adaboost_tree)),\n",
    "    ('resampling', rus),\n",
    "    ('tree', adaboost_tree)\n",
    "])"
   ]
  },
  {
   "cell_type": "code",
   "execution_count": 304,
   "id": "unable-reporter",
   "metadata": {},
   "outputs": [
    {
     "name": "stderr",
     "output_type": "stream",
     "text": [
      "[Parallel(n_jobs=-1)]: Using backend LokyBackend with 4 concurrent workers.\n",
      "[Parallel(n_jobs=-1)]: Done   5 out of   5 | elapsed:   25.6s finished\n"
     ]
    }
   ],
   "source": [
    "skf = StratifiedKFold(n_splits=5, shuffle=True, random_state=101)\n",
    "\n",
    "adaboost_tree_tunned_score = cross_val_score(tree_pipe_combine_adaboost, X_train_val, y_train_val, scoring='recall', cv=skf, n_jobs=-1, verbose=1)"
   ]
  },
  {
   "cell_type": "code",
   "execution_count": 305,
   "id": "apparent-recorder",
   "metadata": {},
   "outputs": [
    {
     "name": "stdout",
     "output_type": "stream",
     "text": [
      "tree Val Score: 0.8065031689170571\n"
     ]
    }
   ],
   "source": [
    "print('tree Val Score:', adaboost_tree_tunned_score.mean())"
   ]
  },
  {
   "cell_type": "code",
   "execution_count": 306,
   "id": "healthy-blame",
   "metadata": {},
   "outputs": [],
   "source": [
    "tree_pipe_combine_adaboost = tree_pipe_combine_adaboost.fit(X_train_val, y_train_val)"
   ]
  },
  {
   "cell_type": "code",
   "execution_count": 307,
   "id": "foster-james",
   "metadata": {},
   "outputs": [
    {
     "data": {
      "text/plain": [
       "Pipeline(steps=[('transformer',\n",
       "                 ColumnTransformer(transformers=[('pipe_num',\n",
       "                                                  Pipeline(steps=[('imputer',\n",
       "                                                                   SimpleImputer(strategy='median'))]),\n",
       "                                                  ['LOAN', 'MORTDUE', 'VALUE',\n",
       "                                                   'YOJ', 'DEROG', 'DELINQ',\n",
       "                                                   'CLAGE', 'NINQ', 'CLNO',\n",
       "                                                   'DEBTINC']),\n",
       "                                                 ('pipe_cat',\n",
       "                                                  Pipeline(steps=[('imputer',\n",
       "                                                                   SimpleImputer(strategy='most_frequent')),\n",
       "                                                                  ('onehot',\n",
       "                                                                   OneHotEncoder(drop='first'))]),\n",
       "                                                  ['REASON...\n",
       "                 RFE(estimator=AdaBoostClassifier(base_estimator=DecisionTreeClassifier(criterion='entropy',\n",
       "                                                                                        max_depth=1,\n",
       "                                                                                        min_samples_leaf=2,\n",
       "                                                                                        min_samples_split=9),\n",
       "                                                  learning_rate=0.1,\n",
       "                                                  n_estimators=200,\n",
       "                                                  random_state=10))),\n",
       "                ('resampling', RandomUnderSampler(random_state=101)),\n",
       "                ('tree',\n",
       "                 AdaBoostClassifier(base_estimator=DecisionTreeClassifier(criterion='entropy',\n",
       "                                                                          max_depth=1,\n",
       "                                                                          min_samples_leaf=2,\n",
       "                                                                          min_samples_split=9),\n",
       "                                    learning_rate=0.1, n_estimators=200,\n",
       "                                    random_state=10))])"
      ]
     },
     "execution_count": 307,
     "metadata": {},
     "output_type": "execute_result"
    }
   ],
   "source": [
    "tree_pipe_combine_adaboost"
   ]
  },
  {
   "cell_type": "code",
   "execution_count": 308,
   "id": "binding-feelings",
   "metadata": {},
   "outputs": [],
   "source": [
    "tree_adaboost_tuned_pred = tree_pipe_combine_adaboost.predict(X_test)\n",
    "tree_adaboost_tuned_proba = tree_pipe_combine_adaboost.predict_proba(X_test)"
   ]
  },
  {
   "cell_type": "code",
   "execution_count": 309,
   "id": "moderate-reunion",
   "metadata": {},
   "outputs": [
    {
     "name": "stdout",
     "output_type": "stream",
     "text": [
      "              precision    recall  f1-score   support\n",
      "\n",
      "           0       0.94      0.84      0.89       954\n",
      "           1       0.55      0.77      0.64       238\n",
      "\n",
      "    accuracy                           0.83      1192\n",
      "   macro avg       0.74      0.81      0.76      1192\n",
      "weighted avg       0.86      0.83      0.84      1192\n",
      "\n"
     ]
    }
   ],
   "source": [
    "print(classification_report(y_test,tree_adaboost_tuned_pred))"
   ]
  },
  {
   "cell_type": "markdown",
   "id": "prerequisite-ready",
   "metadata": {},
   "source": [
    "## 2.8 ADAPTIVE BOOSTING-LOGIT-TUNNED"
   ]
  },
  {
   "cell_type": "markdown",
   "id": "documentary-remark",
   "metadata": {},
   "source": [
    "'logit__C': 0.001,\n",
    " 'logit__solver': 'liblinear',"
   ]
  },
  {
   "cell_type": "code",
   "execution_count": 310,
   "id": "aggressive-reggae",
   "metadata": {},
   "outputs": [],
   "source": [
    "logit = LogisticRegression(C=0.001, solver='liblinear')\n",
    "\n",
    "adaboost_logit = AdaBoostClassifier(logit, n_estimators=200, learning_rate=0.1, random_state=10)"
   ]
  },
  {
   "cell_type": "code",
   "execution_count": 311,
   "id": "surprised-center",
   "metadata": {},
   "outputs": [],
   "source": [
    "pca_pipe_num = Pipeline([\n",
    "    ('imputer', SimpleImputer(strategy='median', missing_values=np.nan)),\n",
    "    ('scaler', StandardScaler()),\n",
    "    ('pca', PCA(n_components=1))\n",
    "])\n",
    "\n",
    "\n",
    "logit_pipe_num = Pipeline([\n",
    "    ('imputer', SimpleImputer(strategy='median', missing_values=np.nan)),\n",
    "    ('scaler', StandardScaler())\n",
    "])\n",
    "\n",
    "# for all object columns\n",
    "logit_pipe_cat = Pipeline([\n",
    "    ('imputer', SimpleImputer(strategy='most_frequent', missing_values=np.nan)),\n",
    "    ('onehot', OneHotEncoder(drop='first'))\n",
    "])\n",
    "\n",
    "# transforming all columns\n",
    "logit_transformer = ColumnTransformer([\n",
    "    ('pca_num', pca_pipe_num, ['VALUE', 'MORTDUE']),\n",
    "    ('pipe_num', logit_pipe_num, ['LOAN','YOJ', 'DEROG', 'DELINQ', 'CLAGE', 'NINQ', 'CLNO', 'DEBTINC']),\n",
    "    ('pipe_cat', logit_pipe_cat, ['REASON', 'JOB']),\n",
    "], remainder='passthrough')\n",
    "\n",
    "# combine all pipeline\n",
    "logit_pipe_combine_tunned = Pipeline([\n",
    "    ('transformer', logit_transformer),\n",
    "    ('resampling', rus),\n",
    "    ('logit', adaboost_logit)\n",
    "])"
   ]
  },
  {
   "cell_type": "code",
   "execution_count": 312,
   "id": "private-triangle",
   "metadata": {},
   "outputs": [
    {
     "name": "stderr",
     "output_type": "stream",
     "text": [
      "[Parallel(n_jobs=-1)]: Using backend LokyBackend with 4 concurrent workers.\n",
      "[Parallel(n_jobs=-1)]: Done   5 out of   5 | elapsed:    1.5s finished\n"
     ]
    }
   ],
   "source": [
    "skf = StratifiedKFold(n_splits=5, shuffle=True, random_state=101)\n",
    "\n",
    "adaboost_logit_tunned_score = cross_val_score(logit_pipe_combine_tunned, X_train_val, y_train_val, scoring='recall', cv=skf, n_jobs=-1, verbose=1)"
   ]
  },
  {
   "cell_type": "code",
   "execution_count": 313,
   "id": "linear-perspective",
   "metadata": {},
   "outputs": [
    {
     "name": "stdout",
     "output_type": "stream",
     "text": [
      "logit Val Score: 0.717117663268118\n"
     ]
    }
   ],
   "source": [
    "print('logit Val Score:', adaboost_logit_tunned_score.mean())"
   ]
  },
  {
   "cell_type": "code",
   "execution_count": 314,
   "id": "prime-brooklyn",
   "metadata": {},
   "outputs": [],
   "source": [
    "logit_pipe_combine_tunned = logit_pipe_combine_tunned.fit(X_train_val, y_train_val)"
   ]
  },
  {
   "cell_type": "code",
   "execution_count": 315,
   "id": "moving-vacuum",
   "metadata": {},
   "outputs": [
    {
     "data": {
      "text/plain": [
       "Pipeline(steps=[('transformer',\n",
       "                 ColumnTransformer(remainder='passthrough',\n",
       "                                   transformers=[('pca_num',\n",
       "                                                  Pipeline(steps=[('imputer',\n",
       "                                                                   SimpleImputer(strategy='median')),\n",
       "                                                                  ('scaler',\n",
       "                                                                   StandardScaler()),\n",
       "                                                                  ('pca',\n",
       "                                                                   PCA(n_components=1))]),\n",
       "                                                  ['VALUE', 'MORTDUE']),\n",
       "                                                 ('pipe_num',\n",
       "                                                  Pipeline(steps=[('imputer',\n",
       "                                                                   SimpleImputer(strategy='median')),\n",
       "                                                                  ('scaler',\n",
       "                                                                   StandardScaler())]),\n",
       "                                                  ['LOAN', '...\n",
       "                                                   'CLNO', 'DEBTINC']),\n",
       "                                                 ('pipe_cat',\n",
       "                                                  Pipeline(steps=[('imputer',\n",
       "                                                                   SimpleImputer(strategy='most_frequent')),\n",
       "                                                                  ('onehot',\n",
       "                                                                   OneHotEncoder(drop='first'))]),\n",
       "                                                  ['REASON', 'JOB'])])),\n",
       "                ('resampling', RandomUnderSampler(random_state=101)),\n",
       "                ('logit',\n",
       "                 AdaBoostClassifier(base_estimator=LogisticRegression(C=0.001,\n",
       "                                                                      solver='liblinear'),\n",
       "                                    learning_rate=0.1, n_estimators=200,\n",
       "                                    random_state=10))])"
      ]
     },
     "execution_count": 315,
     "metadata": {},
     "output_type": "execute_result"
    }
   ],
   "source": [
    "logit_pipe_combine_tunned"
   ]
  },
  {
   "cell_type": "code",
   "execution_count": 316,
   "id": "exotic-antique",
   "metadata": {},
   "outputs": [],
   "source": [
    "logit_adaboost_tuned_pred = logit_pipe_combine_tunned.predict(X_test)\n",
    "logit_adaboost_tuned_proba = logit_pipe_combine_tunned.predict_proba(X_test)"
   ]
  },
  {
   "cell_type": "code",
   "execution_count": 317,
   "id": "amino-belief",
   "metadata": {},
   "outputs": [
    {
     "name": "stdout",
     "output_type": "stream",
     "text": [
      "              precision    recall  f1-score   support\n",
      "\n",
      "           0       0.92      0.70      0.79       954\n",
      "           1       0.38      0.74      0.50       238\n",
      "\n",
      "    accuracy                           0.71      1192\n",
      "   macro avg       0.65      0.72      0.65      1192\n",
      "weighted avg       0.81      0.71      0.74      1192\n",
      "\n"
     ]
    }
   ],
   "source": [
    "print(classification_report(y_test,logit_adaboost_tuned_pred))"
   ]
  },
  {
   "cell_type": "markdown",
   "id": "center-carter",
   "metadata": {},
   "source": [
    "## 2.9 ADAPTIVE BOOSTING-TUNNED"
   ]
  },
  {
   "cell_type": "code",
   "execution_count": 318,
   "id": "distant-allocation",
   "metadata": {},
   "outputs": [],
   "source": [
    "abc = AdaBoostClassifier()"
   ]
  },
  {
   "cell_type": "code",
   "execution_count": 319,
   "id": "sudden-magnitude",
   "metadata": {},
   "outputs": [],
   "source": [
    "pca_pipe_num = Pipeline([\n",
    "    ('imputer', SimpleImputer(strategy='median', missing_values=np.nan)),\n",
    "    ('scaler', StandardScaler()),\n",
    "    ('pca', PCA(n_components=1))\n",
    "])\n",
    "\n",
    "\n",
    "adaboost_pipe_num = Pipeline([\n",
    "    ('imputer', SimpleImputer(strategy='median', missing_values=np.nan)),\n",
    "    ('scaler', StandardScaler())\n",
    "])\n",
    "\n",
    "# for all object columns\n",
    "adaboost_pipe_cat = Pipeline([\n",
    "    ('imputer', SimpleImputer(strategy='most_frequent', missing_values=np.nan)),\n",
    "    ('onehot', OneHotEncoder(drop='first')),\n",
    "])\n",
    "\n",
    "# transforming all columns\n",
    "adaboost_transformer = ColumnTransformer([\n",
    "    ('pca_num', pca_pipe_num, ['VALUE', 'MORTDUE']),\n",
    "    ('pipe_num', tree_pipe_num, ['LOAN', 'YOJ', 'DEROG', 'DELINQ', 'CLAGE', 'NINQ', 'CLNO', 'DEBTINC']),\n",
    "    ('pipe_cat', tree_pipe_cat, ['REASON', 'JOB'])\n",
    "])\n",
    "\n",
    "# combine all pipeline\n",
    "adaboost_pipe_combine_tunned = Pipeline([\n",
    "    ('transformer', tree_transformer),\n",
    "    ('rfe', RFE(abc)),\n",
    "    ('resampling', smote),\n",
    "    ('abc', abc)\n",
    "])"
   ]
  },
  {
   "cell_type": "code",
   "execution_count": 320,
   "id": "oriental-virginia",
   "metadata": {},
   "outputs": [
    {
     "data": {
      "text/plain": [
       "GridSearchCV(cv=5,\n",
       "             estimator=Pipeline(steps=[('transformer',\n",
       "                                        ColumnTransformer(transformers=[('pipe_num',\n",
       "                                                                         Pipeline(steps=[('imputer',\n",
       "                                                                                          SimpleImputer(strategy='median'))]),\n",
       "                                                                         ['LOAN',\n",
       "                                                                          'MORTDUE',\n",
       "                                                                          'VALUE',\n",
       "                                                                          'YOJ',\n",
       "                                                                          'DEROG',\n",
       "                                                                          'DELINQ',\n",
       "                                                                          'CLAGE',\n",
       "                                                                          'NINQ',\n",
       "                                                                          'CLNO',\n",
       "                                                                          'DEBTINC']),\n",
       "                                                                        ('pipe_cat',\n",
       "                                                                         Pipeline(steps=[('imputer',\n",
       "                                                                                          SimpleImputer(strategy='most_frequent')),\n",
       "                                                                                         ('onehot',\n",
       "                                                                                          OneHotEncoder(drop='first'))]),\n",
       "                                                                         ['REASON',\n",
       "                                                                          'JOB'])])),\n",
       "                                       ('rfe',\n",
       "                                        RFE(estimator=AdaBoostClassifier())),\n",
       "                                       ('resampling', SMOTE(random_state=101)),\n",
       "                                       ('abc', AdaBoostClassifier())]),\n",
       "             n_jobs=-1,\n",
       "             param_grid={'abc__learning_rate': [0.5, 1.0, 2.0],\n",
       "                         'abc__n_estimators': [50, 100, 200]},\n",
       "             scoring='f1')"
      ]
     },
     "execution_count": 320,
     "metadata": {},
     "output_type": "execute_result"
    }
   ],
   "source": [
    "param_grid_abc = {\n",
    "    'abc__n_estimators': [50, 100,200],\n",
    "    'abc__learning_rate': [0.5, 1.0, 2.0]\n",
    "}\n",
    "grid_search_adaboost_tunned = GridSearchCV(adaboost_pipe_combine_tunned, param_grid=param_grid_abc, scoring='f1', cv=5, n_jobs=-1)\n",
    "grid_search_adaboost_tunned.fit(X_train_val, y_train_val)"
   ]
  },
  {
   "cell_type": "code",
   "execution_count": 321,
   "id": "driving-process",
   "metadata": {},
   "outputs": [
    {
     "data": {
      "text/plain": [
       "{'abc__learning_rate': 1.0, 'abc__n_estimators': 200}"
      ]
     },
     "execution_count": 321,
     "metadata": {},
     "output_type": "execute_result"
    }
   ],
   "source": [
    "grid_search_adaboost_tunned.best_params_"
   ]
  },
  {
   "cell_type": "code",
   "execution_count": 322,
   "id": "geological-findings",
   "metadata": {},
   "outputs": [
    {
     "name": "stderr",
     "output_type": "stream",
     "text": [
      "[Parallel(n_jobs=-1)]: Using backend LokyBackend with 4 concurrent workers.\n",
      "[Parallel(n_jobs=-1)]: Done   5 out of   5 | elapsed:    9.3s finished\n"
     ]
    },
    {
     "data": {
      "text/plain": [
       "array([0.78010471, 0.73684211, 0.69473684, 0.74736842, 0.75263158])"
      ]
     },
     "execution_count": 322,
     "metadata": {},
     "output_type": "execute_result"
    }
   ],
   "source": [
    "adaboost_tuned = grid_search_adaboost_tunned.best_estimator_\n",
    "adaboost_tuned_score = cross_val_score(adaboost_tuned, X_train_val, y_train_val, scoring= 'recall', cv=skf, n_jobs=-1, verbose=1)\n",
    "adaboost_tuned_score"
   ]
  },
  {
   "cell_type": "code",
   "execution_count": 323,
   "id": "macro-frederick",
   "metadata": {},
   "outputs": [
    {
     "data": {
      "text/plain": [
       "0.7423367318820612"
      ]
     },
     "execution_count": 323,
     "metadata": {},
     "output_type": "execute_result"
    }
   ],
   "source": [
    "adaboost_tuned_score.mean()"
   ]
  },
  {
   "cell_type": "code",
   "execution_count": 324,
   "id": "sophisticated-apartment",
   "metadata": {},
   "outputs": [],
   "source": [
    "adaboost_tuned = adaboost_tuned.fit(X_train_val, y_train_val)"
   ]
  },
  {
   "cell_type": "code",
   "execution_count": 325,
   "id": "economic-bikini",
   "metadata": {},
   "outputs": [
    {
     "data": {
      "text/plain": [
       "Pipeline(steps=[('transformer',\n",
       "                 ColumnTransformer(transformers=[('pipe_num',\n",
       "                                                  Pipeline(steps=[('imputer',\n",
       "                                                                   SimpleImputer(strategy='median'))]),\n",
       "                                                  ['LOAN', 'MORTDUE', 'VALUE',\n",
       "                                                   'YOJ', 'DEROG', 'DELINQ',\n",
       "                                                   'CLAGE', 'NINQ', 'CLNO',\n",
       "                                                   'DEBTINC']),\n",
       "                                                 ('pipe_cat',\n",
       "                                                  Pipeline(steps=[('imputer',\n",
       "                                                                   SimpleImputer(strategy='most_frequent')),\n",
       "                                                                  ('onehot',\n",
       "                                                                   OneHotEncoder(drop='first'))]),\n",
       "                                                  ['REASON', 'JOB'])])),\n",
       "                ('rfe', RFE(estimator=AdaBoostClassifier())),\n",
       "                ('resampling', SMOTE(random_state=101)),\n",
       "                ('abc', AdaBoostClassifier(n_estimators=200))])"
      ]
     },
     "execution_count": 325,
     "metadata": {},
     "output_type": "execute_result"
    }
   ],
   "source": [
    "adaboost_tuned"
   ]
  },
  {
   "cell_type": "code",
   "execution_count": 326,
   "id": "cardiac-munich",
   "metadata": {},
   "outputs": [],
   "source": [
    "adaboost_tuned_pred = adaboost_tuned.predict(X_test)\n",
    "adaboost_tuned_proba = adaboost_tuned.predict_proba(X_test)"
   ]
  },
  {
   "cell_type": "code",
   "execution_count": 327,
   "id": "handmade-trick",
   "metadata": {},
   "outputs": [
    {
     "name": "stdout",
     "output_type": "stream",
     "text": [
      "              precision    recall  f1-score   support\n",
      "\n",
      "           0       0.93      0.90      0.91       954\n",
      "           1       0.64      0.71      0.67       238\n",
      "\n",
      "    accuracy                           0.86      1192\n",
      "   macro avg       0.78      0.80      0.79      1192\n",
      "weighted avg       0.87      0.86      0.86      1192\n",
      "\n"
     ]
    }
   ],
   "source": [
    "print(classification_report(y_test, adaboost_tuned_pred))"
   ]
  },
  {
   "cell_type": "markdown",
   "id": "medium-clarity",
   "metadata": {},
   "source": [
    "## 2.10 GRADIENT BOOSTING-TUNNED"
   ]
  },
  {
   "cell_type": "code",
   "execution_count": 328,
   "id": "original-catalog",
   "metadata": {},
   "outputs": [],
   "source": [
    "gbc = GradientBoostingClassifier()"
   ]
  },
  {
   "cell_type": "code",
   "execution_count": 329,
   "id": "revised-explanation",
   "metadata": {},
   "outputs": [],
   "source": [
    "pca_pipe_num = Pipeline([\n",
    "    ('imputer', SimpleImputer(strategy='median', missing_values=np.nan)),\n",
    "    ('scaler', StandardScaler()),\n",
    "    ('pca', PCA(n_components=1))\n",
    "])\n",
    "\n",
    "\n",
    "gradient_pipe_num = Pipeline([\n",
    "    ('imputer', SimpleImputer(strategy='median', missing_values=np.nan)),\n",
    "    ('scaler', StandardScaler())\n",
    "])\n",
    "\n",
    "# for all object columns\n",
    "gradient_pipe_cat = Pipeline([\n",
    "    ('imputer', SimpleImputer(strategy='most_frequent', missing_values=np.nan)),\n",
    "    ('onehot', OneHotEncoder(drop='first')),\n",
    "])\n",
    "\n",
    "# transforming all columns\n",
    "gradient_transformer = ColumnTransformer([\n",
    "    ('pca_num', pca_pipe_num, ['VALUE', 'MORTDUE']),\n",
    "    ('pipe_num', tree_pipe_num, ['LOAN', 'YOJ', 'DEROG', 'DELINQ', 'CLAGE', 'NINQ', 'CLNO', 'DEBTINC']),\n",
    "    ('pipe_cat', tree_pipe_cat, ['REASON', 'JOB'])\n",
    "])\n",
    "\n",
    "# combine all pipeline\n",
    "gradient_pipe_combine_tunned = Pipeline([\n",
    "    ('transformer', tree_transformer),\n",
    "    ('rfe', RFE(gbc)),\n",
    "    ('resampling', smote),\n",
    "    ('gbc', gbc)\n",
    "])"
   ]
  },
  {
   "cell_type": "code",
   "execution_count": 330,
   "id": "charged-montana",
   "metadata": {},
   "outputs": [
    {
     "data": {
      "text/plain": [
       "GridSearchCV(cv=5,\n",
       "             estimator=Pipeline(steps=[('transformer',\n",
       "                                        ColumnTransformer(transformers=[('pipe_num',\n",
       "                                                                         Pipeline(steps=[('imputer',\n",
       "                                                                                          SimpleImputer(strategy='median'))]),\n",
       "                                                                         ['LOAN',\n",
       "                                                                          'MORTDUE',\n",
       "                                                                          'VALUE',\n",
       "                                                                          'YOJ',\n",
       "                                                                          'DEROG',\n",
       "                                                                          'DELINQ',\n",
       "                                                                          'CLAGE',\n",
       "                                                                          'NINQ',\n",
       "                                                                          'CLNO',\n",
       "                                                                          'DEBTINC']),\n",
       "                                                                        ('pipe_cat',\n",
       "                                                                         Pipeline(steps=[('imputer',\n",
       "                                                                                          SimpleImputer(strategy='most_frequent')),\n",
       "                                                                                         ('onehot',\n",
       "                                                                                          OneHotEncoder(drop='first'))]),\n",
       "                                                                         ['REASON',\n",
       "                                                                          'JOB'])])),\n",
       "                                       ('rfe',\n",
       "                                        RFE(estimator=GradientBoostingClassifier())),\n",
       "                                       ('resampling', SMOTE(random_state=101)),\n",
       "                                       ('gbc', GradientBoostingClassifier())]),\n",
       "             n_jobs=-1,\n",
       "             param_grid={'gbc__learning_rate': [0.1, 0.5],\n",
       "                         'gbc__max_depth': [3, 10],\n",
       "                         'gbc__min_samples_split': [2, 5],\n",
       "                         'gbc__n_estimators': [100, 200]},\n",
       "             scoring='recall')"
      ]
     },
     "execution_count": 330,
     "metadata": {},
     "output_type": "execute_result"
    }
   ],
   "source": [
    "param_random_gbc = {\n",
    "    'gbc__learning_rate': [0.1,0.5],\n",
    "    'gbc__max_depth' : [3, 10],\n",
    "    'gbc__min_samples_split' : [2,5],\n",
    "    'gbc__n_estimators' : [100,200]\n",
    "}\n",
    "grid_search_gradient_tunned = GridSearchCV(gradient_pipe_combine_tunned, param_grid=param_random_gbc, scoring='recall', cv=5, n_jobs=-1)\n",
    "grid_search_gradient_tunned.fit(X_train_val, y_train_val)"
   ]
  },
  {
   "cell_type": "code",
   "execution_count": 331,
   "id": "solar-anxiety",
   "metadata": {},
   "outputs": [
    {
     "data": {
      "text/plain": [
       "{'gbc__learning_rate': 0.1,\n",
       " 'gbc__max_depth': 3,\n",
       " 'gbc__min_samples_split': 2,\n",
       " 'gbc__n_estimators': 100}"
      ]
     },
     "execution_count": 331,
     "metadata": {},
     "output_type": "execute_result"
    }
   ],
   "source": [
    "grid_search_gradient_tunned.best_params_"
   ]
  },
  {
   "cell_type": "code",
   "execution_count": 332,
   "id": "first-australia",
   "metadata": {},
   "outputs": [
    {
     "name": "stderr",
     "output_type": "stream",
     "text": [
      "[Parallel(n_jobs=-1)]: Using backend LokyBackend with 4 concurrent workers.\n",
      "[Parallel(n_jobs=-1)]: Done   5 out of   5 | elapsed:   17.0s finished\n"
     ]
    },
    {
     "data": {
      "text/plain": [
       "array([0.7591623 , 0.76315789, 0.69473684, 0.70526316, 0.75789474])"
      ]
     },
     "execution_count": 332,
     "metadata": {},
     "output_type": "execute_result"
    }
   ],
   "source": [
    "gradient_tuned = grid_search_gradient_tunned.best_estimator_\n",
    "gradient_tuned_score = cross_val_score(gradient_tuned, X_train_val, y_train_val, scoring= 'recall', cv=skf, n_jobs=-1, verbose=1)\n",
    "gradient_tuned_score"
   ]
  },
  {
   "cell_type": "code",
   "execution_count": 333,
   "id": "designing-anaheim",
   "metadata": {},
   "outputs": [
    {
     "data": {
      "text/plain": [
       "0.7360429870487738"
      ]
     },
     "execution_count": 333,
     "metadata": {},
     "output_type": "execute_result"
    }
   ],
   "source": [
    "gradient_tuned_score.mean()"
   ]
  },
  {
   "cell_type": "code",
   "execution_count": 334,
   "id": "relevant-venezuela",
   "metadata": {},
   "outputs": [],
   "source": [
    "gradient_tuned = grid_search_gradient_tunned.best_estimator_.fit(X_train_val, y_train_val)"
   ]
  },
  {
   "cell_type": "code",
   "execution_count": 335,
   "id": "sublime-winter",
   "metadata": {},
   "outputs": [
    {
     "data": {
      "text/plain": [
       "Pipeline(steps=[('transformer',\n",
       "                 ColumnTransformer(transformers=[('pipe_num',\n",
       "                                                  Pipeline(steps=[('imputer',\n",
       "                                                                   SimpleImputer(strategy='median'))]),\n",
       "                                                  ['LOAN', 'MORTDUE', 'VALUE',\n",
       "                                                   'YOJ', 'DEROG', 'DELINQ',\n",
       "                                                   'CLAGE', 'NINQ', 'CLNO',\n",
       "                                                   'DEBTINC']),\n",
       "                                                 ('pipe_cat',\n",
       "                                                  Pipeline(steps=[('imputer',\n",
       "                                                                   SimpleImputer(strategy='most_frequent')),\n",
       "                                                                  ('onehot',\n",
       "                                                                   OneHotEncoder(drop='first'))]),\n",
       "                                                  ['REASON', 'JOB'])])),\n",
       "                ('rfe', RFE(estimator=GradientBoostingClassifier())),\n",
       "                ('resampling', SMOTE(random_state=101)),\n",
       "                ('gbc', GradientBoostingClassifier())])"
      ]
     },
     "execution_count": 335,
     "metadata": {},
     "output_type": "execute_result"
    }
   ],
   "source": [
    "gradient_tuned"
   ]
  },
  {
   "cell_type": "code",
   "execution_count": 336,
   "id": "suburban-nicholas",
   "metadata": {},
   "outputs": [],
   "source": [
    "gradient_tuned_pred = gradient_tuned.predict(X_test)\n",
    "gradient_tuned_proba = gradient_tuned.predict_proba(X_test)"
   ]
  },
  {
   "cell_type": "code",
   "execution_count": 337,
   "id": "swedish-partnership",
   "metadata": {},
   "outputs": [
    {
     "name": "stdout",
     "output_type": "stream",
     "text": [
      "              precision    recall  f1-score   support\n",
      "\n",
      "           0       0.94      0.93      0.94       954\n",
      "           1       0.73      0.77      0.75       238\n",
      "\n",
      "    accuracy                           0.90      1192\n",
      "   macro avg       0.83      0.85      0.84      1192\n",
      "weighted avg       0.90      0.90      0.90      1192\n",
      "\n"
     ]
    }
   ],
   "source": [
    "print(classification_report(y_test, gradient_tuned_pred))"
   ]
  },
  {
   "cell_type": "code",
   "execution_count": null,
   "id": "sharp-appointment",
   "metadata": {},
   "outputs": [],
   "source": []
  },
  {
   "cell_type": "markdown",
   "id": "passing-project",
   "metadata": {},
   "source": [
    "# 3. EVALUATION"
   ]
  },
  {
   "cell_type": "code",
   "execution_count": 378,
   "id": "expressed-venue",
   "metadata": {},
   "outputs": [],
   "source": [
    "modelComparation = pd.DataFrame({\n",
    "    \"VotingClassifier_benchmark\": [recall_score(y_test, vc_benchmark_pred)],\n",
    "    \"LogisticRegression_tunned_rus\": [recall_score(y_test,logit_tuned_pred)],\n",
    "    \"RandomForest_tunned_rus\": [recall_score(y_test, rfc_tuned_pred)],\n",
    "    \"KNN_tunned_smote\": [recall_score(y_test, knn_tuned_pred)],\n",
    "    \"DecisionTree_tunned_rus\": [recall_score(y_test, tree_tuned_pred)],\n",
    "    \"VotingClassifier_tunned\": [recall_score(y_test, vc_tuned_pred)],\n",
    "    \"Adaptive_tree_tunned\": [recall_score(y_test, tree_adaboost_tuned_pred)],\n",
    "    \"Adaptive_logit_tunned\": [recall_score(y_test, logit_adaboost_tuned_pred)],\n",
    "    \"AdaptiveBoosting_tunned\": [recall_score(y_test,adaboost_tuned_pred)],\n",
    "    \"GradientBoosting_tunned\": [recall_score(y_test, gradient_tuned_pred)],\n",
    "}, index=['Recall Score'])\n",
    "df_model = modelComparation.T\n",
    "\n"
   ]
  },
  {
   "cell_type": "code",
   "execution_count": 379,
   "id": "catholic-deficit",
   "metadata": {},
   "outputs": [
    {
     "data": {
      "text/html": [
       "<div>\n",
       "<style scoped>\n",
       "    .dataframe tbody tr th:only-of-type {\n",
       "        vertical-align: middle;\n",
       "    }\n",
       "\n",
       "    .dataframe tbody tr th {\n",
       "        vertical-align: top;\n",
       "    }\n",
       "\n",
       "    .dataframe thead th {\n",
       "        text-align: right;\n",
       "    }\n",
       "</style>\n",
       "<table border=\"1\" class=\"dataframe\">\n",
       "  <thead>\n",
       "    <tr style=\"text-align: right;\">\n",
       "      <th></th>\n",
       "      <th>Recall Score</th>\n",
       "    </tr>\n",
       "  </thead>\n",
       "  <tbody>\n",
       "    <tr>\n",
       "      <th>RandomForest_tunned_rus</th>\n",
       "      <td>0.827731</td>\n",
       "    </tr>\n",
       "    <tr>\n",
       "      <th>VotingClassifier_tunned</th>\n",
       "      <td>0.819328</td>\n",
       "    </tr>\n",
       "    <tr>\n",
       "      <th>DecisionTree_tunned_rus</th>\n",
       "      <td>0.794118</td>\n",
       "    </tr>\n",
       "    <tr>\n",
       "      <th>Adaptive_tree_tunned</th>\n",
       "      <td>0.773109</td>\n",
       "    </tr>\n",
       "    <tr>\n",
       "      <th>GradientBoosting_tunned</th>\n",
       "      <td>0.773109</td>\n",
       "    </tr>\n",
       "    <tr>\n",
       "      <th>KNN_tunned_smote</th>\n",
       "      <td>0.764706</td>\n",
       "    </tr>\n",
       "    <tr>\n",
       "      <th>Adaptive_logit_tunned</th>\n",
       "      <td>0.739496</td>\n",
       "    </tr>\n",
       "    <tr>\n",
       "      <th>VotingClassifier_benchmark</th>\n",
       "      <td>0.735294</td>\n",
       "    </tr>\n",
       "    <tr>\n",
       "      <th>AdaptiveBoosting_tunned</th>\n",
       "      <td>0.710084</td>\n",
       "    </tr>\n",
       "    <tr>\n",
       "      <th>LogisticRegression_tunned_rus</th>\n",
       "      <td>0.655462</td>\n",
       "    </tr>\n",
       "  </tbody>\n",
       "</table>\n",
       "</div>"
      ],
      "text/plain": [
       "                               Recall Score\n",
       "RandomForest_tunned_rus            0.827731\n",
       "VotingClassifier_tunned            0.819328\n",
       "DecisionTree_tunned_rus            0.794118\n",
       "Adaptive_tree_tunned               0.773109\n",
       "GradientBoosting_tunned            0.773109\n",
       "KNN_tunned_smote                   0.764706\n",
       "Adaptive_logit_tunned              0.739496\n",
       "VotingClassifier_benchmark         0.735294\n",
       "AdaptiveBoosting_tunned            0.710084\n",
       "LogisticRegression_tunned_rus      0.655462"
      ]
     },
     "execution_count": 379,
     "metadata": {},
     "output_type": "execute_result"
    }
   ],
   "source": [
    "df_model.sort_values(by=['Recall Score'], ascending=False)"
   ]
  },
  {
   "cell_type": "markdown",
   "id": "chemical-fellow",
   "metadata": {},
   "source": [
    "Berdasarkan tabel di atas, terlihat bahwa model RandomForest_tunned_rus memiliki Recall Score yang paling tinggi. Sehingga model tersebut akan digunakan untuk model prediksi HOME EQUITY LOAN."
   ]
  },
  {
   "cell_type": "markdown",
   "id": "searching-reservoir",
   "metadata": {},
   "source": [
    "# 4. RANDOM FOREST CLASSIFIER-TUNNED-RUS"
   ]
  },
  {
   "cell_type": "code",
   "execution_count": 28,
   "id": "better-calgary",
   "metadata": {},
   "outputs": [
    {
     "data": {
      "text/plain": [
       "<sklearn.metrics._plot.confusion_matrix.ConfusionMatrixDisplay at 0x220b71bd040>"
      ]
     },
     "execution_count": 28,
     "metadata": {},
     "output_type": "execute_result"
    },
    {
     "data": {
      "image/png": "[encoded data removed]",
      "text/plain": [
       "<Figure size 432x288 with 2 Axes>"
      ]
     },
     "metadata": {
      "needs_background": "light"
     },
     "output_type": "display_data"
    }
   ],
   "source": [
    "rfc_pipe_combine_tunned.fit(X_train_val, y_train_val)\n",
    "plot_confusion_matrix(rfc_pipe_combine_tunned , X_test, y_test)\n"
   ]
  },
  {
   "cell_type": "code",
   "execution_count": 29,
   "id": "ranging-cutting",
   "metadata": {},
   "outputs": [
    {
     "data": {
      "text/plain": [
       "<sklearn.metrics._plot.confusion_matrix.ConfusionMatrixDisplay at 0x220b8b26130>"
      ]
     },
     "execution_count": 29,
     "metadata": {},
     "output_type": "execute_result"
    },
    {
     "data": {
      "image/png": "[encoded data removed]",
      "text/plain": [
       "<Figure size 432x288 with 2 Axes>"
      ]
     },
     "metadata": {
      "needs_background": "light"
     },
     "output_type": "display_data"
    }
   ],
   "source": [
    "rfc_tuned.fit(X_train_val, y_train_val)\n",
    "plot_confusion_matrix(rfc_tuned, X_test, y_test)"
   ]
  },
  {
   "cell_type": "markdown",
   "id": "impressed-selling",
   "metadata": {},
   "source": [
    "Berdasarkan confusion table di atas, walaupun recall score semakin membaik tetapi hanya  ada perubahan kecil pada  FN maka  akan dicari \"Best Threshold\" menggunakan model RandomForest_tunned_rus."
   ]
  },
  {
   "cell_type": "code",
   "execution_count": 30,
   "id": "labeled-fitting",
   "metadata": {},
   "outputs": [
    {
     "data": {
      "text/plain": [
       "<sklearn.metrics._plot.precision_recall_curve.PrecisionRecallDisplay at 0x220b86b9fa0>"
      ]
     },
     "execution_count": 30,
     "metadata": {},
     "output_type": "execute_result"
    },
    {
     "data": {
      "image/png": "[encoded data removed]",
      "text/plain": [
       "<Figure size 432x288 with 1 Axes>"
      ]
     },
     "metadata": {
      "needs_background": "light"
     },
     "output_type": "display_data"
    }
   ],
   "source": [
    "plot_precision_recall_curve(rfc_tuned, X_test, y_test)"
   ]
  },
  {
   "cell_type": "code",
   "execution_count": 31,
   "id": "reported-footage",
   "metadata": {},
   "outputs": [
    {
     "data": {
      "text/html": [
       "<div>\n",
       "<style scoped>\n",
       "    .dataframe tbody tr th:only-of-type {\n",
       "        vertical-align: middle;\n",
       "    }\n",
       "\n",
       "    .dataframe tbody tr th {\n",
       "        vertical-align: top;\n",
       "    }\n",
       "\n",
       "    .dataframe thead th {\n",
       "        text-align: right;\n",
       "    }\n",
       "</style>\n",
       "<table border=\"1\" class=\"dataframe\">\n",
       "  <thead>\n",
       "    <tr style=\"text-align: right;\">\n",
       "      <th></th>\n",
       "      <th>precision</th>\n",
       "      <th>recall</th>\n",
       "      <th>threshold</th>\n",
       "    </tr>\n",
       "  </thead>\n",
       "  <tbody>\n",
       "    <tr>\n",
       "      <th>0</th>\n",
       "      <td>0.218148</td>\n",
       "      <td>1.000000</td>\n",
       "      <td>0.038083</td>\n",
       "    </tr>\n",
       "    <tr>\n",
       "      <th>1</th>\n",
       "      <td>0.217431</td>\n",
       "      <td>0.995798</td>\n",
       "      <td>0.038679</td>\n",
       "    </tr>\n",
       "    <tr>\n",
       "      <th>2</th>\n",
       "      <td>0.217631</td>\n",
       "      <td>0.995798</td>\n",
       "      <td>0.038718</td>\n",
       "    </tr>\n",
       "    <tr>\n",
       "      <th>3</th>\n",
       "      <td>0.217831</td>\n",
       "      <td>0.995798</td>\n",
       "      <td>0.039464</td>\n",
       "    </tr>\n",
       "    <tr>\n",
       "      <th>4</th>\n",
       "      <td>0.218031</td>\n",
       "      <td>0.995798</td>\n",
       "      <td>0.039833</td>\n",
       "    </tr>\n",
       "    <tr>\n",
       "      <th>...</th>\n",
       "      <td>...</td>\n",
       "      <td>...</td>\n",
       "      <td>...</td>\n",
       "    </tr>\n",
       "    <tr>\n",
       "      <th>1083</th>\n",
       "      <td>0.800000</td>\n",
       "      <td>0.016807</td>\n",
       "      <td>0.979167</td>\n",
       "    </tr>\n",
       "    <tr>\n",
       "      <th>1084</th>\n",
       "      <td>0.750000</td>\n",
       "      <td>0.012605</td>\n",
       "      <td>0.980250</td>\n",
       "    </tr>\n",
       "    <tr>\n",
       "      <th>1085</th>\n",
       "      <td>0.666667</td>\n",
       "      <td>0.008403</td>\n",
       "      <td>0.982869</td>\n",
       "    </tr>\n",
       "    <tr>\n",
       "      <th>1086</th>\n",
       "      <td>1.000000</td>\n",
       "      <td>0.008403</td>\n",
       "      <td>0.983917</td>\n",
       "    </tr>\n",
       "    <tr>\n",
       "      <th>1087</th>\n",
       "      <td>1.000000</td>\n",
       "      <td>0.004202</td>\n",
       "      <td>0.985821</td>\n",
       "    </tr>\n",
       "  </tbody>\n",
       "</table>\n",
       "<p>1088 rows × 3 columns</p>\n",
       "</div>"
      ],
      "text/plain": [
       "      precision    recall  threshold\n",
       "0      0.218148  1.000000   0.038083\n",
       "1      0.217431  0.995798   0.038679\n",
       "2      0.217631  0.995798   0.038718\n",
       "3      0.217831  0.995798   0.039464\n",
       "4      0.218031  0.995798   0.039833\n",
       "...         ...       ...        ...\n",
       "1083   0.800000  0.016807   0.979167\n",
       "1084   0.750000  0.012605   0.980250\n",
       "1085   0.666667  0.008403   0.982869\n",
       "1086   1.000000  0.008403   0.983917\n",
       "1087   1.000000  0.004202   0.985821\n",
       "\n",
       "[1088 rows x 3 columns]"
      ]
     },
     "execution_count": 31,
     "metadata": {},
     "output_type": "execute_result"
    }
   ],
   "source": [
    "p, r, t = precision_recall_curve(y_test, rfc_tuned.predict_proba(X_test)[:,1])\n",
    "len(p[:-1]), len(r[:-1]), len(t)\n",
    "pr_df = pd.DataFrame({'precision': p[:-1], 'recall': r[:-1], 'threshold': t})\n",
    "pr_df"
   ]
  },
  {
   "cell_type": "code",
   "execution_count": 38,
   "id": "oriented-pipeline",
   "metadata": {},
   "outputs": [
    {
     "data": {
      "text/html": [
       "<div>\n",
       "<style scoped>\n",
       "    .dataframe tbody tr th:only-of-type {\n",
       "        vertical-align: middle;\n",
       "    }\n",
       "\n",
       "    .dataframe tbody tr th {\n",
       "        vertical-align: top;\n",
       "    }\n",
       "\n",
       "    .dataframe thead th {\n",
       "        text-align: right;\n",
       "    }\n",
       "</style>\n",
       "<table border=\"1\" class=\"dataframe\">\n",
       "  <thead>\n",
       "    <tr style=\"text-align: right;\">\n",
       "      <th></th>\n",
       "      <th>precision</th>\n",
       "      <th>recall</th>\n",
       "      <th>threshold</th>\n",
       "    </tr>\n",
       "  </thead>\n",
       "  <tbody>\n",
       "    <tr>\n",
       "      <th>728</th>\n",
       "      <td>0.567867</td>\n",
       "      <td>0.861345</td>\n",
       "      <td>0.458710</td>\n",
       "    </tr>\n",
       "    <tr>\n",
       "      <th>729</th>\n",
       "      <td>0.569444</td>\n",
       "      <td>0.861345</td>\n",
       "      <td>0.460456</td>\n",
       "    </tr>\n",
       "    <tr>\n",
       "      <th>730</th>\n",
       "      <td>0.571031</td>\n",
       "      <td>0.861345</td>\n",
       "      <td>0.461196</td>\n",
       "    </tr>\n",
       "    <tr>\n",
       "      <th>731</th>\n",
       "      <td>0.572626</td>\n",
       "      <td>0.861345</td>\n",
       "      <td>0.462502</td>\n",
       "    </tr>\n",
       "    <tr>\n",
       "      <th>732</th>\n",
       "      <td>0.574230</td>\n",
       "      <td>0.861345</td>\n",
       "      <td>0.465266</td>\n",
       "    </tr>\n",
       "    <tr>\n",
       "      <th>733</th>\n",
       "      <td>0.573034</td>\n",
       "      <td>0.857143</td>\n",
       "      <td>0.467512</td>\n",
       "    </tr>\n",
       "    <tr>\n",
       "      <th>734</th>\n",
       "      <td>0.574648</td>\n",
       "      <td>0.857143</td>\n",
       "      <td>0.468181</td>\n",
       "    </tr>\n",
       "    <tr>\n",
       "      <th>735</th>\n",
       "      <td>0.576271</td>\n",
       "      <td>0.857143</td>\n",
       "      <td>0.469312</td>\n",
       "    </tr>\n",
       "    <tr>\n",
       "      <th>736</th>\n",
       "      <td>0.577904</td>\n",
       "      <td>0.857143</td>\n",
       "      <td>0.470040</td>\n",
       "    </tr>\n",
       "    <tr>\n",
       "      <th>737</th>\n",
       "      <td>0.579545</td>\n",
       "      <td>0.857143</td>\n",
       "      <td>0.470524</td>\n",
       "    </tr>\n",
       "    <tr>\n",
       "      <th>738</th>\n",
       "      <td>0.578348</td>\n",
       "      <td>0.852941</td>\n",
       "      <td>0.471208</td>\n",
       "    </tr>\n",
       "    <tr>\n",
       "      <th>739</th>\n",
       "      <td>0.577143</td>\n",
       "      <td>0.848739</td>\n",
       "      <td>0.471980</td>\n",
       "    </tr>\n",
       "    <tr>\n",
       "      <th>740</th>\n",
       "      <td>0.578797</td>\n",
       "      <td>0.848739</td>\n",
       "      <td>0.475121</td>\n",
       "    </tr>\n",
       "    <tr>\n",
       "      <th>741</th>\n",
       "      <td>0.580460</td>\n",
       "      <td>0.848739</td>\n",
       "      <td>0.477798</td>\n",
       "    </tr>\n",
       "    <tr>\n",
       "      <th>742</th>\n",
       "      <td>0.579251</td>\n",
       "      <td>0.844538</td>\n",
       "      <td>0.479589</td>\n",
       "    </tr>\n",
       "    <tr>\n",
       "      <th>743</th>\n",
       "      <td>0.580925</td>\n",
       "      <td>0.844538</td>\n",
       "      <td>0.480020</td>\n",
       "    </tr>\n",
       "    <tr>\n",
       "      <th>744</th>\n",
       "      <td>0.582609</td>\n",
       "      <td>0.844538</td>\n",
       "      <td>0.480806</td>\n",
       "    </tr>\n",
       "    <tr>\n",
       "      <th>745</th>\n",
       "      <td>0.584302</td>\n",
       "      <td>0.844538</td>\n",
       "      <td>0.484712</td>\n",
       "    </tr>\n",
       "    <tr>\n",
       "      <th>746</th>\n",
       "      <td>0.586006</td>\n",
       "      <td>0.844538</td>\n",
       "      <td>0.491131</td>\n",
       "    </tr>\n",
       "    <tr>\n",
       "      <th>747</th>\n",
       "      <td>0.587719</td>\n",
       "      <td>0.844538</td>\n",
       "      <td>0.491369</td>\n",
       "    </tr>\n",
       "    <tr>\n",
       "      <th>748</th>\n",
       "      <td>0.589443</td>\n",
       "      <td>0.844538</td>\n",
       "      <td>0.493536</td>\n",
       "    </tr>\n",
       "    <tr>\n",
       "      <th>749</th>\n",
       "      <td>0.591176</td>\n",
       "      <td>0.844538</td>\n",
       "      <td>0.493625</td>\n",
       "    </tr>\n",
       "    <tr>\n",
       "      <th>750</th>\n",
       "      <td>0.592920</td>\n",
       "      <td>0.844538</td>\n",
       "      <td>0.494796</td>\n",
       "    </tr>\n",
       "    <tr>\n",
       "      <th>751</th>\n",
       "      <td>0.594675</td>\n",
       "      <td>0.844538</td>\n",
       "      <td>0.495413</td>\n",
       "    </tr>\n",
       "    <tr>\n",
       "      <th>752</th>\n",
       "      <td>0.596439</td>\n",
       "      <td>0.844538</td>\n",
       "      <td>0.495565</td>\n",
       "    </tr>\n",
       "    <tr>\n",
       "      <th>753</th>\n",
       "      <td>0.598214</td>\n",
       "      <td>0.844538</td>\n",
       "      <td>0.495653</td>\n",
       "    </tr>\n",
       "    <tr>\n",
       "      <th>754</th>\n",
       "      <td>0.597015</td>\n",
       "      <td>0.840336</td>\n",
       "      <td>0.496595</td>\n",
       "    </tr>\n",
       "    <tr>\n",
       "      <th>755</th>\n",
       "      <td>0.598802</td>\n",
       "      <td>0.840336</td>\n",
       "      <td>0.496970</td>\n",
       "    </tr>\n",
       "    <tr>\n",
       "      <th>756</th>\n",
       "      <td>0.600601</td>\n",
       "      <td>0.840336</td>\n",
       "      <td>0.497377</td>\n",
       "    </tr>\n",
       "    <tr>\n",
       "      <th>757</th>\n",
       "      <td>0.602410</td>\n",
       "      <td>0.840336</td>\n",
       "      <td>0.497492</td>\n",
       "    </tr>\n",
       "    <tr>\n",
       "      <th>758</th>\n",
       "      <td>0.604230</td>\n",
       "      <td>0.840336</td>\n",
       "      <td>0.497494</td>\n",
       "    </tr>\n",
       "    <tr>\n",
       "      <th>759</th>\n",
       "      <td>0.606061</td>\n",
       "      <td>0.840336</td>\n",
       "      <td>0.498728</td>\n",
       "    </tr>\n",
       "    <tr>\n",
       "      <th>760</th>\n",
       "      <td>0.604863</td>\n",
       "      <td>0.836134</td>\n",
       "      <td>0.498897</td>\n",
       "    </tr>\n",
       "    <tr>\n",
       "      <th>761</th>\n",
       "      <td>0.606707</td>\n",
       "      <td>0.836134</td>\n",
       "      <td>0.500125</td>\n",
       "    </tr>\n",
       "    <tr>\n",
       "      <th>762</th>\n",
       "      <td>0.605505</td>\n",
       "      <td>0.831933</td>\n",
       "      <td>0.501012</td>\n",
       "    </tr>\n",
       "    <tr>\n",
       "      <th>763</th>\n",
       "      <td>0.607362</td>\n",
       "      <td>0.831933</td>\n",
       "      <td>0.501133</td>\n",
       "    </tr>\n",
       "    <tr>\n",
       "      <th>764</th>\n",
       "      <td>0.609231</td>\n",
       "      <td>0.831933</td>\n",
       "      <td>0.502177</td>\n",
       "    </tr>\n",
       "    <tr>\n",
       "      <th>765</th>\n",
       "      <td>0.611111</td>\n",
       "      <td>0.831933</td>\n",
       "      <td>0.502952</td>\n",
       "    </tr>\n",
       "    <tr>\n",
       "      <th>766</th>\n",
       "      <td>0.613003</td>\n",
       "      <td>0.831933</td>\n",
       "      <td>0.505179</td>\n",
       "    </tr>\n",
       "    <tr>\n",
       "      <th>767</th>\n",
       "      <td>0.614907</td>\n",
       "      <td>0.831933</td>\n",
       "      <td>0.505661</td>\n",
       "    </tr>\n",
       "  </tbody>\n",
       "</table>\n",
       "</div>"
      ],
      "text/plain": [
       "     precision    recall  threshold\n",
       "728   0.567867  0.861345   0.458710\n",
       "729   0.569444  0.861345   0.460456\n",
       "730   0.571031  0.861345   0.461196\n",
       "731   0.572626  0.861345   0.462502\n",
       "732   0.574230  0.861345   0.465266\n",
       "733   0.573034  0.857143   0.467512\n",
       "734   0.574648  0.857143   0.468181\n",
       "735   0.576271  0.857143   0.469312\n",
       "736   0.577904  0.857143   0.470040\n",
       "737   0.579545  0.857143   0.470524\n",
       "738   0.578348  0.852941   0.471208\n",
       "739   0.577143  0.848739   0.471980\n",
       "740   0.578797  0.848739   0.475121\n",
       "741   0.580460  0.848739   0.477798\n",
       "742   0.579251  0.844538   0.479589\n",
       "743   0.580925  0.844538   0.480020\n",
       "744   0.582609  0.844538   0.480806\n",
       "745   0.584302  0.844538   0.484712\n",
       "746   0.586006  0.844538   0.491131\n",
       "747   0.587719  0.844538   0.491369\n",
       "748   0.589443  0.844538   0.493536\n",
       "749   0.591176  0.844538   0.493625\n",
       "750   0.592920  0.844538   0.494796\n",
       "751   0.594675  0.844538   0.495413\n",
       "752   0.596439  0.844538   0.495565\n",
       "753   0.598214  0.844538   0.495653\n",
       "754   0.597015  0.840336   0.496595\n",
       "755   0.598802  0.840336   0.496970\n",
       "756   0.600601  0.840336   0.497377\n",
       "757   0.602410  0.840336   0.497492\n",
       "758   0.604230  0.840336   0.497494\n",
       "759   0.606061  0.840336   0.498728\n",
       "760   0.604863  0.836134   0.498897\n",
       "761   0.606707  0.836134   0.500125\n",
       "762   0.605505  0.831933   0.501012\n",
       "763   0.607362  0.831933   0.501133\n",
       "764   0.609231  0.831933   0.502177\n",
       "765   0.611111  0.831933   0.502952\n",
       "766   0.613003  0.831933   0.505179\n",
       "767   0.614907  0.831933   0.505661"
      ]
     },
     "execution_count": 38,
     "metadata": {},
     "output_type": "execute_result"
    }
   ],
   "source": [
    "pr_df[(pr_df['recall'].between(0.83, 0.95))].tail(40)"
   ]
  },
  {
   "cell_type": "code",
   "execution_count": 39,
   "id": "liable-making",
   "metadata": {},
   "outputs": [
    {
     "data": {
      "text/plain": [
       "<matplotlib.lines.Line2D at 0x220bd07a4c0>"
      ]
     },
     "execution_count": 39,
     "metadata": {},
     "output_type": "execute_result"
    },
    {
     "data": {
      "image/png": "[encoded data removed]",
      "text/plain": [
       "<Figure size 1152x576 with 2 Axes>"
      ]
     },
     "metadata": {
      "needs_background": "light"
     },
     "output_type": "display_data"
    }
   ],
   "source": [
    "proba1 = rfc_tuned.predict_proba(X_test)[:,1]\n",
    "y_pred = rfc_tuned.predict(X_test)\n",
    "thresh = 0.458710\n",
    "pred_03 = np.where(proba1 > thresh, 1, 0)\n",
    "res_df = pd.DataFrame({'proba1': proba1, 'y_pred': y_pred, 'y_pred03': pred_03})\n",
    "plt.figure(figsize=(16,8))\n",
    "plt.subplot(121)\n",
    "sns.scatterplot(x=range(len(res_df)), y=res_df['proba1'], hue=res_df['y_pred03'])\n",
    "plt.axhline(thresh, color='red')\n",
    "\n",
    "plt.subplot(122)\n",
    "sns.scatterplot(x=range(len(res_df)), y=res_df['proba1'], hue=res_df['y_pred'])\n",
    "plt.axhline(0.5, color='red')"
   ]
  },
  {
   "cell_type": "markdown",
   "id": "clear-messaging",
   "metadata": {},
   "source": [
    "Tujuan mencari model machine learning pada kasus ini untuk menyeleksi dan mengklasifikasi secara cepat, tepat,serta akurat pemohon mana saja yang layak mendapatkan pinjaman sehingga meminimalisir kerugian perusahaan yang disebabkan oleh para pemohon yang gagal membayar pinjaman. Oleh karena itu, fokus pada kasus ini adalah meminimalkan False Negative atau menaikkan recall setinggi mungkin dengan Presisi yang masih toleran. Jadi dipilihlah threshold baru yaitu 0.458710"
   ]
  },
  {
   "cell_type": "markdown",
   "id": "environmental-performance",
   "metadata": {},
   "source": [
    "# 5 SAVE MODEL"
   ]
  },
  {
   "cell_type": "markdown",
   "id": "actual-eight",
   "metadata": {},
   "source": [
    "## PICKLE SAVE"
   ]
  },
  {
   "cell_type": "code",
   "execution_count": 40,
   "id": "material-labor",
   "metadata": {},
   "outputs": [],
   "source": [
    "import pickle"
   ]
  },
  {
   "cell_type": "code",
   "execution_count": 41,
   "id": "automatic-poultry",
   "metadata": {},
   "outputs": [],
   "source": [
    "rfc_tuned.fit(X,y)\n",
    "filename = 'rfc_final.sav'\n",
    "pickle.dump(rfc_tuned, open(filename, 'wb'))"
   ]
  },
  {
   "cell_type": "code",
   "execution_count": 3,
   "id": "divine-entry",
   "metadata": {},
   "outputs": [],
   "source": [
    "# import pickle"
   ]
  },
  {
   "cell_type": "code",
   "execution_count": 374,
   "id": "cutting-university",
   "metadata": {},
   "outputs": [],
   "source": [
    "# filename = 'rfc_final.sav'\n",
    "# loaded_model = pickle.load((open(filename, 'rb')))"
   ]
  },
  {
   "cell_type": "code",
   "execution_count": 376,
   "id": "curious-accuracy",
   "metadata": {},
   "outputs": [],
   "source": [
    "# loaded_model"
   ]
  },
  {
   "cell_type": "code",
   "execution_count": null,
   "id": "crazy-porter",
   "metadata": {},
   "outputs": [],
   "source": []
  },
  {
   "cell_type": "code",
   "execution_count": null,
   "id": "vocational-frame",
   "metadata": {},
   "outputs": [],
   "source": []
  }
 ],
 "metadata": {
  "kernelspec": {
   "display_name": "Python 3",
   "language": "python",
   "name": "python3"
  },
  "language_info": {
   "codemirror_mode": {
    "name": "ipython",
    "version": 3
   },
   "file_extension": ".py",
   "mimetype": "text/x-python",
   "name": "python",
   "nbconvert_exporter": "python",
   "pygments_lexer": "ipython3",
   "version": "3.7.4"
  }
 },
 "nbformat": 4,
 "nbformat_minor": 5
}
